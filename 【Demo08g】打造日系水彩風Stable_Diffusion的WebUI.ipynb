{
  "nbformat": 4,
  "nbformat_minor": 0,
  "metadata": {
    "colab": {
      "provenance": [],
      "authorship_tag": "ABX9TyP8mIgJuy9C69Vvc2iQt92M",
      "include_colab_link": true
    },
    "kernelspec": {
      "name": "python3",
      "display_name": "Python 3"
    },
    "language_info": {
      "name": "python"
    }
  },
  "cells": [
    {
      "cell_type": "markdown",
      "metadata": {
        "id": "view-in-github",
        "colab_type": "text"
      },
      "source": [
        "<a href=\"https://colab.research.google.com/github/yuzukiiii16/generative_ai/blob/main/%E3%80%90Demo08g%E3%80%91%E6%89%93%E9%80%A0%E6%97%A5%E7%B3%BB%E6%B0%B4%E5%BD%A9%E9%A2%A8Stable_Diffusion%E7%9A%84WebUI.ipynb\" target=\"_parent\"><img src=\"https://colab.research.google.com/assets/colab-badge.svg\" alt=\"Open In Colab\"/></a>"
      ]
    },
    {
      "cell_type": "markdown",
      "source": [
        "無法上傳github所以附上連結：\n",
        "https://colab.research.google.com/drive/1nTPuzT-yN_Xm1GL8GzX8svQk5a1Dtc1a?usp=sharing"
      ],
      "metadata": {
        "id": "fVcDR6WqXRz4"
      }
    }
  ]
}