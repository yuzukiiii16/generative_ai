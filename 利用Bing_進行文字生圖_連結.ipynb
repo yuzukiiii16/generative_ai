{
  "nbformat": 4,
  "nbformat_minor": 0,
  "metadata": {
    "colab": {
      "provenance": [],
      "authorship_tag": "ABX9TyMweUlUACa6pK0IzLED1cyo",
      "include_colab_link": true
    },
    "kernelspec": {
      "name": "python3",
      "display_name": "Python 3"
    },
    "language_info": {
      "name": "python"
    }
  },
  "cells": [
    {
      "cell_type": "markdown",
      "metadata": {
        "id": "view-in-github",
        "colab_type": "text"
      },
      "source": [
        "<a href=\"https://colab.research.google.com/github/yuzukiiii16/generative_ai/blob/main/%E5%88%A9%E7%94%A8Bing_%E9%80%B2%E8%A1%8C%E6%96%87%E5%AD%97%E7%94%9F%E5%9C%96_%E9%80%A3%E7%B5%90.ipynb\" target=\"_parent\"><img src=\"https://colab.research.google.com/assets/colab-badge.svg\" alt=\"Open In Colab\"/></a>"
      ]
    },
    {
      "cell_type": "markdown",
      "source": [
        "因為跑不出來，故放上URL\n",
        "https://colab.research.google.com/drive/1zLu0oA24D_xfFC2eKE6AW_qH22IZuiG1?usp=sharing"
      ],
      "metadata": {
        "id": "1n550Et-91m1"
      }
    }
  ]
}