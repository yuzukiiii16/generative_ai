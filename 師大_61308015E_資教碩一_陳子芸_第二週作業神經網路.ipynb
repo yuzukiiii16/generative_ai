{
  "nbformat": 4,
  "nbformat_minor": 0,
  "metadata": {
    "anaconda-cloud": {},
    "colab": {
      "provenance": [],
      "collapsed_sections": [
        "fOPj5Mh50Avk",
        "mQmajlcm0Avl",
        "m41UZZdF0Avm",
        "5znBU0DV0Avo",
        "kV3613iy0Avp"
      ],
      "gpuType": "T4"
    },
    "kernelspec": {
      "display_name": "Python 3",
      "name": "python3"
    },
    "language_info": {
      "name": "python"
    },
    "widgets": {
      "application/vnd.jupyter.widget-state+json": {
        "7e8b111417b64b868b30f0468005d39d": {
          "model_module": "@jupyter-widgets/controls",
          "model_name": "VBoxModel",
          "model_module_version": "1.5.0",
          "state": {
            "_dom_classes": [
              "widget-interact"
            ],
            "_model_module": "@jupyter-widgets/controls",
            "_model_module_version": "1.5.0",
            "_model_name": "VBoxModel",
            "_view_count": null,
            "_view_module": "@jupyter-widgets/controls",
            "_view_module_version": "1.5.0",
            "_view_name": "VBoxView",
            "box_style": "",
            "children": [
              "IPY_MODEL_265003f5c35c4237bf556fe2d4e885ab",
              "IPY_MODEL_778133f958da486bb0075e355c6f3dc0",
              "IPY_MODEL_4f062879ab664fe9b81c784b9b5654ab"
            ],
            "layout": "IPY_MODEL_6f8906d6701f49a892e49c003c1d3df8"
          }
        },
        "265003f5c35c4237bf556fe2d4e885ab": {
          "model_module": "@jupyter-widgets/controls",
          "model_name": "IntSliderModel",
          "model_module_version": "1.5.0",
          "state": {
            "_dom_classes": [],
            "_model_module": "@jupyter-widgets/controls",
            "_model_module_version": "1.5.0",
            "_model_name": "IntSliderModel",
            "_view_count": null,
            "_view_module": "@jupyter-widgets/controls",
            "_view_module_version": "1.5.0",
            "_view_name": "IntSliderView",
            "continuous_update": true,
            "description": "測試編號",
            "description_tooltip": null,
            "disabled": false,
            "layout": "IPY_MODEL_89e7c08ef1e34cc48d1facbf44a88920",
            "max": 9999,
            "min": 0,
            "orientation": "horizontal",
            "readout": true,
            "readout_format": "d",
            "step": 1,
            "style": "IPY_MODEL_ae7549debae8404da80f40a3a8934681",
            "value": 6826
          }
        },
        "778133f958da486bb0075e355c6f3dc0": {
          "model_module": "@jupyter-widgets/controls",
          "model_name": "ButtonModel",
          "model_module_version": "1.5.0",
          "state": {
            "_dom_classes": [],
            "_model_module": "@jupyter-widgets/controls",
            "_model_module_version": "1.5.0",
            "_model_name": "ButtonModel",
            "_view_count": null,
            "_view_module": "@jupyter-widgets/controls",
            "_view_module_version": "1.5.0",
            "_view_name": "ButtonView",
            "button_style": "",
            "description": "Run Interact",
            "disabled": false,
            "icon": "",
            "layout": "IPY_MODEL_2a04c27f99b745d0919372d8b949dc5a",
            "style": "IPY_MODEL_9504db4044d64a74b10f943fbbd54612",
            "tooltip": ""
          }
        },
        "4f062879ab664fe9b81c784b9b5654ab": {
          "model_module": "@jupyter-widgets/output",
          "model_name": "OutputModel",
          "model_module_version": "1.0.0",
          "state": {
            "_dom_classes": [],
            "_model_module": "@jupyter-widgets/output",
            "_model_module_version": "1.0.0",
            "_model_name": "OutputModel",
            "_view_count": null,
            "_view_module": "@jupyter-widgets/output",
            "_view_module_version": "1.0.0",
            "_view_name": "OutputView",
            "layout": "IPY_MODEL_053a0f918a984666819714dbe2344b07",
            "msg_id": "",
            "outputs": [
              {
                "output_type": "stream",
                "name": "stdout",
                "text": [
                  "神經網路判斷為: 8\n"
                ]
              },
              {
                "output_type": "display_data",
                "data": {
                  "text/plain": "<Figure size 640x480 with 1 Axes>",
                  "image/png": "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\n"
                },
                "metadata": {}
              }
            ]
          }
        },
        "6f8906d6701f49a892e49c003c1d3df8": {
          "model_module": "@jupyter-widgets/base",
          "model_name": "LayoutModel",
          "model_module_version": "1.2.0",
          "state": {
            "_model_module": "@jupyter-widgets/base",
            "_model_module_version": "1.2.0",
            "_model_name": "LayoutModel",
            "_view_count": null,
            "_view_module": "@jupyter-widgets/base",
            "_view_module_version": "1.2.0",
            "_view_name": "LayoutView",
            "align_content": null,
            "align_items": null,
            "align_self": null,
            "border": null,
            "bottom": null,
            "display": null,
            "flex": null,
            "flex_flow": null,
            "grid_area": null,
            "grid_auto_columns": null,
            "grid_auto_flow": null,
            "grid_auto_rows": null,
            "grid_column": null,
            "grid_gap": null,
            "grid_row": null,
            "grid_template_areas": null,
            "grid_template_columns": null,
            "grid_template_rows": null,
            "height": null,
            "justify_content": null,
            "justify_items": null,
            "left": null,
            "margin": null,
            "max_height": null,
            "max_width": null,
            "min_height": null,
            "min_width": null,
            "object_fit": null,
            "object_position": null,
            "order": null,
            "overflow": null,
            "overflow_x": null,
            "overflow_y": null,
            "padding": null,
            "right": null,
            "top": null,
            "visibility": null,
            "width": null
          }
        },
        "89e7c08ef1e34cc48d1facbf44a88920": {
          "model_module": "@jupyter-widgets/base",
          "model_name": "LayoutModel",
          "model_module_version": "1.2.0",
          "state": {
            "_model_module": "@jupyter-widgets/base",
            "_model_module_version": "1.2.0",
            "_model_name": "LayoutModel",
            "_view_count": null,
            "_view_module": "@jupyter-widgets/base",
            "_view_module_version": "1.2.0",
            "_view_name": "LayoutView",
            "align_content": null,
            "align_items": null,
            "align_self": null,
            "border": null,
            "bottom": null,
            "display": null,
            "flex": null,
            "flex_flow": null,
            "grid_area": null,
            "grid_auto_columns": null,
            "grid_auto_flow": null,
            "grid_auto_rows": null,
            "grid_column": null,
            "grid_gap": null,
            "grid_row": null,
            "grid_template_areas": null,
            "grid_template_columns": null,
            "grid_template_rows": null,
            "height": null,
            "justify_content": null,
            "justify_items": null,
            "left": null,
            "margin": null,
            "max_height": null,
            "max_width": null,
            "min_height": null,
            "min_width": null,
            "object_fit": null,
            "object_position": null,
            "order": null,
            "overflow": null,
            "overflow_x": null,
            "overflow_y": null,
            "padding": null,
            "right": null,
            "top": null,
            "visibility": null,
            "width": null
          }
        },
        "ae7549debae8404da80f40a3a8934681": {
          "model_module": "@jupyter-widgets/controls",
          "model_name": "SliderStyleModel",
          "model_module_version": "1.5.0",
          "state": {
            "_model_module": "@jupyter-widgets/controls",
            "_model_module_version": "1.5.0",
            "_model_name": "SliderStyleModel",
            "_view_count": null,
            "_view_module": "@jupyter-widgets/base",
            "_view_module_version": "1.2.0",
            "_view_name": "StyleView",
            "description_width": "",
            "handle_color": null
          }
        },
        "2a04c27f99b745d0919372d8b949dc5a": {
          "model_module": "@jupyter-widgets/base",
          "model_name": "LayoutModel",
          "model_module_version": "1.2.0",
          "state": {
            "_model_module": "@jupyter-widgets/base",
            "_model_module_version": "1.2.0",
            "_model_name": "LayoutModel",
            "_view_count": null,
            "_view_module": "@jupyter-widgets/base",
            "_view_module_version": "1.2.0",
            "_view_name": "LayoutView",
            "align_content": null,
            "align_items": null,
            "align_self": null,
            "border": null,
            "bottom": null,
            "display": null,
            "flex": null,
            "flex_flow": null,
            "grid_area": null,
            "grid_auto_columns": null,
            "grid_auto_flow": null,
            "grid_auto_rows": null,
            "grid_column": null,
            "grid_gap": null,
            "grid_row": null,
            "grid_template_areas": null,
            "grid_template_columns": null,
            "grid_template_rows": null,
            "height": null,
            "justify_content": null,
            "justify_items": null,
            "left": null,
            "margin": null,
            "max_height": null,
            "max_width": null,
            "min_height": null,
            "min_width": null,
            "object_fit": null,
            "object_position": null,
            "order": null,
            "overflow": null,
            "overflow_x": null,
            "overflow_y": null,
            "padding": null,
            "right": null,
            "top": null,
            "visibility": null,
            "width": null
          }
        },
        "9504db4044d64a74b10f943fbbd54612": {
          "model_module": "@jupyter-widgets/controls",
          "model_name": "ButtonStyleModel",
          "model_module_version": "1.5.0",
          "state": {
            "_model_module": "@jupyter-widgets/controls",
            "_model_module_version": "1.5.0",
            "_model_name": "ButtonStyleModel",
            "_view_count": null,
            "_view_module": "@jupyter-widgets/base",
            "_view_module_version": "1.2.0",
            "_view_name": "StyleView",
            "button_color": null,
            "font_weight": ""
          }
        },
        "053a0f918a984666819714dbe2344b07": {
          "model_module": "@jupyter-widgets/base",
          "model_name": "LayoutModel",
          "model_module_version": "1.2.0",
          "state": {
            "_model_module": "@jupyter-widgets/base",
            "_model_module_version": "1.2.0",
            "_model_name": "LayoutModel",
            "_view_count": null,
            "_view_module": "@jupyter-widgets/base",
            "_view_module_version": "1.2.0",
            "_view_name": "LayoutView",
            "align_content": null,
            "align_items": null,
            "align_self": null,
            "border": null,
            "bottom": null,
            "display": null,
            "flex": null,
            "flex_flow": null,
            "grid_area": null,
            "grid_auto_columns": null,
            "grid_auto_flow": null,
            "grid_auto_rows": null,
            "grid_column": null,
            "grid_gap": null,
            "grid_row": null,
            "grid_template_areas": null,
            "grid_template_columns": null,
            "grid_template_rows": null,
            "height": null,
            "justify_content": null,
            "justify_items": null,
            "left": null,
            "margin": null,
            "max_height": null,
            "max_width": null,
            "min_height": null,
            "min_width": null,
            "object_fit": null,
            "object_position": null,
            "order": null,
            "overflow": null,
            "overflow_x": null,
            "overflow_y": null,
            "padding": null,
            "right": null,
            "top": null,
            "visibility": null,
            "width": null
          }
        }
      }
    },
    "accelerator": "GPU"
  },
  "cells": [
    {
      "cell_type": "markdown",
      "metadata": {
        "id": "peN7YRgV0Ave"
      },
      "source": [
        "我設定五層，想試看看五層會和課堂上所做的三層有什麼不一樣\n",
        "<br>另外我設定每層有不同的神經元數量，讓網路逐層壓縮特徵，提高一般化能力"
      ]
    },
    {
      "cell_type": "code",
      "source": [
        "N1 = 128\n",
        "N2 = 64\n",
        "N3 = 32\n",
        "N4 = 32\n",
        "N5 = 16"
      ],
      "metadata": {
        "id": "4Nh6oQpK2Y5W"
      },
      "execution_count": 62,
      "outputs": []
    },
    {
      "cell_type": "markdown",
      "metadata": {
        "id": "RkYdA5re0Ave"
      },
      "source": [
        "## 1. 讀入套件"
      ]
    },
    {
      "cell_type": "code",
      "source": [
        "!pip install gradio"
      ],
      "metadata": {
        "colab": {
          "base_uri": "https://localhost:8080/"
        },
        "id": "fdIz5z2klW4S",
        "outputId": "ef69f454-8565-40f8-8d4d-e2cefc925b24"
      },
      "execution_count": 37,
      "outputs": [
        {
          "output_type": "stream",
          "name": "stdout",
          "text": [
            "Requirement already satisfied: gradio in /usr/local/lib/python3.11/dist-packages (5.19.0)\n",
            "Requirement already satisfied: aiofiles<24.0,>=22.0 in /usr/local/lib/python3.11/dist-packages (from gradio) (23.2.1)\n",
            "Requirement already satisfied: anyio<5.0,>=3.0 in /usr/local/lib/python3.11/dist-packages (from gradio) (3.7.1)\n",
            "Requirement already satisfied: fastapi<1.0,>=0.115.2 in /usr/local/lib/python3.11/dist-packages (from gradio) (0.115.9)\n",
            "Requirement already satisfied: ffmpy in /usr/local/lib/python3.11/dist-packages (from gradio) (0.5.0)\n",
            "Requirement already satisfied: gradio-client==1.7.2 in /usr/local/lib/python3.11/dist-packages (from gradio) (1.7.2)\n",
            "Requirement already satisfied: httpx>=0.24.1 in /usr/local/lib/python3.11/dist-packages (from gradio) (0.28.1)\n",
            "Requirement already satisfied: huggingface-hub>=0.28.1 in /usr/local/lib/python3.11/dist-packages (from gradio) (0.28.1)\n",
            "Requirement already satisfied: jinja2<4.0 in /usr/local/lib/python3.11/dist-packages (from gradio) (3.1.5)\n",
            "Requirement already satisfied: markupsafe~=2.0 in /usr/local/lib/python3.11/dist-packages (from gradio) (2.1.5)\n",
            "Requirement already satisfied: numpy<3.0,>=1.0 in /usr/local/lib/python3.11/dist-packages (from gradio) (1.26.4)\n",
            "Requirement already satisfied: orjson~=3.0 in /usr/local/lib/python3.11/dist-packages (from gradio) (3.10.15)\n",
            "Requirement already satisfied: packaging in /usr/local/lib/python3.11/dist-packages (from gradio) (24.2)\n",
            "Requirement already satisfied: pandas<3.0,>=1.0 in /usr/local/lib/python3.11/dist-packages (from gradio) (2.2.2)\n",
            "Requirement already satisfied: pillow<12.0,>=8.0 in /usr/local/lib/python3.11/dist-packages (from gradio) (11.1.0)\n",
            "Requirement already satisfied: pydantic>=2.0 in /usr/local/lib/python3.11/dist-packages (from gradio) (2.10.6)\n",
            "Requirement already satisfied: pydub in /usr/local/lib/python3.11/dist-packages (from gradio) (0.25.1)\n",
            "Requirement already satisfied: python-multipart>=0.0.18 in /usr/local/lib/python3.11/dist-packages (from gradio) (0.0.20)\n",
            "Requirement already satisfied: pyyaml<7.0,>=5.0 in /usr/local/lib/python3.11/dist-packages (from gradio) (6.0.2)\n",
            "Requirement already satisfied: ruff>=0.9.3 in /usr/local/lib/python3.11/dist-packages (from gradio) (0.9.8)\n",
            "Requirement already satisfied: safehttpx<0.2.0,>=0.1.6 in /usr/local/lib/python3.11/dist-packages (from gradio) (0.1.6)\n",
            "Requirement already satisfied: semantic-version~=2.0 in /usr/local/lib/python3.11/dist-packages (from gradio) (2.10.0)\n",
            "Requirement already satisfied: starlette<1.0,>=0.40.0 in /usr/local/lib/python3.11/dist-packages (from gradio) (0.45.3)\n",
            "Requirement already satisfied: tomlkit<0.14.0,>=0.12.0 in /usr/local/lib/python3.11/dist-packages (from gradio) (0.13.2)\n",
            "Requirement already satisfied: typer<1.0,>=0.12 in /usr/local/lib/python3.11/dist-packages (from gradio) (0.15.1)\n",
            "Requirement already satisfied: typing-extensions~=4.0 in /usr/local/lib/python3.11/dist-packages (from gradio) (4.12.2)\n",
            "Requirement already satisfied: uvicorn>=0.14.0 in /usr/local/lib/python3.11/dist-packages (from gradio) (0.34.0)\n",
            "Requirement already satisfied: fsspec in /usr/local/lib/python3.11/dist-packages (from gradio-client==1.7.2->gradio) (2024.10.0)\n",
            "Requirement already satisfied: websockets<16.0,>=10.0 in /usr/local/lib/python3.11/dist-packages (from gradio-client==1.7.2->gradio) (14.2)\n",
            "Requirement already satisfied: idna>=2.8 in /usr/local/lib/python3.11/dist-packages (from anyio<5.0,>=3.0->gradio) (3.10)\n",
            "Requirement already satisfied: sniffio>=1.1 in /usr/local/lib/python3.11/dist-packages (from anyio<5.0,>=3.0->gradio) (1.3.1)\n",
            "Requirement already satisfied: certifi in /usr/local/lib/python3.11/dist-packages (from httpx>=0.24.1->gradio) (2025.1.31)\n",
            "Requirement already satisfied: httpcore==1.* in /usr/local/lib/python3.11/dist-packages (from httpx>=0.24.1->gradio) (1.0.7)\n",
            "Requirement already satisfied: h11<0.15,>=0.13 in /usr/local/lib/python3.11/dist-packages (from httpcore==1.*->httpx>=0.24.1->gradio) (0.14.0)\n",
            "Requirement already satisfied: filelock in /usr/local/lib/python3.11/dist-packages (from huggingface-hub>=0.28.1->gradio) (3.17.0)\n",
            "Requirement already satisfied: requests in /usr/local/lib/python3.11/dist-packages (from huggingface-hub>=0.28.1->gradio) (2.32.3)\n",
            "Requirement already satisfied: tqdm>=4.42.1 in /usr/local/lib/python3.11/dist-packages (from huggingface-hub>=0.28.1->gradio) (4.67.1)\n",
            "Requirement already satisfied: python-dateutil>=2.8.2 in /usr/local/lib/python3.11/dist-packages (from pandas<3.0,>=1.0->gradio) (2.8.2)\n",
            "Requirement already satisfied: pytz>=2020.1 in /usr/local/lib/python3.11/dist-packages (from pandas<3.0,>=1.0->gradio) (2025.1)\n",
            "Requirement already satisfied: tzdata>=2022.7 in /usr/local/lib/python3.11/dist-packages (from pandas<3.0,>=1.0->gradio) (2025.1)\n",
            "Requirement already satisfied: annotated-types>=0.6.0 in /usr/local/lib/python3.11/dist-packages (from pydantic>=2.0->gradio) (0.7.0)\n",
            "Requirement already satisfied: pydantic-core==2.27.2 in /usr/local/lib/python3.11/dist-packages (from pydantic>=2.0->gradio) (2.27.2)\n",
            "Requirement already satisfied: click>=8.0.0 in /usr/local/lib/python3.11/dist-packages (from typer<1.0,>=0.12->gradio) (8.1.8)\n",
            "Requirement already satisfied: shellingham>=1.3.0 in /usr/local/lib/python3.11/dist-packages (from typer<1.0,>=0.12->gradio) (1.5.4)\n",
            "Requirement already satisfied: rich>=10.11.0 in /usr/local/lib/python3.11/dist-packages (from typer<1.0,>=0.12->gradio) (13.9.4)\n",
            "Requirement already satisfied: six>=1.5 in /usr/local/lib/python3.11/dist-packages (from python-dateutil>=2.8.2->pandas<3.0,>=1.0->gradio) (1.17.0)\n",
            "Requirement already satisfied: markdown-it-py>=2.2.0 in /usr/local/lib/python3.11/dist-packages (from rich>=10.11.0->typer<1.0,>=0.12->gradio) (3.0.0)\n",
            "Requirement already satisfied: pygments<3.0.0,>=2.13.0 in /usr/local/lib/python3.11/dist-packages (from rich>=10.11.0->typer<1.0,>=0.12->gradio) (2.18.0)\n",
            "Requirement already satisfied: charset-normalizer<4,>=2 in /usr/local/lib/python3.11/dist-packages (from requests->huggingface-hub>=0.28.1->gradio) (3.4.1)\n",
            "Requirement already satisfied: urllib3<3,>=1.21.1 in /usr/local/lib/python3.11/dist-packages (from requests->huggingface-hub>=0.28.1->gradio) (2.3.0)\n",
            "Requirement already satisfied: mdurl~=0.1 in /usr/local/lib/python3.11/dist-packages (from markdown-it-py>=2.2.0->rich>=10.11.0->typer<1.0,>=0.12->gradio) (0.1.2)\n"
          ]
        }
      ]
    },
    {
      "cell_type": "code",
      "metadata": {
        "id": "pEq2NFpF0Avf"
      },
      "source": [
        "%matplotlib inline\n",
        "\n",
        "# 標準數據分析、畫圖套件\n",
        "import numpy as np\n",
        "import matplotlib.pyplot as plt\n",
        "from PIL import Image\n",
        "\n",
        "# 神經網路方面\n",
        "import tensorflow as tf\n",
        "from tensorflow.keras.datasets import mnist\n",
        "from tensorflow.keras.utils import to_categorical\n",
        "from tensorflow.keras.models import Sequential\n",
        "from tensorflow.keras.layers import Dense\n",
        "from tensorflow.keras.optimizers import SGD\n",
        "\n",
        "# 互動設計用\n",
        "from ipywidgets import interact_manual\n",
        "\n",
        "# 神速打造 web app 的 Gradio\n",
        "import gradio as gr"
      ],
      "execution_count": 38,
      "outputs": []
    },
    {
      "cell_type": "markdown",
      "metadata": {
        "id": "yUOFB_020Avg"
      },
      "source": [
        "## 2. 讀入 MNIST 數據庫"
      ]
    },
    {
      "cell_type": "markdown",
      "metadata": {
        "id": "wVSdolkn0Avg"
      },
      "source": [
        "### 2.1 由 Keras 讀入 MNIST"
      ]
    },
    {
      "cell_type": "code",
      "metadata": {
        "id": "LKuZWeVy0Avg"
      },
      "source": [
        "(x_train, y_train), (x_test, y_test) = mnist.load_data()"
      ],
      "execution_count": 63,
      "outputs": []
    },
    {
      "cell_type": "markdown",
      "metadata": {
        "id": "S9Pj2-M-0Avh"
      },
      "source": [
        "確認訓練資料是不是有6萬筆、測試資料是不是有1萬筆。"
      ]
    },
    {
      "cell_type": "code",
      "metadata": {
        "colab": {
          "base_uri": "https://localhost:8080/"
        },
        "id": "Z_8DkCJC0Avh",
        "outputId": "90cf5730-4fa7-4746-bc0a-6b2442bab5c2"
      },
      "source": [
        "print(f'訓練資料總筆數為 {len(x_train)} 筆資料')\n",
        "print(f'測試資料總筆數為 {len(x_test)} 筆資料')"
      ],
      "execution_count": 64,
      "outputs": [
        {
          "output_type": "stream",
          "name": "stdout",
          "text": [
            "訓練資料總筆數為 60000 筆資料\n",
            "測試資料總筆數為 10000 筆資料\n"
          ]
        }
      ]
    },
    {
      "cell_type": "markdown",
      "source": [
        "訓練資料有60000筆數據，且為28x28的矩陣，最後希望他能變成 (60000,784)"
      ],
      "metadata": {
        "id": "JrW12kyYD0Z4"
      }
    },
    {
      "cell_type": "code",
      "source": [
        "x_train.shape"
      ],
      "metadata": {
        "colab": {
          "base_uri": "https://localhost:8080/"
        },
        "id": "nQjqCyMvDq_h",
        "outputId": "d6241fc7-287f-44cf-88a5-44db36739b6f"
      },
      "execution_count": 65,
      "outputs": [
        {
          "output_type": "execute_result",
          "data": {
            "text/plain": [
              "(60000, 28, 28)"
            ]
          },
          "metadata": {},
          "execution_count": 65
        }
      ]
    },
    {
      "cell_type": "markdown",
      "source": [
        "隨機確認一個訓練資料的樣子(這邊選第9000個)"
      ],
      "metadata": {
        "id": "UfQOE0GMET8u"
      }
    },
    {
      "cell_type": "code",
      "source": [
        "x_train[9000]"
      ],
      "metadata": {
        "colab": {
          "base_uri": "https://localhost:8080/",
          "height": 68
        },
        "id": "NYXbEvjZEHqS",
        "outputId": "16b74689-956a-494f-facd-808eca88f47d"
      },
      "execution_count": 66,
      "outputs": [
        {
          "output_type": "execute_result",
          "data": {
            "text/plain": [
              "array([[  0,   0,   0,   0,   0,   0,   0,   0,   0,   0,   0,   0,   0,\n",
              "          0,   0,   0,   0,   0,   0,   0,   0,   0,   0,   0,   0,   0,\n",
              "          0,   0],\n",
              "       [  0,   0,   0,   0,   0,   0,   0,   0,   0,   0,   0,   0,   0,\n",
              "          0,   0,   0,   0,   0,   0,   0,   0,   0,   0,   0,   0,   0,\n",
              "          0,   0],\n",
              "       [  0,   0,   0,   0,   0,   0,   0,   0,   0,   0,   0,   0,   0,\n",
              "          0,   0,   0,   0,   0,   0,   0,   0,   0,   0,   0,   0,   0,\n",
              "          0,   0],\n",
              "       [  0,   0,   0,   0,   0,   0,   0,   0,   0,   0,   0,   0,   0,\n",
              "          0,   0,   0,   0,   0,   0,   0,   0,   0,   0,   0,   0,   0,\n",
              "          0,   0],\n",
              "       [  0,   0,   0,   0,   0,   0,   0,   0,  41, 239, 253, 253, 253,\n",
              "        174,   0,   0,   0,   0,   0,   0,   0,   0,   0,   0,   0,   0,\n",
              "          0,   0],\n",
              "       [  0,   0,   0,   0,   0,   0,   0,   0, 175, 251, 251, 251, 251,\n",
              "        173,   0,   0,   0,   0,   0,   0,   0,   0,   0,   0,   0,   0,\n",
              "          0,   0],\n",
              "       [  0,   0,   0,   0,   0,   0,   0,  82, 228, 251, 251, 251, 251,\n",
              "        173,   0,   0,   0,   0,   0,   0,   0,   0,   0,   0,   0,   0,\n",
              "          0,   0],\n",
              "       [  0,   0,   0,   0,   0,   0,  10, 137, 251, 251, 236,  92,  18,\n",
              "         13,   0,   0,   0,   0,   0,   0,   0,   0,   0,   0,   0,   0,\n",
              "          0,   0],\n",
              "       [  0,   0,   0,   0,   0,   0,  59, 251, 251, 251, 153,   0,   0,\n",
              "          0,   0,   0,   0,   0,   0,   0,   0,   0,   0,   0,   0,   0,\n",
              "          0,   0],\n",
              "       [  0,   0,   0,   0,   0,   0,  59, 251, 251, 226,  59,   0,   0,\n",
              "          0,   0,   0,   0,   0, 109, 155,  96,   0,   0,   0,   0,   0,\n",
              "          0,   0],\n",
              "       [  0,   0,   0,   0,   0,   0,  59, 251, 251, 212,   0,   0,   0,\n",
              "          0,   0,  16, 215, 214, 239, 251, 236, 214,  47,   0,   0,   0,\n",
              "          0,   0],\n",
              "       [  0,   0,   0,   0,   0,   0, 119, 251, 251, 212,   0,   0,   0,\n",
              "         25,  78, 212, 253, 251, 251, 251, 251, 251, 237,  54,   0,   0,\n",
              "          0,   0],\n",
              "       [  0,   0,   0,   0,   0,   0, 253, 251, 251, 212,   0,   0,   0,\n",
              "         78, 251, 251, 253, 251, 251, 251, 251, 251, 251, 215,  63,   0,\n",
              "          0,   0],\n",
              "       [  0,   0,   0,   0,   0,   0, 253, 251, 251, 212,   0,   0,  16,\n",
              "        212, 251, 251, 253, 251, 251, 220, 131, 251, 251, 251, 220,  44,\n",
              "          0,   0],\n",
              "       [  0,   0,   0,   0,   0,   0, 255, 253, 253, 213,   0,  37, 224,\n",
              "        253, 253, 253, 150,   0,   0,   0,   0,   0, 215, 253, 253,  57,\n",
              "          0,   0],\n",
              "       [  0,   0,   0,   0,   0,   0, 253, 251, 251, 212,   0, 155, 251,\n",
              "        251, 251, 160,   0,   0,   0,   0,   0,   0, 214, 251, 251,  57,\n",
              "          0,   0],\n",
              "       [  0,   0,   0,   0,   0,   0, 253, 251, 251, 239, 175, 222, 251,\n",
              "        251, 251,  57,   0,   0,   0,   0,   0, 109, 239, 251, 156,  18,\n",
              "          0,   0],\n",
              "       [  0,   0,   0,   0,   0,   0, 222, 251, 251, 251, 251, 251, 251,\n",
              "        239, 107,   4,   0,   0,   0,  37, 115, 244, 251, 239,  98,   0,\n",
              "          0,   0],\n",
              "       [  0,   0,   0,   0,   0,   0,  59, 251, 251, 251, 251, 251, 251,\n",
              "        173,   0,   0,  23,  98,  98, 240, 251, 251, 243, 107,   0,   0,\n",
              "          0,   0],\n",
              "       [  0,   0,   0,   0,   0,   0,  59, 251, 251, 251, 251, 251, 251,\n",
              "        221, 155, 155, 179, 251, 251, 251, 251, 251, 231,   0,   0,   0,\n",
              "          0,   0],\n",
              "       [  0,   0,   0,   0,   0,   0,   9,  37, 172, 249, 251, 251, 251,\n",
              "        251, 251, 251, 253, 251, 237, 231, 156,  37,  35,   0,   0,   0,\n",
              "          0,   0],\n",
              "       [  0,   0,   0,   0,   0,   0,   0,   0,   0, 161, 203, 251, 251,\n",
              "        251, 251, 251, 174, 173,  53,   0,   0,   0,   0,   0,   0,   0,\n",
              "          0,   0],\n",
              "       [  0,   0,   0,   0,   0,   0,   0,   0,   0,   0,  45, 199, 251,\n",
              "        251, 251, 145,   0,   0,   0,   0,   0,   0,   0,   0,   0,   0,\n",
              "          0,   0],\n",
              "       [  0,   0,   0,   0,   0,   0,   0,   0,   0,   0,   0,  36,  72,\n",
              "        190,  57,  13,   0,   0,   0,   0,   0,   0,   0,   0,   0,   0,\n",
              "          0,   0],\n",
              "       [  0,   0,   0,   0,   0,   0,   0,   0,   0,   0,   0,   0,   0,\n",
              "          0,   0,   0,   0,   0,   0,   0,   0,   0,   0,   0,   0,   0,\n",
              "          0,   0],\n",
              "       [  0,   0,   0,   0,   0,   0,   0,   0,   0,   0,   0,   0,   0,\n",
              "          0,   0,   0,   0,   0,   0,   0,   0,   0,   0,   0,   0,   0,\n",
              "          0,   0],\n",
              "       [  0,   0,   0,   0,   0,   0,   0,   0,   0,   0,   0,   0,   0,\n",
              "          0,   0,   0,   0,   0,   0,   0,   0,   0,   0,   0,   0,   0,\n",
              "          0,   0],\n",
              "       [  0,   0,   0,   0,   0,   0,   0,   0,   0,   0,   0,   0,   0,\n",
              "          0,   0,   0,   0,   0,   0,   0,   0,   0,   0,   0,   0,   0,\n",
              "          0,   0]], dtype=uint8)"
            ],
            "text/html": [
              "<style>\n",
              "      .ndarray_repr .ndarray_raw_data {\n",
              "        display: none;\n",
              "      }\n",
              "      .ndarray_repr.show_array .ndarray_raw_data {\n",
              "        display: block;\n",
              "      }\n",
              "      .ndarray_repr.show_array .ndarray_image_preview {\n",
              "        display: none;\n",
              "      }\n",
              "      </style>\n",
              "      <div id=\"id-c8591b09-3789-464f-b774-ff01e2b71df3\" class=\"ndarray_repr\"><pre>ndarray (28, 28) <button style=\"padding: 0 2px;\">show data</button></pre><img src=\"data:image/png;base64,iVBORw0KGgoAAAANSUhEUgAAABwAAAAcCAAAAABXZoBIAAABF0lEQVR4nMWRMUsDQRCFP0MaRSGk0WCpVwiKlcJhYZsqhbWFXGmwEvQHCIKljSCmUbAz8R8EOwvbmDQhiE2aCydoI4+5WGw8cuZsdZp9zLczs/sG/jFWIjNrpHP5b3E6G8MwDXOjc2fj96YzZ1K4W5zLhFuSLieyuUT1b0bi4GpvorIFQKHTjhS218fhsYOlSsskSYPNMWgOViQH1dn+CQstyaTuiaTuagKHZs94L2Z2AUDHzE8cimOGHC3G3O67y3F6ZnTfk+S730SqFRPYc8+IqnnAO/xQFKQdklSH+SB4k96rAFMj+ADAa5OFMkBYGps57d19umLToF/zltIGcv0kSWrUM5e39ijpPIsALJebfvZG/zC+AMfPmD4ySCy5AAAAAElFTkSuQmCC\" class=\"ndarray_image_preview\" /><pre class=\"ndarray_raw_data\">array([[  0,   0,   0,   0,   0,   0,   0,   0,   0,   0,   0,   0,   0,\n",
              "          0,   0,   0,   0,   0,   0,   0,   0,   0,   0,   0,   0,   0,\n",
              "          0,   0],\n",
              "       [  0,   0,   0,   0,   0,   0,   0,   0,   0,   0,   0,   0,   0,\n",
              "          0,   0,   0,   0,   0,   0,   0,   0,   0,   0,   0,   0,   0,\n",
              "          0,   0],\n",
              "       [  0,   0,   0,   0,   0,   0,   0,   0,   0,   0,   0,   0,   0,\n",
              "          0,   0,   0,   0,   0,   0,   0,   0,   0,   0,   0,   0,   0,\n",
              "          0,   0],\n",
              "       [  0,   0,   0,   0,   0,   0,   0,   0,   0,   0,   0,   0,   0,\n",
              "          0,   0,   0,   0,   0,   0,   0,   0,   0,   0,   0,   0,   0,\n",
              "          0,   0],\n",
              "       [  0,   0,   0,   0,   0,   0,   0,   0,  41, 239, 253, 253, 253,\n",
              "        174,   0,   0,   0,   0,   0,   0,   0,   0,   0,   0,   0,   0,\n",
              "          0,   0],\n",
              "       [  0,   0,   0,   0,   0,   0,   0,   0, 175, 251, 251, 251, 251,\n",
              "        173,   0,   0,   0,   0,   0,   0,   0,   0,   0,   0,   0,   0,\n",
              "          0,   0],\n",
              "       [  0,   0,   0,   0,   0,   0,   0,  82, 228, 251, 251, 251, 251,\n",
              "        173,   0,   0,   0,   0,   0,   0,   0,   0,   0,   0,   0,   0,\n",
              "          0,   0],\n",
              "       [  0,   0,   0,   0,   0,   0,  10, 137, 251, 251, 236,  92,  18,\n",
              "         13,   0,   0,   0,   0,   0,   0,   0,   0,   0,   0,   0,   0,\n",
              "          0,   0],\n",
              "       [  0,   0,   0,   0,   0,   0,  59, 251, 251, 251, 153,   0,   0,\n",
              "          0,   0,   0,   0,   0,   0,   0,   0,   0,   0,   0,   0,   0,\n",
              "          0,   0],\n",
              "       [  0,   0,   0,   0,   0,   0,  59, 251, 251, 226,  59,   0,   0,\n",
              "          0,   0,   0,   0,   0, 109, 155,  96,   0,   0,   0,   0,   0,\n",
              "          0,   0],\n",
              "       [  0,   0,   0,   0,   0,   0,  59, 251, 251, 212,   0,   0,   0,\n",
              "          0,   0,  16, 215, 214, 239, 251, 236, 214,  47,   0,   0,   0,\n",
              "          0,   0],\n",
              "       [  0,   0,   0,   0,   0,   0, 119, 251, 251, 212,   0,   0,   0,\n",
              "         25,  78, 212, 253, 251, 251, 251, 251, 251, 237,  54,   0,   0,\n",
              "          0,   0],\n",
              "       [  0,   0,   0,   0,   0,   0, 253, 251, 251, 212,   0,   0,   0,\n",
              "         78, 251, 251, 253, 251, 251, 251, 251, 251, 251, 215,  63,   0,\n",
              "          0,   0],\n",
              "       [  0,   0,   0,   0,   0,   0, 253, 251, 251, 212,   0,   0,  16,\n",
              "        212, 251, 251, 253, 251, 251, 220, 131, 251, 251, 251, 220,  44,\n",
              "          0,   0],\n",
              "       [  0,   0,   0,   0,   0,   0, 255, 253, 253, 213,   0,  37, 224,\n",
              "        253, 253, 253, 150,   0,   0,   0,   0,   0, 215, 253, 253,  57,\n",
              "          0,   0],\n",
              "       [  0,   0,   0,   0,   0,   0, 253, 251, 251, 212,   0, 155, 251,\n",
              "        251, 251, 160,   0,   0,   0,   0,   0,   0, 214, 251, 251,  57,\n",
              "          0,   0],\n",
              "       [  0,   0,   0,   0,   0,   0, 253, 251, 251, 239, 175, 222, 251,\n",
              "        251, 251,  57,   0,   0,   0,   0,   0, 109, 239, 251, 156,  18,\n",
              "          0,   0],\n",
              "       [  0,   0,   0,   0,   0,   0, 222, 251, 251, 251, 251, 251, 251,\n",
              "        239, 107,   4,   0,   0,   0,  37, 115, 244, 251, 239,  98,   0,\n",
              "          0,   0],\n",
              "       [  0,   0,   0,   0,   0,   0,  59, 251, 251, 251, 251, 251, 251,\n",
              "        173,   0,   0,  23,  98,  98, 240, 251, 251, 243, 107,   0,   0,\n",
              "          0,   0],\n",
              "       [  0,   0,   0,   0,   0,   0,  59, 251, 251, 251, 251, 251, 251,\n",
              "        221, 155, 155, 179, 251, 251, 251, 251, 251, 231,   0,   0,   0,\n",
              "          0,   0],\n",
              "       [  0,   0,   0,   0,   0,   0,   9,  37, 172, 249, 251, 251, 251,\n",
              "        251, 251, 251, 253, 251, 237, 231, 156,  37,  35,   0,   0,   0,\n",
              "          0,   0],\n",
              "       [  0,   0,   0,   0,   0,   0,   0,   0,   0, 161, 203, 251, 251,\n",
              "        251, 251, 251, 174, 173,  53,   0,   0,   0,   0,   0,   0,   0,\n",
              "          0,   0],\n",
              "       [  0,   0,   0,   0,   0,   0,   0,   0,   0,   0,  45, 199, 251,\n",
              "        251, 251, 145,   0,   0,   0,   0,   0,   0,   0,   0,   0,   0,\n",
              "          0,   0],\n",
              "       [  0,   0,   0,   0,   0,   0,   0,   0,   0,   0,   0,  36,  72,\n",
              "        190,  57,  13,   0,   0,   0,   0,   0,   0,   0,   0,   0,   0,\n",
              "          0,   0],\n",
              "       [  0,   0,   0,   0,   0,   0,   0,   0,   0,   0,   0,   0,   0,\n",
              "          0,   0,   0,   0,   0,   0,   0,   0,   0,   0,   0,   0,   0,\n",
              "          0,   0],\n",
              "       [  0,   0,   0,   0,   0,   0,   0,   0,   0,   0,   0,   0,   0,\n",
              "          0,   0,   0,   0,   0,   0,   0,   0,   0,   0,   0,   0,   0,\n",
              "          0,   0],\n",
              "       [  0,   0,   0,   0,   0,   0,   0,   0,   0,   0,   0,   0,   0,\n",
              "          0,   0,   0,   0,   0,   0,   0,   0,   0,   0,   0,   0,   0,\n",
              "          0,   0],\n",
              "       [  0,   0,   0,   0,   0,   0,   0,   0,   0,   0,   0,   0,   0,\n",
              "          0,   0,   0,   0,   0,   0,   0,   0,   0,   0,   0,   0,   0,\n",
              "          0,   0]], dtype=uint8)</pre></div><script>\n",
              "      (() => {\n",
              "      const titles = ['show data', 'hide data'];\n",
              "      let index = 0\n",
              "      document.querySelector('#id-c8591b09-3789-464f-b774-ff01e2b71df3 button').onclick = (e) => {\n",
              "        document.querySelector('#id-c8591b09-3789-464f-b774-ff01e2b71df3').classList.toggle('show_array');\n",
              "        index = (++index) % 2;\n",
              "        document.querySelector('#id-c8591b09-3789-464f-b774-ff01e2b71df3 button').textContent = titles[index];\n",
              "        e.preventDefault();\n",
              "        e.stopPropagation();\n",
              "      }\n",
              "      })();\n",
              "    </script>"
            ]
          },
          "metadata": {},
          "execution_count": 66
        }
      ]
    },
    {
      "cell_type": "code",
      "source": [
        "y_train[3]"
      ],
      "metadata": {
        "colab": {
          "base_uri": "https://localhost:8080/"
        },
        "id": "1_3OkFacEgUn",
        "outputId": "b17489c5-4e06-45ae-9787-e4d077730dd9"
      },
      "execution_count": 67,
      "outputs": [
        {
          "output_type": "execute_result",
          "data": {
            "text/plain": [
              "1"
            ]
          },
          "metadata": {},
          "execution_count": 67
        }
      ]
    },
    {
      "cell_type": "markdown",
      "metadata": {
        "id": "fOPj5Mh50Avk"
      },
      "source": [
        "### 2.3 輸入格式整理\n",
        "\n",
        "原本的每筆數據是個 28x28 的array,要改成28x28=784長的向量餵給神經網路。所以要 `reshape`(因為是0~255，要壓到零中間所以除以255)"
      ]
    },
    {
      "cell_type": "code",
      "metadata": {
        "id": "pT7oXt8B0Avk"
      },
      "source": [
        "x_train = x_train.reshape(60000, 784)/255\n",
        "x_test = x_test.reshape(10000, 784)/255"
      ],
      "execution_count": 68,
      "outputs": []
    },
    {
      "cell_type": "markdown",
      "source": [
        "確認整理後訓練資料的樣子"
      ],
      "metadata": {
        "id": "s7psS0U5F-3z"
      }
    },
    {
      "cell_type": "code",
      "source": [
        "x_train.shape"
      ],
      "metadata": {
        "colab": {
          "base_uri": "https://localhost:8080/"
        },
        "id": "C5zya-K_F5vZ",
        "outputId": "4510186d-4e98-4241-8e1a-4bcb60b09143"
      },
      "execution_count": 69,
      "outputs": [
        {
          "output_type": "execute_result",
          "data": {
            "text/plain": [
              "(60000, 784)"
            ]
          },
          "metadata": {},
          "execution_count": 69
        }
      ]
    },
    {
      "cell_type": "markdown",
      "metadata": {
        "id": "mQmajlcm0Avl"
      },
      "source": [
        "### 2.4 輸出格式整理\n"
      ]
    },
    {
      "cell_type": "code",
      "metadata": {
        "id": "_i22oLVf0Avl"
      },
      "source": [
        "y_train = to_categorical(y_train, 10)\n",
        "y_test = to_categorical(y_test, 10)"
      ],
      "execution_count": 70,
      "outputs": []
    },
    {
      "cell_type": "markdown",
      "metadata": {
        "id": "y9mWLghi0Avl"
      },
      "source": [
        "隨機確認某筆數據的樣子，這邊選第40筆"
      ]
    },
    {
      "cell_type": "code",
      "metadata": {
        "colab": {
          "base_uri": "https://localhost:8080/"
        },
        "id": "SxkwtCy-0Avm",
        "outputId": "606818be-7776-4fd0-b191-c9fb6c958b60"
      },
      "source": [
        "y_train[40]"
      ],
      "execution_count": 71,
      "outputs": [
        {
          "output_type": "execute_result",
          "data": {
            "text/plain": [
              "array([0., 1., 0., 0., 0., 0., 0., 0., 0., 0.])"
            ]
          },
          "metadata": {},
          "execution_count": 71
        }
      ]
    },
    {
      "cell_type": "markdown",
      "metadata": {
        "id": "4MDhWZk10Avm"
      },
      "source": [
        "## 3. 打造第一個神經網路\n",
        "\n",
        "函數如下\n",
        "\n",
        "$$\\hat{f} \\colon \\mathbb{R}^{784} \\to \\mathbb{R}^{10}$$\n"
      ]
    },
    {
      "cell_type": "markdown",
      "metadata": {
        "id": "m41UZZdF0Avm"
      },
      "source": [
        "### 3.2 建構神經網路\n",
        "\n",
        "開一個空的神經網路。"
      ]
    },
    {
      "cell_type": "code",
      "metadata": {
        "id": "F_fx6jw80Avm"
      },
      "source": [
        "model = Sequential()"
      ],
      "execution_count": 72,
      "outputs": []
    },
    {
      "cell_type": "markdown",
      "metadata": {
        "id": "tm9L8SfT0Avn"
      },
      "source": [
        "每次用 `add` 去加一層, 從第一個隱藏層開始，因為我設定五層所以加了五次，activation function用relu"
      ]
    },
    {
      "cell_type": "code",
      "metadata": {
        "id": "wrBnZ3Xw0Avn"
      },
      "source": [
        "model.add(Dense(N1, input_dim=784, activation='relu'))"
      ],
      "execution_count": 73,
      "outputs": []
    },
    {
      "cell_type": "code",
      "metadata": {
        "id": "4UtBjkQh0Avn"
      },
      "source": [
        "model.add(Dense(N2, activation='relu'))"
      ],
      "execution_count": 74,
      "outputs": []
    },
    {
      "cell_type": "code",
      "metadata": {
        "id": "v3pVDFVR0Avn"
      },
      "source": [
        "model.add(Dense(N3, activation='relu'))"
      ],
      "execution_count": 75,
      "outputs": []
    },
    {
      "cell_type": "code",
      "source": [
        "model.add(Dense(N4, activation='relu'))"
      ],
      "metadata": {
        "id": "fGiMu1yxWBoD"
      },
      "execution_count": 76,
      "outputs": []
    },
    {
      "cell_type": "code",
      "source": [
        "model.add(Dense(N5, activation='relu'))"
      ],
      "metadata": {
        "id": "JGmQ5FacWDtp"
      },
      "execution_count": 77,
      "outputs": []
    },
    {
      "cell_type": "markdown",
      "metadata": {
        "id": "d1cfWRkD0Avn"
      },
      "source": [
        "最後用softmax"
      ]
    },
    {
      "cell_type": "code",
      "metadata": {
        "id": "H6P7C6Nk0Avo"
      },
      "source": [
        "model.add(Dense(10, activation='softmax'))"
      ],
      "execution_count": 78,
      "outputs": []
    },
    {
      "cell_type": "markdown",
      "metadata": {
        "id": "5znBU0DV0Avo"
      },
      "source": [
        "### 3.3 組裝\n",
        "\n",
        "* loss function用 `Cross-Entrop`(因為對於分類問題而言，使用Cross-Entrop能夠最大化模型對正確類別的機率，並有效區分不同類別的樣本)\n",
        "* 決定 optimizer, 我用標準的 SGD (SGD是指隨機的gradient descent，也就是每次都隨機的順序來作訓練)\n",
        "* 設定 learning rate為0.01(經過其他設定0.05、0.1等等發現出來的結果都差不多97%多)\n",
        "\n"
      ]
    },
    {
      "cell_type": "code",
      "metadata": {
        "id": "lGLgh8Gz0Avo"
      },
      "source": [
        "from tensorflow.keras.optimizers import SGD\n",
        "from tensorflow.keras.losses import CategoricalCrossentropy\n",
        "\n",
        "model.compile(\n",
        "    loss=CategoricalCrossentropy(),\n",
        "    optimizer=SGD(learning_rate=0.01),\n",
        "    metrics=['accuracy']\n",
        ")"
      ],
      "execution_count": 119,
      "outputs": []
    },
    {
      "cell_type": "markdown",
      "metadata": {
        "id": "xf9ykvbJ0Avo"
      },
      "source": [
        "## 4. 檢視神經網路"
      ]
    },
    {
      "cell_type": "markdown",
      "metadata": {
        "id": "kV3613iy0Avp"
      },
      "source": [
        "### 4.1model 的 summary"
      ]
    },
    {
      "cell_type": "code",
      "metadata": {
        "colab": {
          "base_uri": "https://localhost:8080/",
          "height": 327
        },
        "id": "0yJJowZE0Avp",
        "outputId": "364e1d62-24de-4697-8516-c8d6e632cf78"
      },
      "source": [
        "model.summary()"
      ],
      "execution_count": 120,
      "outputs": [
        {
          "output_type": "display_data",
          "data": {
            "text/plain": [
              "\u001b[1mModel: \"sequential_2\"\u001b[0m\n"
            ],
            "text/html": [
              "<pre style=\"white-space:pre;overflow-x:auto;line-height:normal;font-family:Menlo,'DejaVu Sans Mono',consolas,'Courier New',monospace\"><span style=\"font-weight: bold\">Model: \"sequential_2\"</span>\n",
              "</pre>\n"
            ]
          },
          "metadata": {}
        },
        {
          "output_type": "display_data",
          "data": {
            "text/plain": [
              "┏━━━━━━━━━━━━━━━━━━━━━━━━━━━━━━━━━━━━━━┳━━━━━━━━━━━━━━━━━━━━━━━━━━━━━┳━━━━━━━━━━━━━━━━━┓\n",
              "┃\u001b[1m \u001b[0m\u001b[1mLayer (type)                        \u001b[0m\u001b[1m \u001b[0m┃\u001b[1m \u001b[0m\u001b[1mOutput Shape               \u001b[0m\u001b[1m \u001b[0m┃\u001b[1m \u001b[0m\u001b[1m        Param #\u001b[0m\u001b[1m \u001b[0m┃\n",
              "┡━━━━━━━━━━━━━━━━━━━━━━━━━━━━━━━━━━━━━━╇━━━━━━━━━━━━━━━━━━━━━━━━━━━━━╇━━━━━━━━━━━━━━━━━┩\n",
              "│ dense_11 (\u001b[38;5;33mDense\u001b[0m)                     │ (\u001b[38;5;45mNone\u001b[0m, \u001b[38;5;34m128\u001b[0m)                 │         \u001b[38;5;34m100,480\u001b[0m │\n",
              "├──────────────────────────────────────┼─────────────────────────────┼─────────────────┤\n",
              "│ dense_12 (\u001b[38;5;33mDense\u001b[0m)                     │ (\u001b[38;5;45mNone\u001b[0m, \u001b[38;5;34m64\u001b[0m)                  │           \u001b[38;5;34m8,256\u001b[0m │\n",
              "├──────────────────────────────────────┼─────────────────────────────┼─────────────────┤\n",
              "│ dense_13 (\u001b[38;5;33mDense\u001b[0m)                     │ (\u001b[38;5;45mNone\u001b[0m, \u001b[38;5;34m32\u001b[0m)                  │           \u001b[38;5;34m2,080\u001b[0m │\n",
              "├──────────────────────────────────────┼─────────────────────────────┼─────────────────┤\n",
              "│ dense_14 (\u001b[38;5;33mDense\u001b[0m)                     │ (\u001b[38;5;45mNone\u001b[0m, \u001b[38;5;34m32\u001b[0m)                  │           \u001b[38;5;34m1,056\u001b[0m │\n",
              "├──────────────────────────────────────┼─────────────────────────────┼─────────────────┤\n",
              "│ dense_15 (\u001b[38;5;33mDense\u001b[0m)                     │ (\u001b[38;5;45mNone\u001b[0m, \u001b[38;5;34m16\u001b[0m)                  │             \u001b[38;5;34m528\u001b[0m │\n",
              "├──────────────────────────────────────┼─────────────────────────────┼─────────────────┤\n",
              "│ dense_16 (\u001b[38;5;33mDense\u001b[0m)                     │ (\u001b[38;5;45mNone\u001b[0m, \u001b[38;5;34m10\u001b[0m)                  │             \u001b[38;5;34m170\u001b[0m │\n",
              "└──────────────────────────────────────┴─────────────────────────────┴─────────────────┘\n"
            ],
            "text/html": [
              "<pre style=\"white-space:pre;overflow-x:auto;line-height:normal;font-family:Menlo,'DejaVu Sans Mono',consolas,'Courier New',monospace\">┏━━━━━━━━━━━━━━━━━━━━━━━━━━━━━━━━━━━━━━┳━━━━━━━━━━━━━━━━━━━━━━━━━━━━━┳━━━━━━━━━━━━━━━━━┓\n",
              "┃<span style=\"font-weight: bold\"> Layer (type)                         </span>┃<span style=\"font-weight: bold\"> Output Shape                </span>┃<span style=\"font-weight: bold\">         Param # </span>┃\n",
              "┡━━━━━━━━━━━━━━━━━━━━━━━━━━━━━━━━━━━━━━╇━━━━━━━━━━━━━━━━━━━━━━━━━━━━━╇━━━━━━━━━━━━━━━━━┩\n",
              "│ dense_11 (<span style=\"color: #0087ff; text-decoration-color: #0087ff\">Dense</span>)                     │ (<span style=\"color: #00d7ff; text-decoration-color: #00d7ff\">None</span>, <span style=\"color: #00af00; text-decoration-color: #00af00\">128</span>)                 │         <span style=\"color: #00af00; text-decoration-color: #00af00\">100,480</span> │\n",
              "├──────────────────────────────────────┼─────────────────────────────┼─────────────────┤\n",
              "│ dense_12 (<span style=\"color: #0087ff; text-decoration-color: #0087ff\">Dense</span>)                     │ (<span style=\"color: #00d7ff; text-decoration-color: #00d7ff\">None</span>, <span style=\"color: #00af00; text-decoration-color: #00af00\">64</span>)                  │           <span style=\"color: #00af00; text-decoration-color: #00af00\">8,256</span> │\n",
              "├──────────────────────────────────────┼─────────────────────────────┼─────────────────┤\n",
              "│ dense_13 (<span style=\"color: #0087ff; text-decoration-color: #0087ff\">Dense</span>)                     │ (<span style=\"color: #00d7ff; text-decoration-color: #00d7ff\">None</span>, <span style=\"color: #00af00; text-decoration-color: #00af00\">32</span>)                  │           <span style=\"color: #00af00; text-decoration-color: #00af00\">2,080</span> │\n",
              "├──────────────────────────────────────┼─────────────────────────────┼─────────────────┤\n",
              "│ dense_14 (<span style=\"color: #0087ff; text-decoration-color: #0087ff\">Dense</span>)                     │ (<span style=\"color: #00d7ff; text-decoration-color: #00d7ff\">None</span>, <span style=\"color: #00af00; text-decoration-color: #00af00\">32</span>)                  │           <span style=\"color: #00af00; text-decoration-color: #00af00\">1,056</span> │\n",
              "├──────────────────────────────────────┼─────────────────────────────┼─────────────────┤\n",
              "│ dense_15 (<span style=\"color: #0087ff; text-decoration-color: #0087ff\">Dense</span>)                     │ (<span style=\"color: #00d7ff; text-decoration-color: #00d7ff\">None</span>, <span style=\"color: #00af00; text-decoration-color: #00af00\">16</span>)                  │             <span style=\"color: #00af00; text-decoration-color: #00af00\">528</span> │\n",
              "├──────────────────────────────────────┼─────────────────────────────┼─────────────────┤\n",
              "│ dense_16 (<span style=\"color: #0087ff; text-decoration-color: #0087ff\">Dense</span>)                     │ (<span style=\"color: #00d7ff; text-decoration-color: #00d7ff\">None</span>, <span style=\"color: #00af00; text-decoration-color: #00af00\">10</span>)                  │             <span style=\"color: #00af00; text-decoration-color: #00af00\">170</span> │\n",
              "└──────────────────────────────────────┴─────────────────────────────┴─────────────────┘\n",
              "</pre>\n"
            ]
          },
          "metadata": {}
        },
        {
          "output_type": "display_data",
          "data": {
            "text/plain": [
              "\u001b[1m Total params: \u001b[0m\u001b[38;5;34m112,570\u001b[0m (439.73 KB)\n"
            ],
            "text/html": [
              "<pre style=\"white-space:pre;overflow-x:auto;line-height:normal;font-family:Menlo,'DejaVu Sans Mono',consolas,'Courier New',monospace\"><span style=\"font-weight: bold\"> Total params: </span><span style=\"color: #00af00; text-decoration-color: #00af00\">112,570</span> (439.73 KB)\n",
              "</pre>\n"
            ]
          },
          "metadata": {}
        },
        {
          "output_type": "display_data",
          "data": {
            "text/plain": [
              "\u001b[1m Trainable params: \u001b[0m\u001b[38;5;34m112,570\u001b[0m (439.73 KB)\n"
            ],
            "text/html": [
              "<pre style=\"white-space:pre;overflow-x:auto;line-height:normal;font-family:Menlo,'DejaVu Sans Mono',consolas,'Courier New',monospace\"><span style=\"font-weight: bold\"> Trainable params: </span><span style=\"color: #00af00; text-decoration-color: #00af00\">112,570</span> (439.73 KB)\n",
              "</pre>\n"
            ]
          },
          "metadata": {}
        },
        {
          "output_type": "display_data",
          "data": {
            "text/plain": [
              "\u001b[1m Non-trainable params: \u001b[0m\u001b[38;5;34m0\u001b[0m (0.00 B)\n"
            ],
            "text/html": [
              "<pre style=\"white-space:pre;overflow-x:auto;line-height:normal;font-family:Menlo,'DejaVu Sans Mono',consolas,'Courier New',monospace\"><span style=\"font-weight: bold\"> Non-trainable params: </span><span style=\"color: #00af00; text-decoration-color: #00af00\">0</span> (0.00 B)\n",
              "</pre>\n"
            ]
          },
          "metadata": {}
        }
      ]
    },
    {
      "cell_type": "markdown",
      "metadata": {
        "id": "R5VHPpfd0Avp"
      },
      "source": [
        "## 5. 訓練神經網路\n",
        "\n",
        "* 設定一次要訓練幾筆資料 (`batch_size`)，我這邊設128 (也有設成比較小的64等但發現怎麼跑都差不多97%多)\n",
        "* 設定這 6 萬筆資料一共要訓練幾次 (`epochs`)我這邊設100，也有設成50-100間等但發現怎麼跑都差不多97%多)\n",
        "<br>最後得到97%多的正確率<br>\n",
        "這邊有問chatgpt要怎麼做提高正確率，他的回答如下：<br>\n",
        "在許多標準資料集（如 MNIST 手寫數字辨識），使用基本的全連接神經網路（MLP）通常很難突破 98%，如果你用的是 MNIST，97% 其實已經接近全連接神經網路的極限。\n",
        "更高的準確率通常需要更深層的模型，或者使用卷積神經網路（CNN）。<br>\n",
        "因此我認為目前的97%多的結果已經差不多極限"
      ]
    },
    {
      "cell_type": "code",
      "metadata": {
        "colab": {
          "base_uri": "https://localhost:8080/"
        },
        "id": "1jwuUx4a0Avq",
        "outputId": "7e708a3f-3f9f-44aa-a907-88224db2d823"
      },
      "source": [
        "model.fit(x_train, y_train, batch_size=128, epochs=100)"
      ],
      "execution_count": 121,
      "outputs": [
        {
          "output_type": "stream",
          "name": "stdout",
          "text": [
            "Epoch 1/100\n",
            "\u001b[1m469/469\u001b[0m \u001b[32m━━━━━━━━━━━━━━━━━━━━\u001b[0m\u001b[37m\u001b[0m \u001b[1m2s\u001b[0m 3ms/step - accuracy: 1.0000 - loss: 8.1729e-06\n",
            "Epoch 2/100\n",
            "\u001b[1m469/469\u001b[0m \u001b[32m━━━━━━━━━━━━━━━━━━━━\u001b[0m\u001b[37m\u001b[0m \u001b[1m2s\u001b[0m 2ms/step - accuracy: 1.0000 - loss: 8.1922e-06\n",
            "Epoch 3/100\n",
            "\u001b[1m469/469\u001b[0m \u001b[32m━━━━━━━━━━━━━━━━━━━━\u001b[0m\u001b[37m\u001b[0m \u001b[1m2s\u001b[0m 3ms/step - accuracy: 1.0000 - loss: 8.3883e-06\n",
            "Epoch 4/100\n",
            "\u001b[1m469/469\u001b[0m \u001b[32m━━━━━━━━━━━━━━━━━━━━\u001b[0m\u001b[37m\u001b[0m \u001b[1m1s\u001b[0m 3ms/step - accuracy: 1.0000 - loss: 8.4114e-06\n",
            "Epoch 5/100\n",
            "\u001b[1m469/469\u001b[0m \u001b[32m━━━━━━━━━━━━━━━━━━━━\u001b[0m\u001b[37m\u001b[0m \u001b[1m1s\u001b[0m 2ms/step - accuracy: 1.0000 - loss: 8.2136e-06\n",
            "Epoch 6/100\n",
            "\u001b[1m469/469\u001b[0m \u001b[32m━━━━━━━━━━━━━━━━━━━━\u001b[0m\u001b[37m\u001b[0m \u001b[1m1s\u001b[0m 2ms/step - accuracy: 1.0000 - loss: 8.1164e-06\n",
            "Epoch 7/100\n",
            "\u001b[1m469/469\u001b[0m \u001b[32m━━━━━━━━━━━━━━━━━━━━\u001b[0m\u001b[37m\u001b[0m \u001b[1m1s\u001b[0m 2ms/step - accuracy: 1.0000 - loss: 8.3595e-06\n",
            "Epoch 8/100\n",
            "\u001b[1m469/469\u001b[0m \u001b[32m━━━━━━━━━━━━━━━━━━━━\u001b[0m\u001b[37m\u001b[0m \u001b[1m1s\u001b[0m 2ms/step - accuracy: 1.0000 - loss: 8.3506e-06\n",
            "Epoch 9/100\n",
            "\u001b[1m469/469\u001b[0m \u001b[32m━━━━━━━━━━━━━━━━━━━━\u001b[0m\u001b[37m\u001b[0m \u001b[1m1s\u001b[0m 2ms/step - accuracy: 1.0000 - loss: 7.9538e-06\n",
            "Epoch 10/100\n",
            "\u001b[1m469/469\u001b[0m \u001b[32m━━━━━━━━━━━━━━━━━━━━\u001b[0m\u001b[37m\u001b[0m \u001b[1m1s\u001b[0m 2ms/step - accuracy: 1.0000 - loss: 8.2886e-06\n",
            "Epoch 11/100\n",
            "\u001b[1m469/469\u001b[0m \u001b[32m━━━━━━━━━━━━━━━━━━━━\u001b[0m\u001b[37m\u001b[0m \u001b[1m1s\u001b[0m 2ms/step - accuracy: 1.0000 - loss: 8.2120e-06\n",
            "Epoch 12/100\n",
            "\u001b[1m469/469\u001b[0m \u001b[32m━━━━━━━━━━━━━━━━━━━━\u001b[0m\u001b[37m\u001b[0m \u001b[1m1s\u001b[0m 2ms/step - accuracy: 1.0000 - loss: 8.0935e-06\n",
            "Epoch 13/100\n",
            "\u001b[1m469/469\u001b[0m \u001b[32m━━━━━━━━━━━━━━━━━━━━\u001b[0m\u001b[37m\u001b[0m \u001b[1m2s\u001b[0m 3ms/step - accuracy: 1.0000 - loss: 8.1420e-06\n",
            "Epoch 14/100\n",
            "\u001b[1m469/469\u001b[0m \u001b[32m━━━━━━━━━━━━━━━━━━━━\u001b[0m\u001b[37m\u001b[0m \u001b[1m2s\u001b[0m 2ms/step - accuracy: 1.0000 - loss: 8.6120e-06\n",
            "Epoch 15/100\n",
            "\u001b[1m469/469\u001b[0m \u001b[32m━━━━━━━━━━━━━━━━━━━━\u001b[0m\u001b[37m\u001b[0m \u001b[1m1s\u001b[0m 2ms/step - accuracy: 1.0000 - loss: 8.0465e-06\n",
            "Epoch 16/100\n",
            "\u001b[1m469/469\u001b[0m \u001b[32m━━━━━━━━━━━━━━━━━━━━\u001b[0m\u001b[37m\u001b[0m \u001b[1m1s\u001b[0m 2ms/step - accuracy: 1.0000 - loss: 8.1387e-06\n",
            "Epoch 17/100\n",
            "\u001b[1m469/469\u001b[0m \u001b[32m━━━━━━━━━━━━━━━━━━━━\u001b[0m\u001b[37m\u001b[0m \u001b[1m1s\u001b[0m 2ms/step - accuracy: 1.0000 - loss: 8.1130e-06\n",
            "Epoch 18/100\n",
            "\u001b[1m469/469\u001b[0m \u001b[32m━━━━━━━━━━━━━━━━━━━━\u001b[0m\u001b[37m\u001b[0m \u001b[1m1s\u001b[0m 2ms/step - accuracy: 1.0000 - loss: 8.5299e-06\n",
            "Epoch 19/100\n",
            "\u001b[1m469/469\u001b[0m \u001b[32m━━━━━━━━━━━━━━━━━━━━\u001b[0m\u001b[37m\u001b[0m \u001b[1m1s\u001b[0m 2ms/step - accuracy: 1.0000 - loss: 8.4179e-06\n",
            "Epoch 20/100\n",
            "\u001b[1m469/469\u001b[0m \u001b[32m━━━━━━━━━━━━━━━━━━━━\u001b[0m\u001b[37m\u001b[0m \u001b[1m1s\u001b[0m 2ms/step - accuracy: 1.0000 - loss: 8.5413e-06\n",
            "Epoch 21/100\n",
            "\u001b[1m469/469\u001b[0m \u001b[32m━━━━━━━━━━━━━━━━━━━━\u001b[0m\u001b[37m\u001b[0m \u001b[1m1s\u001b[0m 3ms/step - accuracy: 1.0000 - loss: 8.3531e-06\n",
            "Epoch 22/100\n",
            "\u001b[1m469/469\u001b[0m \u001b[32m━━━━━━━━━━━━━━━━━━━━\u001b[0m\u001b[37m\u001b[0m \u001b[1m2s\u001b[0m 3ms/step - accuracy: 1.0000 - loss: 8.1646e-06\n",
            "Epoch 23/100\n",
            "\u001b[1m469/469\u001b[0m \u001b[32m━━━━━━━━━━━━━━━━━━━━\u001b[0m\u001b[37m\u001b[0m \u001b[1m2s\u001b[0m 2ms/step - accuracy: 1.0000 - loss: 8.1753e-06\n",
            "Epoch 24/100\n",
            "\u001b[1m469/469\u001b[0m \u001b[32m━━━━━━━━━━━━━━━━━━━━\u001b[0m\u001b[37m\u001b[0m \u001b[1m1s\u001b[0m 2ms/step - accuracy: 1.0000 - loss: 8.2098e-06\n",
            "Epoch 25/100\n",
            "\u001b[1m469/469\u001b[0m \u001b[32m━━━━━━━━━━━━━━━━━━━━\u001b[0m\u001b[37m\u001b[0m \u001b[1m1s\u001b[0m 2ms/step - accuracy: 1.0000 - loss: 8.0979e-06\n",
            "Epoch 26/100\n",
            "\u001b[1m469/469\u001b[0m \u001b[32m━━━━━━━━━━━━━━━━━━━━\u001b[0m\u001b[37m\u001b[0m \u001b[1m1s\u001b[0m 2ms/step - accuracy: 1.0000 - loss: 8.4241e-06\n",
            "Epoch 27/100\n",
            "\u001b[1m469/469\u001b[0m \u001b[32m━━━━━━━━━━━━━━━━━━━━\u001b[0m\u001b[37m\u001b[0m \u001b[1m1s\u001b[0m 2ms/step - accuracy: 1.0000 - loss: 8.0995e-06\n",
            "Epoch 28/100\n",
            "\u001b[1m469/469\u001b[0m \u001b[32m━━━━━━━━━━━━━━━━━━━━\u001b[0m\u001b[37m\u001b[0m \u001b[1m1s\u001b[0m 2ms/step - accuracy: 1.0000 - loss: 8.0485e-06\n",
            "Epoch 29/100\n",
            "\u001b[1m469/469\u001b[0m \u001b[32m━━━━━━━━━━━━━━━━━━━━\u001b[0m\u001b[37m\u001b[0m \u001b[1m1s\u001b[0m 2ms/step - accuracy: 1.0000 - loss: 8.3875e-06\n",
            "Epoch 30/100\n",
            "\u001b[1m469/469\u001b[0m \u001b[32m━━━━━━━━━━━━━━━━━━━━\u001b[0m\u001b[37m\u001b[0m \u001b[1m1s\u001b[0m 3ms/step - accuracy: 1.0000 - loss: 8.3974e-06\n",
            "Epoch 31/100\n",
            "\u001b[1m469/469\u001b[0m \u001b[32m━━━━━━━━━━━━━━━━━━━━\u001b[0m\u001b[37m\u001b[0m \u001b[1m2s\u001b[0m 3ms/step - accuracy: 1.0000 - loss: 8.0546e-06\n",
            "Epoch 32/100\n",
            "\u001b[1m469/469\u001b[0m \u001b[32m━━━━━━━━━━━━━━━━━━━━\u001b[0m\u001b[37m\u001b[0m \u001b[1m1s\u001b[0m 2ms/step - accuracy: 1.0000 - loss: 8.0840e-06\n",
            "Epoch 33/100\n",
            "\u001b[1m469/469\u001b[0m \u001b[32m━━━━━━━━━━━━━━━━━━━━\u001b[0m\u001b[37m\u001b[0m \u001b[1m1s\u001b[0m 2ms/step - accuracy: 1.0000 - loss: 8.5002e-06\n",
            "Epoch 34/100\n",
            "\u001b[1m469/469\u001b[0m \u001b[32m━━━━━━━━━━━━━━━━━━━━\u001b[0m\u001b[37m\u001b[0m \u001b[1m1s\u001b[0m 2ms/step - accuracy: 1.0000 - loss: 8.3342e-06\n",
            "Epoch 35/100\n",
            "\u001b[1m469/469\u001b[0m \u001b[32m━━━━━━━━━━━━━━━━━━━━\u001b[0m\u001b[37m\u001b[0m \u001b[1m1s\u001b[0m 2ms/step - accuracy: 1.0000 - loss: 8.3826e-06\n",
            "Epoch 36/100\n",
            "\u001b[1m469/469\u001b[0m \u001b[32m━━━━━━━━━━━━━━━━━━━━\u001b[0m\u001b[37m\u001b[0m \u001b[1m1s\u001b[0m 2ms/step - accuracy: 1.0000 - loss: 7.9173e-06\n",
            "Epoch 37/100\n",
            "\u001b[1m469/469\u001b[0m \u001b[32m━━━━━━━━━━━━━━━━━━━━\u001b[0m\u001b[37m\u001b[0m \u001b[1m1s\u001b[0m 2ms/step - accuracy: 1.0000 - loss: 8.2136e-06\n",
            "Epoch 38/100\n",
            "\u001b[1m469/469\u001b[0m \u001b[32m━━━━━━━━━━━━━━━━━━━━\u001b[0m\u001b[37m\u001b[0m \u001b[1m1s\u001b[0m 2ms/step - accuracy: 1.0000 - loss: 8.1830e-06\n",
            "Epoch 39/100\n",
            "\u001b[1m469/469\u001b[0m \u001b[32m━━━━━━━━━━━━━━━━━━━━\u001b[0m\u001b[37m\u001b[0m \u001b[1m1s\u001b[0m 2ms/step - accuracy: 1.0000 - loss: 8.1017e-06\n",
            "Epoch 40/100\n",
            "\u001b[1m469/469\u001b[0m \u001b[32m━━━━━━━━━━━━━━━━━━━━\u001b[0m\u001b[37m\u001b[0m \u001b[1m1s\u001b[0m 3ms/step - accuracy: 1.0000 - loss: 8.0699e-06\n",
            "Epoch 41/100\n",
            "\u001b[1m469/469\u001b[0m \u001b[32m━━━━━━━━━━━━━━━━━━━━\u001b[0m\u001b[37m\u001b[0m \u001b[1m2s\u001b[0m 2ms/step - accuracy: 1.0000 - loss: 7.8288e-06\n",
            "Epoch 42/100\n",
            "\u001b[1m469/469\u001b[0m \u001b[32m━━━━━━━━━━━━━━━━━━━━\u001b[0m\u001b[37m\u001b[0m \u001b[1m1s\u001b[0m 2ms/step - accuracy: 1.0000 - loss: 8.0943e-06\n",
            "Epoch 43/100\n",
            "\u001b[1m469/469\u001b[0m \u001b[32m━━━━━━━━━━━━━━━━━━━━\u001b[0m\u001b[37m\u001b[0m \u001b[1m1s\u001b[0m 2ms/step - accuracy: 1.0000 - loss: 8.0348e-06\n",
            "Epoch 44/100\n",
            "\u001b[1m469/469\u001b[0m \u001b[32m━━━━━━━━━━━━━━━━━━━━\u001b[0m\u001b[37m\u001b[0m \u001b[1m1s\u001b[0m 2ms/step - accuracy: 1.0000 - loss: 7.8547e-06\n",
            "Epoch 45/100\n",
            "\u001b[1m469/469\u001b[0m \u001b[32m━━━━━━━━━━━━━━━━━━━━\u001b[0m\u001b[37m\u001b[0m \u001b[1m1s\u001b[0m 2ms/step - accuracy: 1.0000 - loss: 7.8192e-06\n",
            "Epoch 46/100\n",
            "\u001b[1m469/469\u001b[0m \u001b[32m━━━━━━━━━━━━━━━━━━━━\u001b[0m\u001b[37m\u001b[0m \u001b[1m1s\u001b[0m 2ms/step - accuracy: 1.0000 - loss: 8.2419e-06\n",
            "Epoch 47/100\n",
            "\u001b[1m469/469\u001b[0m \u001b[32m━━━━━━━━━━━━━━━━━━━━\u001b[0m\u001b[37m\u001b[0m \u001b[1m1s\u001b[0m 2ms/step - accuracy: 1.0000 - loss: 7.7897e-06\n",
            "Epoch 48/100\n",
            "\u001b[1m469/469\u001b[0m \u001b[32m━━━━━━━━━━━━━━━━━━━━\u001b[0m\u001b[37m\u001b[0m \u001b[1m1s\u001b[0m 2ms/step - accuracy: 1.0000 - loss: 7.9309e-06\n",
            "Epoch 49/100\n",
            "\u001b[1m469/469\u001b[0m \u001b[32m━━━━━━━━━━━━━━━━━━━━\u001b[0m\u001b[37m\u001b[0m \u001b[1m2s\u001b[0m 3ms/step - accuracy: 1.0000 - loss: 8.2252e-06\n",
            "Epoch 50/100\n",
            "\u001b[1m469/469\u001b[0m \u001b[32m━━━━━━━━━━━━━━━━━━━━\u001b[0m\u001b[37m\u001b[0m \u001b[1m2s\u001b[0m 2ms/step - accuracy: 1.0000 - loss: 7.7920e-06\n",
            "Epoch 51/100\n",
            "\u001b[1m469/469\u001b[0m \u001b[32m━━━━━━━━━━━━━━━━━━━━\u001b[0m\u001b[37m\u001b[0m \u001b[1m1s\u001b[0m 2ms/step - accuracy: 1.0000 - loss: 7.7727e-06\n",
            "Epoch 52/100\n",
            "\u001b[1m469/469\u001b[0m \u001b[32m━━━━━━━━━━━━━━━━━━━━\u001b[0m\u001b[37m\u001b[0m \u001b[1m1s\u001b[0m 2ms/step - accuracy: 1.0000 - loss: 7.9093e-06\n",
            "Epoch 53/100\n",
            "\u001b[1m469/469\u001b[0m \u001b[32m━━━━━━━━━━━━━━━━━━━━\u001b[0m\u001b[37m\u001b[0m \u001b[1m1s\u001b[0m 2ms/step - accuracy: 1.0000 - loss: 8.2295e-06\n",
            "Epoch 54/100\n",
            "\u001b[1m469/469\u001b[0m \u001b[32m━━━━━━━━━━━━━━━━━━━━\u001b[0m\u001b[37m\u001b[0m \u001b[1m1s\u001b[0m 2ms/step - accuracy: 1.0000 - loss: 7.9196e-06\n",
            "Epoch 55/100\n",
            "\u001b[1m469/469\u001b[0m \u001b[32m━━━━━━━━━━━━━━━━━━━━\u001b[0m\u001b[37m\u001b[0m \u001b[1m1s\u001b[0m 2ms/step - accuracy: 1.0000 - loss: 8.3084e-06\n",
            "Epoch 56/100\n",
            "\u001b[1m469/469\u001b[0m \u001b[32m━━━━━━━━━━━━━━━━━━━━\u001b[0m\u001b[37m\u001b[0m \u001b[1m1s\u001b[0m 2ms/step - accuracy: 1.0000 - loss: 8.0584e-06\n",
            "Epoch 57/100\n",
            "\u001b[1m469/469\u001b[0m \u001b[32m━━━━━━━━━━━━━━━━━━━━\u001b[0m\u001b[37m\u001b[0m \u001b[1m1s\u001b[0m 3ms/step - accuracy: 1.0000 - loss: 7.9080e-06\n",
            "Epoch 58/100\n",
            "\u001b[1m469/469\u001b[0m \u001b[32m━━━━━━━━━━━━━━━━━━━━\u001b[0m\u001b[37m\u001b[0m \u001b[1m2s\u001b[0m 3ms/step - accuracy: 1.0000 - loss: 8.2811e-06\n",
            "Epoch 59/100\n",
            "\u001b[1m469/469\u001b[0m \u001b[32m━━━━━━━━━━━━━━━━━━━━\u001b[0m\u001b[37m\u001b[0m \u001b[1m1s\u001b[0m 2ms/step - accuracy: 1.0000 - loss: 7.8886e-06\n",
            "Epoch 60/100\n",
            "\u001b[1m469/469\u001b[0m \u001b[32m━━━━━━━━━━━━━━━━━━━━\u001b[0m\u001b[37m\u001b[0m \u001b[1m1s\u001b[0m 2ms/step - accuracy: 1.0000 - loss: 8.0808e-06\n",
            "Epoch 61/100\n",
            "\u001b[1m469/469\u001b[0m \u001b[32m━━━━━━━━━━━━━━━━━━━━\u001b[0m\u001b[37m\u001b[0m \u001b[1m1s\u001b[0m 2ms/step - accuracy: 1.0000 - loss: 8.1531e-06\n",
            "Epoch 62/100\n",
            "\u001b[1m469/469\u001b[0m \u001b[32m━━━━━━━━━━━━━━━━━━━━\u001b[0m\u001b[37m\u001b[0m \u001b[1m1s\u001b[0m 2ms/step - accuracy: 1.0000 - loss: 8.1491e-06\n",
            "Epoch 63/100\n",
            "\u001b[1m469/469\u001b[0m \u001b[32m━━━━━━━━━━━━━━━━━━━━\u001b[0m\u001b[37m\u001b[0m \u001b[1m1s\u001b[0m 2ms/step - accuracy: 1.0000 - loss: 8.0128e-06\n",
            "Epoch 64/100\n",
            "\u001b[1m469/469\u001b[0m \u001b[32m━━━━━━━━━━━━━━━━━━━━\u001b[0m\u001b[37m\u001b[0m \u001b[1m1s\u001b[0m 3ms/step - accuracy: 1.0000 - loss: 7.9946e-06\n",
            "Epoch 65/100\n",
            "\u001b[1m469/469\u001b[0m \u001b[32m━━━━━━━━━━━━━━━━━━━━\u001b[0m\u001b[37m\u001b[0m \u001b[1m1s\u001b[0m 2ms/step - accuracy: 1.0000 - loss: 7.9905e-06\n",
            "Epoch 66/100\n",
            "\u001b[1m469/469\u001b[0m \u001b[32m━━━━━━━━━━━━━━━━━━━━\u001b[0m\u001b[37m\u001b[0m \u001b[1m1s\u001b[0m 2ms/step - accuracy: 1.0000 - loss: 8.0763e-06\n",
            "Epoch 67/100\n",
            "\u001b[1m469/469\u001b[0m \u001b[32m━━━━━━━━━━━━━━━━━━━━\u001b[0m\u001b[37m\u001b[0m \u001b[1m1s\u001b[0m 3ms/step - accuracy: 1.0000 - loss: 7.5743e-06\n",
            "Epoch 68/100\n",
            "\u001b[1m469/469\u001b[0m \u001b[32m━━━━━━━━━━━━━━━━━━━━\u001b[0m\u001b[37m\u001b[0m \u001b[1m2s\u001b[0m 3ms/step - accuracy: 1.0000 - loss: 7.9900e-06\n",
            "Epoch 69/100\n",
            "\u001b[1m469/469\u001b[0m \u001b[32m━━━━━━━━━━━━━━━━━━━━\u001b[0m\u001b[37m\u001b[0m \u001b[1m2s\u001b[0m 2ms/step - accuracy: 1.0000 - loss: 7.6413e-06\n",
            "Epoch 70/100\n",
            "\u001b[1m469/469\u001b[0m \u001b[32m━━━━━━━━━━━━━━━━━━━━\u001b[0m\u001b[37m\u001b[0m \u001b[1m1s\u001b[0m 2ms/step - accuracy: 1.0000 - loss: 7.7928e-06\n",
            "Epoch 71/100\n",
            "\u001b[1m469/469\u001b[0m \u001b[32m━━━━━━━━━━━━━━━━━━━━\u001b[0m\u001b[37m\u001b[0m \u001b[1m1s\u001b[0m 2ms/step - accuracy: 1.0000 - loss: 8.0483e-06\n",
            "Epoch 72/100\n",
            "\u001b[1m469/469\u001b[0m \u001b[32m━━━━━━━━━━━━━━━━━━━━\u001b[0m\u001b[37m\u001b[0m \u001b[1m1s\u001b[0m 2ms/step - accuracy: 1.0000 - loss: 7.9123e-06\n",
            "Epoch 73/100\n",
            "\u001b[1m469/469\u001b[0m \u001b[32m━━━━━━━━━━━━━━━━━━━━\u001b[0m\u001b[37m\u001b[0m \u001b[1m1s\u001b[0m 2ms/step - accuracy: 1.0000 - loss: 8.1010e-06\n",
            "Epoch 74/100\n",
            "\u001b[1m469/469\u001b[0m \u001b[32m━━━━━━━━━━━━━━━━━━━━\u001b[0m\u001b[37m\u001b[0m \u001b[1m1s\u001b[0m 2ms/step - accuracy: 1.0000 - loss: 7.9107e-06\n",
            "Epoch 75/100\n",
            "\u001b[1m469/469\u001b[0m \u001b[32m━━━━━━━━━━━━━━━━━━━━\u001b[0m\u001b[37m\u001b[0m \u001b[1m1s\u001b[0m 2ms/step - accuracy: 1.0000 - loss: 8.0315e-06\n",
            "Epoch 76/100\n",
            "\u001b[1m469/469\u001b[0m \u001b[32m━━━━━━━━━━━━━━━━━━━━\u001b[0m\u001b[37m\u001b[0m \u001b[1m1s\u001b[0m 3ms/step - accuracy: 1.0000 - loss: 7.8290e-06\n",
            "Epoch 77/100\n",
            "\u001b[1m469/469\u001b[0m \u001b[32m━━━━━━━━━━━━━━━━━━━━\u001b[0m\u001b[37m\u001b[0m \u001b[1m2s\u001b[0m 2ms/step - accuracy: 1.0000 - loss: 7.7610e-06\n",
            "Epoch 78/100\n",
            "\u001b[1m469/469\u001b[0m \u001b[32m━━━━━━━━━━━━━━━━━━━━\u001b[0m\u001b[37m\u001b[0m \u001b[1m1s\u001b[0m 2ms/step - accuracy: 1.0000 - loss: 7.9924e-06\n",
            "Epoch 79/100\n",
            "\u001b[1m469/469\u001b[0m \u001b[32m━━━━━━━━━━━━━━━━━━━━\u001b[0m\u001b[37m\u001b[0m \u001b[1m1s\u001b[0m 2ms/step - accuracy: 1.0000 - loss: 7.9232e-06\n",
            "Epoch 80/100\n",
            "\u001b[1m469/469\u001b[0m \u001b[32m━━━━━━━━━━━━━━━━━━━━\u001b[0m\u001b[37m\u001b[0m \u001b[1m1s\u001b[0m 2ms/step - accuracy: 1.0000 - loss: 8.0686e-06\n",
            "Epoch 81/100\n",
            "\u001b[1m469/469\u001b[0m \u001b[32m━━━━━━━━━━━━━━━━━━━━\u001b[0m\u001b[37m\u001b[0m \u001b[1m1s\u001b[0m 2ms/step - accuracy: 1.0000 - loss: 7.8902e-06\n",
            "Epoch 82/100\n",
            "\u001b[1m469/469\u001b[0m \u001b[32m━━━━━━━━━━━━━━━━━━━━\u001b[0m\u001b[37m\u001b[0m \u001b[1m1s\u001b[0m 2ms/step - accuracy: 1.0000 - loss: 7.9803e-06\n",
            "Epoch 83/100\n",
            "\u001b[1m469/469\u001b[0m \u001b[32m━━━━━━━━━━━━━━━━━━━━\u001b[0m\u001b[37m\u001b[0m \u001b[1m1s\u001b[0m 2ms/step - accuracy: 1.0000 - loss: 7.8028e-06\n",
            "Epoch 84/100\n",
            "\u001b[1m469/469\u001b[0m \u001b[32m━━━━━━━━━━━━━━━━━━━━\u001b[0m\u001b[37m\u001b[0m \u001b[1m1s\u001b[0m 2ms/step - accuracy: 1.0000 - loss: 7.9542e-06\n",
            "Epoch 85/100\n",
            "\u001b[1m469/469\u001b[0m \u001b[32m━━━━━━━━━━━━━━━━━━━━\u001b[0m\u001b[37m\u001b[0m \u001b[1m2s\u001b[0m 3ms/step - accuracy: 1.0000 - loss: 7.9052e-06\n",
            "Epoch 86/100\n",
            "\u001b[1m469/469\u001b[0m \u001b[32m━━━━━━━━━━━━━━━━━━━━\u001b[0m\u001b[37m\u001b[0m \u001b[1m2s\u001b[0m 2ms/step - accuracy: 1.0000 - loss: 7.7538e-06\n",
            "Epoch 87/100\n",
            "\u001b[1m469/469\u001b[0m \u001b[32m━━━━━━━━━━━━━━━━━━━━\u001b[0m\u001b[37m\u001b[0m \u001b[1m1s\u001b[0m 2ms/step - accuracy: 1.0000 - loss: 8.0894e-06\n",
            "Epoch 88/100\n",
            "\u001b[1m469/469\u001b[0m \u001b[32m━━━━━━━━━━━━━━━━━━━━\u001b[0m\u001b[37m\u001b[0m \u001b[1m1s\u001b[0m 2ms/step - accuracy: 1.0000 - loss: 8.0247e-06\n",
            "Epoch 89/100\n",
            "\u001b[1m469/469\u001b[0m \u001b[32m━━━━━━━━━━━━━━━━━━━━\u001b[0m\u001b[37m\u001b[0m \u001b[1m1s\u001b[0m 2ms/step - accuracy: 1.0000 - loss: 7.7521e-06\n",
            "Epoch 90/100\n",
            "\u001b[1m469/469\u001b[0m \u001b[32m━━━━━━━━━━━━━━━━━━━━\u001b[0m\u001b[37m\u001b[0m \u001b[1m1s\u001b[0m 2ms/step - accuracy: 1.0000 - loss: 7.8904e-06\n",
            "Epoch 91/100\n",
            "\u001b[1m469/469\u001b[0m \u001b[32m━━━━━━━━━━━━━━━━━━━━\u001b[0m\u001b[37m\u001b[0m \u001b[1m1s\u001b[0m 2ms/step - accuracy: 1.0000 - loss: 7.9065e-06\n",
            "Epoch 92/100\n",
            "\u001b[1m469/469\u001b[0m \u001b[32m━━━━━━━━━━━━━━━━━━━━\u001b[0m\u001b[37m\u001b[0m \u001b[1m1s\u001b[0m 2ms/step - accuracy: 1.0000 - loss: 7.9248e-06\n",
            "Epoch 93/100\n",
            "\u001b[1m469/469\u001b[0m \u001b[32m━━━━━━━━━━━━━━━━━━━━\u001b[0m\u001b[37m\u001b[0m \u001b[1m1s\u001b[0m 2ms/step - accuracy: 1.0000 - loss: 7.6487e-06\n",
            "Epoch 94/100\n",
            "\u001b[1m469/469\u001b[0m \u001b[32m━━━━━━━━━━━━━━━━━━━━\u001b[0m\u001b[37m\u001b[0m \u001b[1m2s\u001b[0m 3ms/step - accuracy: 1.0000 - loss: 7.7726e-06\n",
            "Epoch 95/100\n",
            "\u001b[1m469/469\u001b[0m \u001b[32m━━━━━━━━━━━━━━━━━━━━\u001b[0m\u001b[37m\u001b[0m \u001b[1m2s\u001b[0m 2ms/step - accuracy: 1.0000 - loss: 7.6783e-06\n",
            "Epoch 96/100\n",
            "\u001b[1m469/469\u001b[0m \u001b[32m━━━━━━━━━━━━━━━━━━━━\u001b[0m\u001b[37m\u001b[0m \u001b[1m1s\u001b[0m 2ms/step - accuracy: 1.0000 - loss: 7.9401e-06\n",
            "Epoch 97/100\n",
            "\u001b[1m469/469\u001b[0m \u001b[32m━━━━━━━━━━━━━━━━━━━━\u001b[0m\u001b[37m\u001b[0m \u001b[1m1s\u001b[0m 2ms/step - accuracy: 1.0000 - loss: 7.7907e-06\n",
            "Epoch 98/100\n",
            "\u001b[1m469/469\u001b[0m \u001b[32m━━━━━━━━━━━━━━━━━━━━\u001b[0m\u001b[37m\u001b[0m \u001b[1m1s\u001b[0m 2ms/step - accuracy: 1.0000 - loss: 7.6531e-06\n",
            "Epoch 99/100\n",
            "\u001b[1m469/469\u001b[0m \u001b[32m━━━━━━━━━━━━━━━━━━━━\u001b[0m\u001b[37m\u001b[0m \u001b[1m1s\u001b[0m 2ms/step - accuracy: 1.0000 - loss: 7.7263e-06\n",
            "Epoch 100/100\n",
            "\u001b[1m469/469\u001b[0m \u001b[32m━━━━━━━━━━━━━━━━━━━━\u001b[0m\u001b[37m\u001b[0m \u001b[1m1s\u001b[0m 2ms/step - accuracy: 1.0000 - loss: 8.0181e-06\n"
          ]
        },
        {
          "output_type": "execute_result",
          "data": {
            "text/plain": [
              "<keras.src.callbacks.history.History at 0x7be476663dd0>"
            ]
          },
          "metadata": {},
          "execution_count": 121
        }
      ]
    },
    {
      "cell_type": "markdown",
      "metadata": {
        "id": "-6ykAvga0Avq"
      },
      "source": [
        "## 6. 試用我們的結果"
      ]
    },
    {
      "cell_type": "code",
      "metadata": {
        "colab": {
          "base_uri": "https://localhost:8080/"
        },
        "id": "I9c1E_Cj0Avq",
        "outputId": "b9b1007d-3a34-4167-e48d-8d7bfd84fead"
      },
      "source": [
        "loss, acc = model.evaluate(x_test, y_test)"
      ],
      "execution_count": 122,
      "outputs": [
        {
          "output_type": "stream",
          "name": "stdout",
          "text": [
            "\u001b[1m313/313\u001b[0m \u001b[32m━━━━━━━━━━━━━━━━━━━━\u001b[0m\u001b[37m\u001b[0m \u001b[1m1s\u001b[0m 3ms/step - accuracy: 0.9669 - loss: 0.3713\n"
          ]
        }
      ]
    },
    {
      "cell_type": "code",
      "metadata": {
        "colab": {
          "base_uri": "https://localhost:8080/"
        },
        "id": "Z5XOR_Pd0Avq",
        "outputId": "66499b0d-5558-4e6d-a519-b9bd3821d301"
      },
      "source": [
        "print(f\"測試資料正確率 {acc*100:.2f}%\")"
      ],
      "execution_count": 123,
      "outputs": [
        {
          "output_type": "stream",
          "name": "stdout",
          "text": [
            "測試資料正確率 97.15%\n"
          ]
        }
      ]
    },
    {
      "cell_type": "markdown",
      "metadata": {
        "id": "XTog-oR90Avr"
      },
      "source": [
        "\"predict\" 放的是神經網路的學習結果。用 argmax 找到數值最大的那一項。"
      ]
    },
    {
      "cell_type": "code",
      "metadata": {
        "id": "6MlKktZ50Avr",
        "colab": {
          "base_uri": "https://localhost:8080/"
        },
        "outputId": "a5ea508d-76e3-44aa-9bf0-c71ae5f9ccef"
      },
      "source": [
        "predict = np.argmax(model.predict(x_test), axis=-1)"
      ],
      "execution_count": 124,
      "outputs": [
        {
          "output_type": "stream",
          "name": "stdout",
          "text": [
            "\u001b[1m313/313\u001b[0m \u001b[32m━━━━━━━━━━━━━━━━━━━━\u001b[0m\u001b[37m\u001b[0m \u001b[1m1s\u001b[0m 3ms/step\n"
          ]
        }
      ]
    },
    {
      "cell_type": "code",
      "metadata": {
        "colab": {
          "base_uri": "https://localhost:8080/"
        },
        "id": "9R_o6HD_0Avr",
        "outputId": "c0d2a409-fc75-42fc-d7fa-f742ce18a2e1"
      },
      "source": [
        "predict"
      ],
      "execution_count": 125,
      "outputs": [
        {
          "output_type": "execute_result",
          "data": {
            "text/plain": [
              "array([7, 2, 1, ..., 4, 5, 6])"
            ]
          },
          "metadata": {},
          "execution_count": 125
        }
      ]
    },
    {
      "cell_type": "markdown",
      "metadata": {
        "id": "2RX6YjUj0Avr"
      },
      "source": [
        "`x_test` 每筆資料已經換成 784 維的向量, 我們要調整回 28x28 的矩陣才能當成圖形顯示"
      ]
    },
    {
      "cell_type": "code",
      "metadata": {
        "id": "v5i4Cxpo0Avs"
      },
      "source": [
        "def test(測試編號):\n",
        "    plt.imshow(x_test[測試編號].reshape(28,28), cmap='Greys')\n",
        "    print('神經網路判斷為:', predict[測試編號])"
      ],
      "execution_count": 126,
      "outputs": []
    },
    {
      "cell_type": "code",
      "metadata": {
        "colab": {
          "base_uri": "https://localhost:8080/",
          "height": 512,
          "referenced_widgets": [
            "7e8b111417b64b868b30f0468005d39d",
            "265003f5c35c4237bf556fe2d4e885ab",
            "778133f958da486bb0075e355c6f3dc0",
            "4f062879ab664fe9b81c784b9b5654ab",
            "6f8906d6701f49a892e49c003c1d3df8",
            "89e7c08ef1e34cc48d1facbf44a88920",
            "ae7549debae8404da80f40a3a8934681",
            "2a04c27f99b745d0919372d8b949dc5a",
            "9504db4044d64a74b10f943fbbd54612",
            "053a0f918a984666819714dbe2344b07"
          ]
        },
        "id": "-KT1EFNc0Avs",
        "outputId": "ea29a945-647d-4216-a621-629cad78e893"
      },
      "source": [
        "interact_manual(test, 測試編號=(0, 9999));"
      ],
      "execution_count": 127,
      "outputs": [
        {
          "output_type": "display_data",
          "data": {
            "text/plain": [
              "interactive(children=(IntSlider(value=4999, description='測試編號', max=9999), Button(description='Run Interact', …"
            ],
            "application/vnd.jupyter.widget-view+json": {
              "version_major": 2,
              "version_minor": 0,
              "model_id": "7e8b111417b64b868b30f0468005d39d"
            }
          },
          "metadata": {}
        }
      ]
    },
    {
      "cell_type": "markdown",
      "metadata": {
        "id": "8JjaNcvN0Avs"
      },
      "source": [
        "測試資料總狀況"
      ]
    },
    {
      "cell_type": "code",
      "metadata": {
        "colab": {
          "base_uri": "https://localhost:8080/"
        },
        "id": "cpilhXP00Avs",
        "outputId": "3bf093c3-8431-4f21-9fab-1e25c2920a13"
      },
      "source": [
        "score = model.evaluate(x_test, y_test)"
      ],
      "execution_count": 129,
      "outputs": [
        {
          "output_type": "stream",
          "name": "stdout",
          "text": [
            "\u001b[1m313/313\u001b[0m \u001b[32m━━━━━━━━━━━━━━━━━━━━\u001b[0m\u001b[37m\u001b[0m \u001b[1m1s\u001b[0m 2ms/step - accuracy: 0.9669 - loss: 0.3713\n"
          ]
        }
      ]
    },
    {
      "cell_type": "code",
      "metadata": {
        "colab": {
          "base_uri": "https://localhost:8080/"
        },
        "id": "GTtgPGrF0Avt",
        "outputId": "34d71ef9-0da2-4dff-ad8d-dc5d03af7477"
      },
      "source": [
        "print('loss:', score[0])\n",
        "print('正確率', score[1])"
      ],
      "execution_count": 130,
      "outputs": [
        {
          "output_type": "stream",
          "name": "stdout",
          "text": [
            "loss: 0.31543245911598206\n",
            "正確率 0.9714999794960022\n"
          ]
        }
      ]
    },
    {
      "cell_type": "markdown",
      "metadata": {
        "id": "FWK0fgKgCHa7"
      },
      "source": [
        "### 7. 用 Gradio 來展示"
      ]
    },
    {
      "cell_type": "code",
      "source": [
        "def resize_image(inp):\n",
        "    # 圖在 inp[\"layers\"][0]\n",
        "    image = np.array(inp[\"layers\"][0], dtype=np.float32)\n",
        "    image = image.astype(np.uint8)\n",
        "\n",
        "    # 轉成 PIL 格式\n",
        "    image_pil = Image.fromarray(image)\n",
        "\n",
        "    # Alpha 通道設為白色, 再把圖從 RGBA 轉成 RGB\n",
        "    background = Image.new(\"RGB\", image_pil.size, (255, 255, 255))\n",
        "    background.paste(image_pil, mask=image_pil.split()[3]) # 把圖片粘貼到白色背景上，使用透明通道作為遮罩\n",
        "    image_pil = background\n",
        "\n",
        "    # 轉換為灰階圖像\n",
        "    image_gray = image_pil.convert(\"L\")\n",
        "\n",
        "    # 將灰階圖像縮放到 28x28, 轉回 numpy array\n",
        "    img_array = np.array(image_gray.resize((28, 28), resample=Image.LANCZOS))\n",
        "\n",
        "    # 配合 MNIST 數據集\n",
        "    img_array = 255 - img_array\n",
        "\n",
        "    # 拉平並縮放\n",
        "    img_array = img_array.reshape(1, 784) / 255.0\n",
        "\n",
        "    return img_array"
      ],
      "metadata": {
        "id": "YCDldfE4eVh6"
      },
      "execution_count": 131,
      "outputs": []
    },
    {
      "cell_type": "code",
      "source": [
        "def recognize_digit(inp):\n",
        "    img_array = resize_image(inp)\n",
        "    prediction = model.predict(img_array).flatten()\n",
        "    labels = list('0123456789')\n",
        "    return {labels[i]: float(prediction[i]) for i in range(10)}"
      ],
      "metadata": {
        "id": "QUejwCO9S7R4"
      },
      "execution_count": 132,
      "outputs": []
    },
    {
      "cell_type": "code",
      "metadata": {
        "id": "ITOFueb5KSBD",
        "colab": {
          "base_uri": "https://localhost:8080/",
          "height": 849
        },
        "outputId": "b679c0ae-558b-4e9e-9573-073b3dc78b4f"
      },
      "source": [
        "iface = gr.Interface(\n",
        "    fn=recognize_digit,\n",
        "    inputs=gr.Sketchpad(),\n",
        "    outputs=gr.Label(num_top_classes=3),\n",
        "    title=\"MNIST 手寫辨識\",\n",
        "    description=\"請在畫板上繪製數字\"\n",
        ")\n",
        "\n",
        "iface.launch(share=True, debug=True)"
      ],
      "execution_count": 133,
      "outputs": [
        {
          "output_type": "stream",
          "name": "stdout",
          "text": [
            "Colab notebook detected. This cell will run indefinitely so that you can see errors and logs. To turn off, set debug=False in launch().\n",
            "* Running on public URL: https://bcfe64e92487e64ca1.gradio.live\n",
            "\n",
            "This share link expires in 72 hours. For free permanent hosting and GPU upgrades, run `gradio deploy` from the terminal in the working directory to deploy to Hugging Face Spaces (https://huggingface.co/spaces)\n"
          ]
        },
        {
          "output_type": "display_data",
          "data": {
            "text/plain": [
              "<IPython.core.display.HTML object>"
            ],
            "text/html": [
              "<div><iframe src=\"https://bcfe64e92487e64ca1.gradio.live\" width=\"100%\" height=\"500\" allow=\"autoplay; camera; microphone; clipboard-read; clipboard-write;\" frameborder=\"0\" allowfullscreen></iframe></div>"
            ]
          },
          "metadata": {}
        },
        {
          "output_type": "stream",
          "name": "stdout",
          "text": [
            "\u001b[1m1/1\u001b[0m \u001b[32m━━━━━━━━━━━━━━━━━━━━\u001b[0m\u001b[37m\u001b[0m \u001b[1m0s\u001b[0m 348ms/step\n",
            "\u001b[1m1/1\u001b[0m \u001b[32m━━━━━━━━━━━━━━━━━━━━\u001b[0m\u001b[37m\u001b[0m \u001b[1m0s\u001b[0m 29ms/step\n",
            "\u001b[1m1/1\u001b[0m \u001b[32m━━━━━━━━━━━━━━━━━━━━\u001b[0m\u001b[37m\u001b[0m \u001b[1m0s\u001b[0m 28ms/step\n",
            "\u001b[1m1/1\u001b[0m \u001b[32m━━━━━━━━━━━━━━━━━━━━\u001b[0m\u001b[37m\u001b[0m \u001b[1m0s\u001b[0m 28ms/step\n",
            "\u001b[1m1/1\u001b[0m \u001b[32m━━━━━━━━━━━━━━━━━━━━\u001b[0m\u001b[37m\u001b[0m \u001b[1m0s\u001b[0m 28ms/step\n",
            "\u001b[1m1/1\u001b[0m \u001b[32m━━━━━━━━━━━━━━━━━━━━\u001b[0m\u001b[37m\u001b[0m \u001b[1m0s\u001b[0m 29ms/step\n",
            "\u001b[1m1/1\u001b[0m \u001b[32m━━━━━━━━━━━━━━━━━━━━\u001b[0m\u001b[37m\u001b[0m \u001b[1m0s\u001b[0m 29ms/step\n",
            "\u001b[1m1/1\u001b[0m \u001b[32m━━━━━━━━━━━━━━━━━━━━\u001b[0m\u001b[37m\u001b[0m \u001b[1m0s\u001b[0m 28ms/step\n",
            "\u001b[1m1/1\u001b[0m \u001b[32m━━━━━━━━━━━━━━━━━━━━\u001b[0m\u001b[37m\u001b[0m \u001b[1m0s\u001b[0m 30ms/step\n",
            "\u001b[1m1/1\u001b[0m \u001b[32m━━━━━━━━━━━━━━━━━━━━\u001b[0m\u001b[37m\u001b[0m \u001b[1m0s\u001b[0m 29ms/step\n",
            "\u001b[1m1/1\u001b[0m \u001b[32m━━━━━━━━━━━━━━━━━━━━\u001b[0m\u001b[37m\u001b[0m \u001b[1m0s\u001b[0m 29ms/step\n",
            "Keyboard interruption in main thread... closing server.\n",
            "Killing tunnel 127.0.0.1:7860 <> https://bcfe64e92487e64ca1.gradio.live\n"
          ]
        },
        {
          "output_type": "execute_result",
          "data": {
            "text/plain": []
          },
          "metadata": {},
          "execution_count": 133
        }
      ]
    },
    {
      "cell_type": "markdown",
      "source": [
        "### 8.最後是我自己用Gradio測試出的結果：![螢幕擷取畫面 2025-02-28 214047.png](data:image/png;base64,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)![螢幕擷取畫面 2025-02-28 213943.png](data:image/png;base64,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)![螢幕擷取畫面 2025-02-28 214116.png](data:image/png;base64,iVBORw0KGgoAAAANSUhEUgAABz4AAANUCAYAAADCfYtmAAAAAXNSR0IArs4c6QAAAARnQU1BAACxjwv8YQUAAAAJcEhZcwAAFiUAABYlAUlSJPAAAIKUSURBVHhe7P19fFz1eSB8X7IsyZYly+8ebJmFhjwOtIDvELW9Y8LTJG1hm3uBlEDzCQQ2pG0CfT6Fso3TbCBpEtJuTEtNnwbSbAKFAE8WwjbQOym0CUkhZrtr6NqkJfGWLLkT24zfX2TLlmRZzx8zI80cjWzZnjOaI32/fA5Hc53f77yNpPHR9Tvnaurqmj8cAAAAAAAAABk2IxkAAAAAAAAAyBqJTwAAAAAAACDzJD4BAAAAAACAzJP4BAAAAAAAADJP4hMAAAAAAADIPIlPAAAAAAAAIPMkPgEAAAAAAIDMk/gEAAAAAAAAMk/iEwAAAAAAAMg8iU8AAAAAAAAg8yQ+AQAAAAAAgMyT+AQAAAAAAAAyT+ITAAAAAAAAyDyJTwAAAAAAACDzJD4BAAAAAACAzJP4BAAAAAAAADJP4hMAAAAAAADIPIlPAAAAAAAAIPMkPgEAAAAAAIDMk/gEAAAAAAAAMq+pq2v+cDJYa11d82LmzJmxaNGSmD17zkg8n98SERG5XLdYxmPbt2+N4eHhCceWLl0eTU1N0yi2LJqaCuMMGj22Y8e2OHbs2IRjS5YsixkzxGobOyNmzGiuQez1OHZsqOFjixefEc3Npx/bufP1GBqaqrF8DA0dPYlYLpqbZ07J2KJFuZg5M7uxXbvycfToycSWxsyZLTWIbY+jRwfFahjbvXt7DA5OPLZw4ZJoaWnNSGxHDA4OiE1ibMGCJdHaevqxPXt2xsBA/0nEFkdLS2scPtwX27b9NA4e7I3JsGRJLhYsWBTNzTOjpaXwswQAAEDjGB4ejv7+I7Fnz67YsSOfXDypUk18trW1xZln/kz09u6PQ4cOxtGjR5NNSFi58mdHEosAAMCoXK7bv5XroKmpKYaHh+PYsWOxf/++6O/vTzZJRVtbW5x99hujt3d/9Pb2xtGjgzE8nNrlKifJtSoAAFDS1NQULS2tMWtWe8yYMSNee+1f63bteCKF24xSsmLF2bF//+7Yv3+fpCcAAEAGlJKNra2Fgaz1cuaZPxO7d++MvXv3xODggKQnAABAgxoeHo6Bgf44cGBvDA4OxNlnvzHZZNKklvicM2dO7N27K3p7DyYXAQAAnBRJsPo7enQwBgcHYsmSXHJRzS1Zkou+voNx8GCv9xoAACBDDh3qLZZhS//acSJSS3zOm7cgBgYGkmEAAAAy4siRvmQoFQsWLIpDhwyaBQAAyKIjR/piwYJFyfCkSC3xuWjRUo+3BQAAyLimpmSk9traZhk4CwAAkFGDgwPR1jYrGZ4UqSU+m+pxdQwAANDgOjo6oqOjIxlOXS6Xi09/+tNjplzu5B4/dMYZK5KhmmtqavKIWwAAgIwaHh5umLxg86xZs/8wGayFjo7O6O09kAxzAosWLYmDB503AABI6uzsGvNv5VwuFwcPVn9E6qWXXhpXXXVV3HzzzXHVVVfFxRdfHBdeeGEcPHgwmpqaxu1XC7lcLt7whnNi1aoL4+d//ufjvPPOi1WrVsU555wTCxYsiL179465w7GjoyNaW1vHxE9VR0dHnHvuuTEwMFAxbdq06aSOvaNjbuTz25Lhmsrllsfu3TuTYRqIa1UAAOB46nHtOBFNXV3zUxlWm8udEfv370+GOYGVK3828vktyTAAAExrw8PDccYZK8b8W3nNmjWxffv2ePDBB0diF154Ydxwww1x4YUXxjPPPBPbt2+PfD4fuVwuLrzwwli6dGnkcrm49tprI5/PV6xvPLlc95htj+fCC1fFqlUXRkTEwYMHR6YoJkRLd39u3LgpNm3aONLv0ksvjVwuV3EsJR0dc4+bdDrZuziTjncecrnu2LhxQzJcU6tW9cTmzf+SDNNAXKsCAADHU49rx4lILfF5zjkrY+vWnybDnICLSQAAGGu8xOfdd98dmzZtGkkW3nDDDXH99dfHpk2bYu3ateMm9NasWROXXnpprF27Np555pnk4jEmkvjs6OgYucvz4MGDsX79+qrbz+VysXr16ujo6Ih8Ph/r16+PgwcPnlbi89JLL401a9YkwxN2ovOQz7+eDNWUxGfjc60KAAAcz5RPfLpwPTUuJgEAYKyJJD7vvvvuuPDCC+O2226LTZs2VbSrppQkPVHSLyaY+Czd6Xnw4MF44oknkovHKCU6S8nP1atXn3LiM5fLxdKlS+Puu++Ohx56KDZuHL2TdDy5XC7WrFkTt91228hdseOR+MS1KgAAcDyNkvickQwAAABkzckmPSMiHnzwwXjooYfi0ksvTS46aR0dHSeV9IyIeOaZZ+LVV18duQO0ubk52WTC8vl8bN++PSIiNm7cGJs2bTrhVEp0ln9dTS7XnQwBAABAQ0ot8Xm80cgnsnLlyvi1X/u1CU3veMc7kt0BAIBp5Fd/9VdPOulZ8swzz8TSpUtPO/n5hjecE1FMIk5UR0dHbNq0KX7wg1cil8vF4sWLk01OSy6XG5mqvZ4KvvKVryRDAAAATGMNl/hcuXJlrFmzJhYvXjSh6ed+7ufid3/3d5OrOQmr48aP3xm3vmdZcgEAANDgVqxYEYsXL449e/bEmjVr4pFHHolHHnkk7r777mTTqvL5fGzatOm0Ep/ld3u++uqrycVVXXXVVSPTueeel1xcM4888kjMmTMnIiLmzJkTjzzySLJJ5l1yydvGnRYvXpRsDgAAwBSWWuKzo2NuMjQhb3jDG+K55/4hHnzwoQlNDzzwQJx//vnJ1Uzc+66L97/7srjuvR9MLgEAABrcvffeG1/60pfiS1/6Ujz00EMj09q1a5NNx7Vp06ZYunRpMnzSjve42KRNmzbFq6++WjFt3bo1fvKTnySbTrpGr+v4pjedW3W68spfj0WLansXba0te8s74rJLVibDNVev7QAAAEy2hkt8lsvlcvE7v/M78b73vS+5qHYefTi+8tdPx8Nf/XJyCQAA0OC+853vxGOPPRbPPPNMxXQyScjTdfDgwWTohF599dVYv359xfStb30rvvOd7ySbcgJf/OIXq067du1MNm04V/7OnXHn716TDNdcvbYDAAAw2VJLfNbCe97znvjJT/6f6O7ujre+9a3JxTWyPu7/7O2x7mvbkgsAAIBpYCrVvExDLtedDDWU5ONtS1Oj3+0ZEbGwszUZSkW9tgMAADDZUkt8nmqNz3J79uyJc889L/7NvzkzDhzYPxI/99xz45JL3lbR9tStiUeeeyGeunt09Os1dz8VLzx6R6y89Na476nvxIsvvhgv/vfvxFN3XxfllUDXPPRCPPOFm+Oy2+6Lp77zYqHdc8/E/X9wWUU7AAAgXRdeeOFp1ek8XQcPHjzlBOo555wT55xzTjLMBF188duqTrt27Uzlrs+Vv3FnPPLN0nXiC/Gdr62NGyvKtF4T9zz1Qrzw0JryYMQfPBIvPPdU3PMbERE3xj3f/E782xURseLfxgvPvRAvPPdIlHpM6FrzN+6Jp557IR75g5EtjPR94al7onCFe/ztAAAATDUNnfh89NFH43vf+17ce+998c///C8RxaTnb/3Wb8eVV/56jZKfbdHa3hqd7aMjYFvbO6P1De+IL3zymli+Y0M8/c1n4+XdbbHskvfHRy8v69neGgvfcmPc+Z7lsev5++PeB56Olw92xgXv+UTc+WGpTwAAqJdcLhdr1qw56eRjLpeL66+/Ph566KHkopPy6qs/io6OjpNOYOZyuVi9enVNaoxOV3/0R3807rRz565k89Oy7Pr74gsfuSzOjtfi6QfWxr1P/TB6l70jbv7S43HHL5RatUZrZ2u0trdVdm5tLVxrNkdE7I7NL74cW/sjYt8P49nvPhvPfnd9bC42ndC1ZnPhOrY1cTNnW3tx+xEn3A4AAMBUk1risxY1PiMiXnjhhfiXf6lMev7n//zF+OM//mxceeWvxy/+4i8mu9RGc8QPv/CeuPw318Ttn1gTN35hQ+yOhfGmX7qssl3f5nj4Ny6PGz9xb9z/+dvjxg99PTYPtcYFv/xBd30CAECdlOp6nuxdn5deemnk8/l45plnkotOyqZNGyOKd55OVEdHR6xevToOHjwYmzZtSi5uGPn8lmSooZx77rkTnhYvXpTsfhKuiI9e2xOdfS/Hwx+6MW7//GNx/2dvjMv/0/rY3Xp2/NvfujHZ4TiejHs/sSF2DUVE72tx+yduj9s/cW88Wd6kJteaE9gOAADAFNLwic+S8qTnD37wg9i5c1f88R9/Nv6v/+td0dzcnGxeA7ti20NldT+f2hUHIqK1PXGhPHQgdv207PVP18YPfxoRS86OK8vCAABAutauXRvXX3/9hJOPN9xwQ03u9izZuHFTdHR0TCj52tHREW94wznR0dERr776ozh48GCySU0kE6rJ11PBu9/97glNv/Vbvx3nnntusvvE/cLqOHthRO8rz8a95deATz0cm7ZFtJ7VU3y8bI241gQAADhpqSU+aymZ9CzZuXNX3H33upgxo7EOY+u+gYj2zliYXAAAAKRm06ZN8dBDD8WaNWtO+Njbu+++O66//vq47bbbTvtuz5JNmzZGPp+PXC4Xl1566biPvS0tX7XqwuLdnoW7RWstn8/HbbfdFj/60Y8iIuJHP/pR3HbbbZHP55NNjyuX606GGkry8bbjTT/84ei15Cl5Q2d0RsSubQ8nFmyI3oGI6Jx7EndinhrXmgAAAMeXWsawFjU+4zhJz5I9e3bH4OBgMjypls9rjejdFa8lFwAAAKl68MEHY+3atXHhhRfGn/7pn8bdd98dN9xwQ1x44YVx6aWXxpo1a+Lb3/52LF26NG677baa3wH5zDPPxMaNm0Zqd1511VWxevXquPDCVXHppZfGVVddNXJH6MaNm+KJJ55IroKTtHjxoglNp22oMJs7L1H+JJZFW3NE9B2I2lYUHcu1JgAAwPE1dOLzREnPhrRiTbxpRUS8/lo8m1wGAACkbtOmTXHttdfG3/3d30VExK/+6q+O3AUaxUfi/of/8B9OKul5MnUuN23aGM8880y8+uqr0dHREeecc06sWnXhyB2o+Xw+1q9ff1J3ep7M9VUpwXui6YYbbkh2zaSPfezjE5re9KbTeMxtRMR/2RCv9UUsPOcdsbo8vuK6OHtZ+TXgQCFJ2toZPWXNVncmy8EU2zW3TexO0eS1ZjER29ZesZXobC97GXHy2wEAAMiw1BKfp1rj88iRI9HVNS8uuujN8eEPfygeeeQrsWXLlujs7Kw6rVixIg4d6kuupn46L4xr7rk5rjgvYtlbrou1f35lrGzujQ3/99ooqxAKAADU2YMPPhi33XZbXHvttXHttdfGO9/5zli7dm0888wzJ/2415NVSm4++OCD8cQTT8QzzzxT8XUa28/n87F27dpkeFwTbX8ySd/JcNttvzfh6bnnnk92Pwn3x5e/9VoMLHtH3PnArXHZivJrwN2x/qula8DHYvOOiFjWEzd+uCeWnbc6brzrqbhrdWdifaV2F8TNly6LOK8nelaULT7RteZ/2RzbhiKWveXGuPkty2LlJTfG2r++Ky6eV7aOiBNvBwAAYApp6uqaP5wM1sKqVT2xefO/JMMT8ru/+7tx0UUXxdGjR+PYsWPJxRUOHeqLxx57LF54YX1y0QTdEY+/eEUsenFdvP3DhVot133hO3HrW3bFk2+5Oj5znHZ3fO3FuGLJtnht36I4e1lrodlQb2z+2u1x7V2ntj8rV/5sw/9hAQAA6m14eDjOOGOFfytPknz+9WSopk71+vErX/lKPP/8ySczf/jDH5xiEnRZXPPpe+KmS8+OzuZiaGBbrL//I3HLlzaPNrvkjnj8P10RZxcvE2P3y/HwX/fHFb/5pvjh3W+Pmx4txt93Tzxzy+pY2BwRMRAvf+mtceMXJn6tufoTj8ddl58dI5vZ+HA82X9F3HjeD2Pd22+KkWqk42znZLhWBQAAjieX646NGzckw3XXkInPrLjjay/GFQs3xLq33xQbLrkszu7ojde+uT7KLndPmotJAAAYS+Jz8tTj4vVUrx8XL14Ub3vbJcnwCf3gBz84vXIqK3riHecvjNaB3fHytzaM87SflbH6186OzuO2KVvXwdfi6ecKV5Mnda153uq47KzOGNjxcjz74rhbqbqdk+FaFQAAOJ56XDtORGqJz3POWRlbt/40GZ5Syi9GR0bSniYXkwAAMNbw8HAsXLgkDh48EAMD/cnFpKgeF6+nmvicqtK41jxdrlUBAIDjqce140SkVuPz4MEDyRAAAMAp6+s7FB0dc5NhAAAAgIg0E5/T4Q8SW197LV770bbYlVwAAADU3MBAfzQ3N8eCBYujtbUtuZiUuMuv/lxrAgAAnJrUHnXrUUWnxuODAACguuHh4Whunhnt7e3R2jpL8rNO8vktkc+/ngzXlOvHxudaFQAAOJ5GedStxGeDcTEJAADjGx6uvHxJvqY2mpqaRr4+44wVqV+8un5sfK5VAQCA42mUxGdqj7pV4xMAAKi18oRc6bWp9hMAAABkkcQnAACQKckknSndCQAAALIitcRnR8fcZAgAAICM8XhTAAAAskLis4F0dc2L/v7DyTAAAABMmq6ueXHkiGtVAACg8aWW+OTkdXXNj8HBwWQYAABg0uRy3ckQ00xX1/w4etS1KgAA0PhSS3yq8TlxLS0tceaZZ0db2yznDQAAgIbgWhUAAMiapq6u+cPJYC3kcmcYGTxBR48ejSNH+lxIAgAADSeX646NGzckwzW1alVPMkQDcK0KAABMVD2uHScitcTnOeesdHEEAAAwBeTzrydDNbVqVU/k81uSYQAAADKiURKfqT3qtqNjbjIEAAAAAAAAkIrUEp8AAABknxImAAAAZEVqiU+PuQUAAAAAAADqReITAAAAAAAAyLzUEp9qfAIAAGRfPr8lGQIAAICGJPEJAAAAAAAAZF5qiU8AAACyL5frToYAAACgIaWW+FTjEwAAAAAAAKgXiU8AAAAAAAAg81JLfKrxCQAAkH35/JZkCAAAABqSxCcAAAAAAACQeaklPgEAAMi+XK47GQIAAICG1NTVNX84GayFc85Zmek6n21ts2PWrNnR2toazc0zk4sBAACOa2joaAwMDMSRI4ejv/9wcnFm5HLdsXHjhmS4plat6vFIXQAAgAyrx7XjRKSW+MzlzkiGMqGlpTU6O7uiqSni8OG+6O/vj6Gho8lmAAAAx9XcPDPa2tpi9uz2GB6O6O3dH4ODA8lmDa8eF68SnwAAANlWj2vHiUjtUbdZrPHZ1jY7Fi5cEkeO9MXu3Tujr++QpCcAAHBKhoaORl/fodi9e2ccOdIXCxcuiba22clmDU9CEgAAgKyQ+CxqaWmN+fMXxt69hYQnAABArfT1HYq9e3fG/PkLo6WlNbkYAAAAqIHUEp9Z09nZFQcO7I3+/v7kIgAAgNPW398fBw7sjc7OruSihpbLdSdDAAAA0JBSS3wePHggGWpYbW2zo6mpMAobAAAgLX19h6KpqXANAgAAANSWxGdEzJo1Ow4f7kuGAQAAau7w4b6YNUviEwAAAGottcRnlmp8tra2esQtAABQF/39/dHamp06n/n8lmQIAAAAGpLEZ0Q0N8+MoaGjyTAAAEDNDQ0djebmmckwAAAAcJpSS3wCAACQfblcdzIEAAAADSm1xGeWanwCAAAAAAAA2SbxCQAAAAAAAGReaonPLNX4BAAAoLp8fksyBAAAAA1J4hMAAAAAAADIvNQSnwAAAGRfLtedDAEAAEBDaurqmj+cDNbCOeeszEydz1yu2+ObAACAusnSNUgu1x0bN25Ihmtq1aqezJwPABhrTTz6/BVxdjJ8Mn78ZPyf71+bjAJAZtTj2nEiUrvjMytJTwAAAACAU9care2nPwEApy+1xKcanwAAANnnTkwAAACyQuITAAAAAGDSDMTL37o/GQQATkFqNT6zVKMlS/V1AACA7MvSNUg96rRk6foRAE7Psrj5rx6PD54/+mjb3hfviWs/9HBsrWgHANlSj2vHiUjtjk81PgEAAAAARi2/bW28vyzpGbvXxzpJTwCoGYlPAAAAAIC0rbgp7nz3yhhNe+6O7/3FrfH1ikYAwOlILfGpxicAAED2eQQtANTGdbdfHRe0j77uffHhuOWp8hYAwOmS+AQAAAAASNMla+Oat3SOvh7YHF+/8+HyFgBADaSW+AQAACD7crnuZAgAOCnL4uYbV8fyssjuDY/Hup+WBQCAmkgt8anGJwAAAAAw7f3CTXHZ+aOVPWNoc3z7rifLWwAANSLxCQAAAACQkiuv7am42zNefTkedrcnAKQitcSnGp8AAADZl89vSYYAgAm7Ma74PxaWvR6Il59fG1vLIgBA7Uh8AgAAAACk4aaL403tZa+HXotN95W9BgBqKrXEJwAAANmXy3UnQwDABN38CyujrLpnxE9/GI+XvwYAaiq1xKcanwAAAADA9HV1XLCiIu0Zu3/yosfcAkCKJD4BAAAAAGrtF3pi2bzywEBs/V9PlwcAgBpLLfGpxicAAED25fNbkiEAYCJWL4vlFYFdseufKgIAQI1JfAIAAAAA1NhlKxYlIv1x4L8nQgBATaWW+AQAACD7crnuZAgAmIA3LV1YGejdFa9VRgCAGkst8anGJwAAAAAwPfXE8s5EqPdgbE6EAIDakvgEAAAAAKipldGZTHwOHIgNiRAAUFupJT7V+AQAAMi+fH5LMgQAnNBZsSiR+Bzo3V0ZAABqTuITAAAAACBl/f29yRAAUGOpJT4BAADIvlyuOxkCAE7kXYvCbSEAUH+pJT7V+AQAAAAApqVv3Bq/elFPXFQ2/dKHHk62AgBqTOITAAAAAAAAyLzUEp9qfAIAAGRfPr8lGQIAAICGJPEJAAAAAAAAZF5qiU8AAACyL5frToYAAACgIaWW+FTjEwAAAAAAAKgXiU8AAAAAAAAg81JLfKrxCQAAkH35/JZkCAAAABqSxCcAAAAAAACQeaklPgEAAMi+XK47GQIAAICGlFriU41PAAAAAAAAoF4kPgEAAAAAAIDMSy3xqcYnAABA9uXzW5IhAAAAaEgSnwAAAAAAAEDmpZb4BAAAIPtyue5kCAAAABpSaolPNT4BAAAAAACAepH4BAAAAAAAADIvtcSnGp8AAADZl89vSYYAAACgIUl8AgAAAAAAAJmXWuITAACA7MvlupMhAAAAaEipJT7V+AQAAAAAAADqReITAAAAAAAAyLzUEp9qfAIAAGRfPr8lGQIAAICGJPEJAAAAAAAAZF5qiU8AAACyL5frToYAAACgIaWW+FTjEwAAAAAAAKgXiU8AAAAAAAAg81JLfKrxCQAAkH35/JZkCAAAABqSxCcAAAAAAACQeaklPgEAAMi+XK47GQIAAICGlFriU41PAAAAAAAAoF4kPgEAAAAAAIDMSy3xqcYnAABA9uXzW5IhAAAAaEgSnwAAAAAAAEDmpZb4BAAAIPtyue5kCAAAABpSaolPNT4BAAAAAACAepH4BAAAAAAAADIvtcSnGp8AAADZl89vSYYAAACgIUl8AgAAAAAAAJmXWuITAACA7MvlupMhAAAAaEipJT7V+AQAAAAAAADqReITAAAAAAAAyLzUEp9qfAIAAGRfPr8lGQIAAICGJPEJAAAAAAAAZF5qiU8AAACyL5frToYAAACgIaWW+FTjEwAAAAAAAKgXiU8AAAAAAAAg81JLfKrxCQAAkH35/JZkCAAAABqSxCcAAAAAAACQeaklPgEAAMi+XK47GQIAAICG1NTVNX84GayFc85ZmZk6n7lct8c3AQAAdZOla5Bcrjs2btyQDNfUqlU9NT0ft18yJy5/U2u0tzQlFxUMD0c0NRXm0RQRJ7gsLm9WpflwDEdTNBXnVZqXBap0r9ZjbPi4Ev2HyzY0gf7l+1k4LWOPpyT5OmLs5ivPa9UelcYsPkH/CRxuYT72OMbs3kSUf7+MfN+chBN8v43d79H9HNls4niOa8yKJthg3PZJlf2Hh4fHnJ7k2pPzivWUd5iIMSscE0j2qJRoXvp+Hzme5PdLcl4WqHo8423/BItHjdnBsTtSpfXo6+L3yfBwNDUV5+N0T76OKG94qt/vyRUnjie5xRMebvnPcZX3Z5zVjpVoOOF+CdW+0csXVznaytM59niOq9qKxmzhOE6wOLmeisOr+n4k54nIOOdlfOX9TvP7bczP85jFY+djNjemxUktPmGDccIlpcWjr8t/nqu/H8dVcV4n1KNgpPkJjicp0Xx0f8d+31esbYKrP84GTr9/FdWOvnRaSj/PpSXHWc2oMfs5Zs2V7UvGXXz8/hP5eS6tZ/T3UdmSsQ1PoNjhlH+eK79fx/y+H28+ZnMT3PExKzrJBmPaVxrzfT+Bfy9VV2xR7Ng31BTP7JkTd/90frJhQ6jHteNEpHbHZ1aSngAAAEwdt1/SHu89v62Q9Cz9BWF4uPD18HDEcPHPzKV52Z+dy5tXzGO4uIqyedl/I2spbiYKmxmdly0ota6YEm1GFpWajijb1sjrwj7FcNm8uCi5upGp2KY0L/QtratyG6UtlZTaF16Me8BlPUttRkOlpqWp4hwmXkXx+IZLmyv/urSuan2K2x2Zl7aV2JfKF8V5RePyWNm8zEjv4rLh4s4V5pXnurhnFVNxF8vmxfey9N6O9Cp8NcaJV1g5JZaNHG55uLSq4jYLTYr/L57XwuEVWiVPT+U6intd9v1WXMnYDtWUr3xkJwv7MrLOKmdoZD7SvdB/ZN+j8vu9sMbS6+LqS/PRzVUsGG1dttUxO5D4OtFgdMvFeWndw1F2zka7llZX6lFoUziW4WKDiu/FMVscVepfeDHmQEfn1Yw0Kdtm8byW9qn4qnJeOobiZka+Lj/2kb5lvUfWPXY3S/tS+aL8GIobKs3LmiRXMWaPizta9ee5bHUjqx3ZVHENx/39WtpqmfIdqlxhlQMunbPRUMW5KZ2zxDZL/5X6D5fm5esYmVdfQ+H4SiegbF5oMr4xG6mMlbqOOy+dw+I2C/tePKLSspGjK/xvzLy4zdLxVU4VW6sMVVmcbFB4lfw5Ln8/kqsdeSeKy0aPpXR+R495dEuj81KwbF4+lS8b6VkmsWjsz3FhYeW8rFvxWEY2WTzm0rzsyEaPZ2ReXFFypRUvSg2KU6lTaaOJpslVjWy7+AYUZmXz4moSWxmZRs5BeZ+RdVVurfSq4kXFCSouKPYvazQyT6xypOlI15FtFfeh+P+RefnmytcxMq9cw8h+lL0vFSek1GREIjiyg8U9KPUvLkuuYmQ+0qT4vV6aSrHC2sb2TXwLRNnPcWk+dmtlyhdVX2HFlFx34nDLWxZXW/6eVJ7XMT/HpXlhNrKGMY2Gy96XYqx9xrF496LeuK17T7E31aSW+FTjEwAAIPtqeSdmPVzzc7NGXzSV5k2Fr5uaIpqaCneDVMwLjcubV86biqsom1f8V7msuNrReXFZxXy0V3E/E/ORnSnOy16U7enoOov7OHI8VVY3MhXbVMyL56OpeNClbZRvaWQ+so3R40kccGWPRKjUdHRx+TYrX0Xx+JqK/Sq+HplXnM3Rr0rrLtutkXlhNtK+IlpxLIkOVYz0Lp274s4Vtl25b1WnxDFF8ZiLayhFKuYlxWaljmWB8nkillhc6pLsVb7t0U2U/wxUns/RNsl5ca9HftZGOyaPp6rSRsp3smLvkpHx5qX3pXwq7cfoNNKn/JwUvxhtfToq96z0/8ro8eeFafzvj2p9yufjO3GLkb/SFk10m2P3v/qywrxsncU7YsqXn7TKvyxXSK67qdhmZJ5cfsL9Hz7hOipU27fhqoGqSucoivPktqrtW1PZvsVx9rNiXlr38Dj7PJ7kX/nHixWN2XZp34p//C/sQ+EusNIOjLefY9cx2qdg7PYrjq3qcSaCpXWWb6PaPozMS/s82r+p2L+peD6S3z8lI+c/ojJrcpzzOUb57o/se/FF2Xmtfu7Kjq+sf+m8Jo+tdFylaeR4KuaJ4Mi+FGNl/ZNNK18Ut1lMFI3OC+sc7/0YiY20Ke9bvk/FxknJ/St+nxb2Pdlv9PukYl42jZyz4rxwLkv7UnY85X3K5xXvR6FtYV2leTFWMU/sU/mL8v5j+pXajHZJvscjP7cj/QtT4TgLjcb9+U1ua7i4oGKfSrGyecV0nP5j+o3tP/KzWd6m7P2Ike+X0f6jx1w8sNI2otS/cIyj/94uKL1qihj991JT8d+ixX+nF5qMzv/dokPF3lTTPGvW7D9MBmvhzDN/JjN3fXZ0zM3MvgIAANmXtWuQgwcPJkM1lcstr9n5+J2fnx3Dw+WPeJzAo7JOHEhuptK4zcZZcILVj12cOI7hwt89hot/IBqz2aSKDqf/6LETbXHs5hKP+qryflSuYCILyhqMEx5fokPifFRbXcW8/PurOD8pp/P9VdF8TGBMtLC/Y7tXzhPrGdvgBIoNT/H7q3QeS/0L3y/VdyO5O6XjS3xR1uI4xm0+7oKCxA6Vzu/o4nG+36ucnupbGWcDYxuOo7zfid+P0tZGXo/5/TL257aqcU9b4niSDcYJjxqnf5XTU32eeD9O+nwWTfB8jjHm+CoDY/e3OB/zPoweTzJSYZzwqET/sRuYoEKHws9v9dWMNy/rfno/t2P6H2c94ywe8/2R/Hyq8j4k11B1++Nsb3zFDif5fTZ2P8ceT0nV3Rmzn+McT9K4i0/QPxGu1rowH/vzehKnZdRJns8RIzsyds+qNhvzPoweR+mr5PtRfQWVi0eN02Cc8PiKHYo7OJGf28ru5Qd4Eue1/AQdfwuVxm1WWDDm57XK+3B8iQ2Mu73xFDuUn8jjKK1+bOTk1lPS1BTxQL4rGZ50HR1zI5/flgzXXWp3fAIAAJB9uVx3MtTQ8gePjb3zrql0593oHXhReFWYJ+64K9wBWTaP490ROXoXWXH1o/PiuotrHZ1GGpU6JRaXhQvz8m2W9qE4L9/XKDuG8qn8zs4oNBrtW1z3mOMqKLUvNiqtMHmgFT3KmxfmhX4j82K/8nnxVWGe2MzIVHY+R/d27LoqtpXcvYoX5cc1OjUVN17YVGlbZb2KKy2fV0yl2OgeVkwV2xiZF1uX5sWtlY6ncgdKU2lZ6UArtziyhuKiMfNS17IeTcV9qJyXjrH8mMt3qbitsnNWmkrtRzsU52WSbQrvXbHvmPehtK+lbRc3Vew3uq+jU+EcjDkrleeguMLCLowuKPWvmMa0SS4urbtsW2XrGt3HGDmu0WMotC+2LG6i8NXI8RT7j8yLmx6dF19VeT8SBzrapkzZorHbKu1LxX/FfS0/hvLNFZdVzMuPsKnwVfm2KqaRPSyfjx5LYVZ5PourG113cWsRhW0U9rc0lWJl8/LNj+xGad2l96H8PR1dd1mPyi9HVlp5oirORfneFjZWOszReTFWMS//r3xZcVul3RpZZ2kbxWBTsVFhntjH0r6Xz8teVJyD5LlJvh/FXpWbKHsPyt+b0jor9rhsXSPz0jkaPWfFwMg+julUNpWOuWJe2HphXuxXvo2KaWyPkX0vrLN0Lkrnqrh75fPi/wubKltYbSrrUf7VaLeybZX2r+I9TuxroVnZJsrfj8IWKnsV97S47uKi4jaLe5Scj2k0utHylyPz0jaiuB/FY4jSsZRPI22K+5/YYumYC9sqnoPyeXFr5dssC5WttHwni2svrbv8zBT7jTYpneNC/+LRjP5XipXPy6aRdY2su9BvZD6yoSr7OnIMxXn5i2K/MeekuKy4qZHVjExjzvlx3o/itsrXVdhW2TzKj6HQvmLHy0MVU2FZxbkonxfXXTqPI9No1+K8vGfpHIweTyFUmo/Zu9FX5cdQPo0sK8xLfUfXN7q2wsvkeir7J712pCUZokxqic9ajdYFAACAifrlB/fFV79/JA4NlB5nVRz6PTxcGEI9wZpVI/PhQovhsnm13sPF/43My9cxdguVX48TrpiXvShss7zOVGFDI9tOdC2tdmT15TWrSm2KO1xxPGXzCoWTUbmx4/VILBrtWug/cjzFpck1lTY3XPy6Ylnx/2P7ltZd0XAc4+xglG2wzJj9K81HzmGhX/k+lU8VfYr/q4wnjmMiKpodv0/ykKruU9m2C/udfJeSbSvnJcnX1SKnK7nt5Ly016VpNDK27XCU/R1yQnt7ghZj/045xnCxTdV9Kfs6+bpiXlpHYntV927k76zljSewo+VG/1ab2JemMfs20qb8vE7gmEcU/w488vUYiYVNxf9N8PAK9wtFDBfPx3BT4dwU9rl6x4r9HTm+0WMf3aXq/SuMOb5qB1v2dWJx5T6UHU+yf2ndTaVjHPt9U3oPR/qMzCr7J5scV/IP+SOxsv0uP6eJfar44//Ie1ScF3cg+X4U+o2z7yMLE7Fkv2r9KxoUvi6dy9I0cm7Lu4z0i+L3SelYSu9H2XxMv4Tk+Sh9XVqWVL7bkexfPIdl/UvfAxXfyxVT6ZjLz0thKqyrGCufl0+lLuVtovJ8JPexev/S18UXxf6Fc1m2j+Xty/uVlG1r9LjKplKbwhdj1zVmX8uPJdmvyvEk+pfej5H3ZWRd5f2rrKe8zcgOJval2r6O6VKKJftNoH/F79HytlWm0jbKt10eG6//mGNKti2uK9m//Fgq1pFsW+pfnEptyvtXncbpX75s5PgKC6v+W6zy4qEQTMYiom+oKf56V0fc8IMzRmKM1dTVNT9xmmsjl8vOic/lujNXtwYAAMiuLF2D5HLdsXHjhmS4plat6snM+QAAAGCselw7TkRqd3x2dMxNhgAAAMgYCUkAAACyQuITAAAAAAAAyLzUEp8AAABkXy7XnQwBAABAQ0ot8Xnw4IFkCAAAAAAAACAVEp8AAAAAAABA5qWW+FTjEwAAIPvy+S3JEAAAADQkiU8AAAAAAAAg81JLfAIAAJB9uVx3MgQAAAANKbXEpxqfAAAAAAAAQL1IfAIAAAAAAACZl1riU41PAACA7MvntyRDAAAA0JCaurrmDyeDtbBqVU9mLpBzue7M7CsAAJB9WbsGyedfT4ZqqqbXj9feG9+9rSc6k/GkHz8ZF111ZzIKAACQuuWX3hJrfvuK+PkVndHaHBFDA9G767VY/9Bn4uNf3ZxsHrHisrj1IzfGlT1nR2drMTY0EL0/3RBf/+LaWPfMtrK2V8dn//SmuOwNhauigW0b4r/cdXOse260SVyyNp76s7fHrPV3xq/+7pNlC05dLtcdGzduSIbrLrU7PgEAAMi+XK47GcqE3hfviYsu6hkzXV76I8JQsgcAAED6ll9/bzzwmevi52f/ML5+53WFa5V/vzb+9qeL4h0fuS8eva0n0eO6uOfLn4n3r14Uu/7+nvjwlT1x0UVXxIf/4tnYtXB1vP8P18Udl5TaLotbP3drXLbwh/HlD10RF71/bXwveuL9t6+LK0fWtyxuvnF1LB/YHN+8qzZJz0aSWuJTjU8AAAAaS0/cvHplRERs3nB/ciEAAEDKros7buyJhf3fj6986Ob43FPFgZmvPBmf+9CN8V82t8XKq2+JW1eM9lj+ycvj4oURu9ffE+/5xMOx4acREdtiw0N3xHse/n4MtJ4dV354TSyPiIgb4+KVrbH1xQfi3he3RbzyeHzkO5sjFr4p3v6u4govXxNXnt8aW5+7L9b9dHQ7U4XEJwAAANPD5ddGz4qI6Pt+fPuuskdBAQAA1MO1b403dUYM/GhD3Dsm6bgt1r34WkTryrj4xmUj0bcvWxQRA7H1B1XuzvzS/46tERHLzoq3l4UH+soeObv9QPRGa7TNi4joiTtuWB0L+74fT350fVmPqSO1xGdHx9xkCAAAgIypWe3Nennk5vili3rilz70cHJJfPCKnlgYEbv/55Px5eRCAACAtJ2zKDojor+/N7mkYPuB6I2IRcvekVxyfEMRA2UvW9vLHpe7dG50xkD074uIaz8Q7zwr4rVv3Tdlr4kkPgEAAJj6VqyJd57fWngk1CNVRkoDAACkbcfBGIiItrbO5JKCpXOjMyI65581Enp4w49jIFpj+blXVDSNiIjf/JlYHhG9r74Qj0VExP3xvc0DsfwtH4ib37Is4ryr4663r4zY/cP4zjdWx13v7YnO3evj4U+V3RE6xaSW+AQAOBXDw8MxODgY/f1H4vDhvjh8uC+OHDkcAwP9MTQ0lGwOQMpyue5kKJN6Prw6VjZHxOb1ce9/Ty4FAACog//7h/HaUETrG3ri5rI6ngXL4ta3nB0REb17fzwa/tLt8fnndkfn6lvia5++rlC+I5ZFz/Wfia9dd37E9vXxpTtLT7zZFus+ui6e3v2m+OBfPhkvfWVNXBwb4it33hpfPz9i/RfuiI/8x7Xx9dG1TzlNXV3zh5PBWjjnnJWZqfOZy3Vn7/FNADDFFJKbAzEwUP5gjrGam2dEa2tbtLW1xcyZLcnFAJmQpWuQXK47Nm5MdzTwqlU9KZ+PK+Kev7s9Ll44EC/ftzo+8KXkcgAAgPpY/cnH4k8uPzti+4b4+hfuic89tTnivCvio7dcGxcumhsrz1oYu5+7I371954u67Uyrvn0Z+Lmd50d5feK9v7o6bj3D++Ix14pC06Selw7TkRqd3xmJekJAEyuw4f7Ys+eXXHw4METJj0jIoaGjsXhw4dj3759ceDA/jh6dDDZBAAq/eYV8fMLI2L3hnhS0hMAAJhE6z91a3zqkfWxte3CuOaTD8dLL22Il+69Mc5+5f7Y1L8wInrjf79YlvS8ZE08+t2H46OXRKz/i1vjfRf1xEUXXREfvvP+2NT6jvjoXz0dD9yyunwTRcui55cvi8t+uSeWR8TqW+6Np57fUNje/3g2vvbpq2N5sssUkFriU41PAOB4jh4djH379sahQ4fi2LFTewDFwMBA7Nu3L/r6DiUXAVAj6d6JWQ/L4qPvOD9aI2Lrhkem9COdAACALNgWT999a7znnavjoot6CtMvXREf/sfVsXplROx+OZ5+pNS2Jz5729WxsnN3fO/ua+LjD6yPzcV1bPjr++KWK9fG9/YtjAuuvSk+mnx07rW3x12f+0z85uqIrZevi09ef2EMfOfOeN9FV8THv7otFr3r1rjrtmWJTtkn8QkA1F1//5HYt29fHD16NLnolPT19cWBA/tjePjUEqgATGG/cFPhjwdDm2P9Fyb/sUsAAABjLYubb3pHLB8zYPPSWLkiInr/d2x4qqJD0ZOx4bXeiOaVceHV5fHVcdd7e6Jz9/p4+FMb4ppLL4iFfZvj2U88GZtjWzx998OxaXdrrHxLRacpIbXEJwBANf39R6K3tzcZPm0DAwNx4MD+ZBiA05TLdSdDmdLz6xfE8ogY+P6z8bmfJpcCAABMvuXX3x7XnN8asXt93P/x0x+wufymD8bFywZi89Nr4+sR0TozIoaOxGiRyqdjV29EtJVXDJ0aUkt8qvEJACQNDAykkvQsGRwcjN5e/wYBoOSKuO7/WBYR2+J7D96fXAgAADDpll+/Lh64qSc6B16Lr995a6I8xzOx+acR0fkz0XN5xYKiK6Ln7M6Ioc2x6fHR2Jp3nx+t29bH5+/eFhERA0cjonlWjD6r9bJY1BkR/en9nW6yNHV1zU/lmXC53BnJUMPK5bqnQN0aAGhsw8PDsW/f3hgaGkouqrk5c+bE7NntyTBAw8jSNUgu1x0bN57+iOPjWbWqJ53z8Zv3x3+76fxo3fx4XP6+tbE1ufwUlN8BW9rnicWaIpdbXowMRz6/NZqammLp0kJseHg4tm9PIzYjli4t1O0ZHj4W27dvixkzZsSSJYXYsWPHYseO0401x5Ilhb8BVI8NxY4dr1eNNTc3x+LFhdjQ0FDs3HkysZmxeHGuGDsaO3fmJxybOXNmLFpUiB09ejR27TqZWEssWrS0GBuMXbu2n1aspaUlFi4sxAYHB2P37u3R0tIaCxcuKcYGYvfuHTWPtba2xoIFhdjAwEDs2bMjWlvbYsGCxcVYf+zZszOF2KxYsGBRRaytbVbMn1+I9fcfib17d6UQmx3z5y8sxg7H3r27q8ZmzZod8+YVYkeOHI59+0431h7z5i0oxvpi3749VWOzZ7dHV1chdvhwX+zffzKxOdHVNb8YOxT79+89rVh7+5yYO7cQ6+s7FAcOjBfriLlz5xVjB+PAgX2nFZszpyM6OwuxQ4cORm/veLHO6OzsKsZ6o7d3f81jHR1zR8p4HTx4IA4ePFCXWGdnV8yZU7jzprd3fxw61JtCbF7MmdNRjO2LQ4cOVo3NnTsv2tsLsQMH9kVf3+nG5kd7+5xibG/09R2qGuvqmh+zZxdi+/fvjcOHTze2YOTacP/+PXH4cN+EY/PmLYhZswqxffv2xJEj48UWxqxZs4ux3XHkyOHTis2fvzDa2gqxvXt3R3//eLFF0dY2qxjbFf39R2oeW7BgcbS2tkVExJ49u2JgIBnbGQMD/SnElkRra2sxtiMGBgZi4cIl0dJSiO3evSMGB9OILY2WlpZibHsMDg7GokVLY+bMQmzXru1x9OjpxnIxc+bMYiwfR48enXBs8eJcNDcXYjt35mNo6GRiZ0Rzc3Mx9noMDQ1NOLZkyRkxY0YhtmPH63Hs2HixZTFjRuFeu+qxbXHs2LHTii1duiyamgqx7du3xfDwsVi6dHk0NTUVY1tjeHi45rHCv+MLsXx+a0QMV/n3frVrgOqxcit/c138fz+4OhY2744Nf3FjfPihQqKywiW3x9c+d0Wc3f9aPPu1R+KxJ5+MDT9dFj3vviKuu+G6uHhFxGtPrYn3fGp9REQs/8jD8dR7z46Xv3R1fOC+4vouXxd/98meOPCNtfHxT2yIs29bG39w7dmx7ZGr433F5Ojpqse140SkdsenGp8AQLm+vkN1SXpGRBw6VL9tAUx11S7Os2FZfPQd50drDMTLz9Ym6QkAAFAbK+OaTz8Wf3nT6ljYvzkeu2OcpGdExHN3xns+uDae/lFb9Fx7e3zh6xvipZeejC987Lq4cGhTfP2uG0eSnrHiurjjXSsjfvy3cW8p6RkR8dSt8amHNkXr22+PR196Mj773mWx6xvr4iM1Sno2ktTu+ExtxG4KsjTaGgCyaGhoKPbu3ZMMp2rWrFnR0TH16hQAU0PWrkHy+deToZrK0vUjAAAAY035Oz4BAEqOHDmcDKXuyJEjcezYsWQYgJNU/mgmAAAAaGSpJT4PHjyQDAEA01R/f38yVBeTtV0AAAAAoP4kPgGAVA0ODk7anZeDgwPJEAAAAAAwRaWW+OzomJsMAQDT0NGjg8lQ3QwOTt62AaYKtTcBAADIColPACBVQ0NDyVDdDA8Px7Fjk7d9AAAAAKB+Ukt8AgBExKQ95rZksrcPkHW5XHcyBAAAAA0ptcSnGp8AQBTvupxMk7x5AAAAAKBOJD4BgFQ1NTUlQ3U1yZsHAAAAAOoktcSnGp8AQETEjBmp/XNjQpqaJnf7AFmXz29JhgAAAKAhpfaXQIlPACAiorm5ORmqm6ampkndPgAAAABQP6klPgEAIiJmzmxJhupm5syZyRAAJymX606GAAAAoCGllvhU4xMAiIhoaWmJGTMmp9Bma2trMgQAAAAATFESnwBA6traZiVDddHW1pYMAQAAAABTVGqJTzU+AYCSyUh8trXNihkz1PcEOF35/JZkCAAAABqSxCcAkLqZM2fGrFn1TX62t89OhgAAAACAKSy1xCcAQLn29jkxY0Z9/unR3t4ezc0zk2EATkEu150MAQAAQENK7a+PanwCAOVmzJgRHR0dyXDNtba2Rnv7nGQYAAAAAJjiJD4BgLppbW1LNfnZ0jIzOjs9bh8AAAAApqPUEp9qfAIA1cyaNTuV5GdLS0t0dnZFU1NTchEApyGf35IMAQAAQEOS+AQA6m7WrNnR1dUVzc3NyUWnZPbs2dHVNa9uNUQBAAAAgMbjr4MAwKRoaWmN+fMXRHt7e5zqTZotLS0xd25XzJlT+ztIASjI5bqTIQAAAGhIqSU+1fgEACaivX1OzJ+/MObMmRMzZ85MLh5jxoymaGubFXPndkVX17xobW1NNgEAAAAApqGmrq75w8lgLeRyZyRDDSuX61a3BgAaxLFjx+Lo0aMxNDQUw8PHIiKiqakpZsyYEc3NMyeUHAVodFm6BsnlumPjxg3JcE2tWtVT0/Px8be2xbvOaorZcTSGjx6NYwPF+eDRGB48GoeODMU3X2+JP31NiRYAAIBaqMe140SkdsenGp8AwKmYMWNGtLa2xuzZs6O9fU60t8+J2bPbo61tlqQnwCSoZUKyHv76NzrjN85tifaWYqA01Hd49OvZzcPx60v74qHz8qVuAAAATAESnwAAAEwZb1zQHNEUMVI+uml0KtWUbir+72faj452BAAAIPNSS3wCAACQfblcdzLU0AaHhmN4uOxGz+HC/4aHi1+XbvwcjhgsPFEdAACAKSK1xOfBgweSIQAAAEjVEz8YjKayOz4Ld3k2FeYjt4EWvv6bXR1lAQAAALJO4hMAAIAp487n++KrrwzGocHy2zsra3z2DTXFf823x90/mTfSDwAAgOxr6uqaX7oMrKlzzlmZmeRnLtcd+fyWZBgAACAVWbsGyedfT4ZqatWqnkydDwAAACrlct2xceOGZLjuUrvjs6NjbjIEAAAAAAAAkIrUEp8AAABkXy7XnQwBAABAQ0ot8ZmVx9wCAAAAAAAA2SfxCQAAAAAAAGReaolPNT4BAACyL5/fkgwBAABAQ5L4BAAAAAAAADIvtcQnAAAA2ZfLdSdDAAAA0JBSS3yq8QkAAAAAAADUi8QnAAAAAAAAkHmpJT7V+AQAAMi+fH5LMgQAAAANSeITAAAAAAAAyLzUEp8AAABkXy7XnQxlwMq45vZ742vfXh8vvbShMP2P9fHdbz4cn33vymRjAACAxrfisvjsE2XXOE/cnmxRsOLq+Oxjz460+29/c2/cekmizSVr46mXNsTf/fkViQXZl1riU41PAAAA6m9Z3PqV++Oj7+6J5b3r497fuy4uuqgn3vf7D8emODsu+8j98bVPrk52AgAAaFwrrot7/vKOuOys/tjwje9Hb3L5iGVx6+dujcsW/jC+/KEr4qL3r43vRU+8//Z1cWVZm5tvXB3LBzbHN+96sqL3VCDxCQAAwBSyLR5/8tnYvPHJ+P0r18SXn9scERGbn7svbvnQk7F5qDXO/uUPxgeT3QAAABrRJbfEA391S1y8qDc23HNdfHjzkWSLMjfGxStbY+uLD8S9L26LeOXx+Mh3NkcsfFO8/V3FJpeviSvPb42tz90X636a6D4FpJb4VOMTAAAg+/L5LclQw9v6tTvifR+8M9YnF/x0Wxzoi4j2hfGmX0guBAAAaDTXxRc+eV1c0L47vvcXN8aHH9qWbFDVQN+G0RfbD0RvtEbbvIiInrjjhtWxsO/78eRHx1wxTQkSnwAAAEw7AxP7ewEAAMAkejg+8+Dj8dif3hi3TDDpGRHR2t4z+mLp3OiMgejfFxHXfiDeeVbEa9+6L75c3mEKSS3xCQAAQPblct3JUHZdckEs64yI7Zvj+Sn4SCcAAGDq2frQ2vjc1yaa9Lw/vrd5IJa/5QNx81uWRZx3ddz19pURu38Y3/nG6rjrvT3RuXt9PPypsjtCp5jUEp9qfAIAANAYlkXPu9fEA598eywfeC2+/p/WxNPJJgAAAJm3LdZ9dF08vftN8cG/fDJe+sqauDg2xFfuvDW+fn7E+i/cER/5j2vj68luU0hTV9f84WSwFnK5M5KhhpXLdWeybg0AAJBNWboGyeW6Y+PGdEcDr1rVk8r5uO4vn43fe0vnyOuBbevjS5+6Nb78YkUzAACA7Lj23vjubT3R+eMn46Kr7kwunTT1uHaciNTu+FTjEwAAIPvSSEjWy8MfekdcdFFPXHRRT7zv9+6LZw9fEDf/5bPx6EdWJ5sCAABMMcui55cvi8t+uSeWR8TqW+6Np57fEC+9tCFe+h/Pxtc+fXUsT3aZAiQ+AQAAmPI2P3d/fPyaO+LZbZ2x8r1r4rO/kGwBAAAwhVx7e9z1uc/Eb66O2Hr5uvjk9RfGwHfujPdddEV8/KvbYtG7bo27bluW7JV5qSU+AQAAyL5crjsZyrD1sWlbb0Qsi5WXJZcBAABMFavjrvf2ROfu9fHwpzbENZdeEAv7Nsezn3gyNse2ePruh2PT7tZY+Zarkx0zL7XE58GDB5IhAAAAAAAAIEXLb/pgXLxsIDY/vTa+HhGtMyNi6EiMZu6ejl29EdHWWdFvKpD4BAAAYOo478a452+ejC9cX+2RTavjwhWdEbEtNj+dXAYAADAVXBFr3n1+tG5bH5+/e1tERAwcjYjmWTFapPKyWNQZEf29Zf2mhqaurvnDyWAtnHPOyswkP3O57sjntyTDAAATtnnzK8lQqlauPC8ZAjIka9cg+fzryVBNrVrVU7Pzsfz6dfHATatjYXNvvPb0w/FnX70/1r8SsfKSG+P6/891cdkb2mLr02vj8o8/mew6IeWP/i3tc7XY0qXLo6mpKSIitm/fGsPDwxOOLVmyLGbMKIxT3rFjWxw7duwkYmfEjBnNxdjrcezYUCxefEY0NxdiO3e+HkNDQ7F4cS6am2cWY/kYGjpaNbZoUS5mzizEdu3Kx9GjR2PRoqUxc2ZLMbY9jh4drBpbuHBptLQUYrt3b4/BwcFYuHBJtLS0FmM7YnBwYMKxBQsWR2trW0RE7NmzMwYG+iccmz9/UbS1zYqIiL17d0V//5EJx+bNWxizZs2OiIh9+3bHkSOHx4ktiFmz2ouxPXHkSF/VWFfXgpg9uxDbv39PHD7cF11d82P27DnF2N44fPhQ1djcufOjvb0QO3Bgb/T1HYq5c+dFe3tHMbYv+voOVo11ds6LOXMKsd7efXHo0MHo7OyKOXMKo/x7e/fHoUO9E451dMyNjo7Cn84OHjwQBw8emHBszpzO6OzsioiIQ4d6o7d3/zixjujsnFeMHYze3n3R3t4Rc+cWYn19B+PAgfFic2Lu3PnF2KE4cGBv1djs2XOiq6sQO3z4UOzfvzdmz26Prq4FxVhf7N+/p2ps1qz2mDevEDtypC/27dsTs2bNjnnzFhZjh2Pfvt1VY21ts2P+/EKsv/9w7N27O9raZsX8+YuKsSOxd++uqrHW1lmxYEEhNjBwJPbs2RWtrW2xYMHiYqw/9uzZOU6sNRYsWFIRa2lpjYULC7HBwYHYvXvHOLGWWLhwaTE2GLt3b4+ZM1ti0aJC7OjRwdi1a7zYzFi0KFeMHY1du/LR3DwzFi8uxIaGjsbOnePFmmPx4jOKsaHYufP1qrEZM5pjyZJC7Nixodix4/WYMWNGLFlSGAhz7Nix2LFjW9VYU9OMWLq0EBsePhbbt2+LpqamWLp0eTE2HNu3b60ai2iKXK4QixiOfH5rxDifDdVjyyOi8DlQ6Fv9s6F6bFk0NRU+B7Zv3xbDw+N9NlSLTfTzolps7OdFtdhkfYZU+xyYeGxRtLae+LOhemxhtLUVPhv27t0d/f3jfV5Ui03086JabKKfF9ViYz8vqsWqfQ5MNFbtc2CiseqfDRON1fYzpPrnRbVYbT8vqsWqfTZMNFb9s2FiseqfDRONNc5nSK0+L0ZjYz8bJhqLcT8bxsYqXHtvfPe2nuj88ZNx0VV3JpfG8o88HE+99+x4+UtXxwfuKyQ+4/J18Xef7IkD31gbH//Ehjj7trXxB9eeHdseuTreV0yOnq5crjs2btyQDNddand8ln5JAQBk1ebNr0x4qrfJ3j5Ao9r60K3xgT+8P579fm8s+pWb4s+/siFeemlDPPonH4zVs38cT9914yknPQEAAOruk4/FSy8VrmteemlDvHRbT3RGRJx1RUX8u395XcSK6+KOd62M+PHfxr2lpGdExFO3xqce2hStb789Hn3pyfjse5fFrm+si4/UKOnZSFK747OWI3bTlrXR1gBAbU3FxKE7QqGxZekapB6jdrN0/QgAAMBY9bh2nIjU7vjMymNuAYDpI3mX5FS+W3I6HCMAAAAAlJP4BACmlGTCT/KvwHkAAAAAYKpLLfGpxicAkJZkQlNS7+Q4V8DJ8AhaAAAAskLiEwBoWMmkpoRdbTmfAAAAAEwlqSU+AQAmIpnUlOCsP+cbOJ5crjsZAgAAgIaUWuJTjU8AoFwyqSnZ1ni8HwAAAABkmcQnAFBTycSmBGe2eL8AAAAAyKrUEp9qfALA1JZMbEqYTS3eT6Akn9+SDAEAAEBDkvgEAI4rmdiUEJtevNcAAAAAZEVqiU8AIDuSSU0JTsr5PoDpLZfrToYAAACgIaWW+FTjEwAaRzKZmZzgRHyfAAAAANDoJD4BYIpIJjMlNqk130sAAAAANLLUEp9qfAJAbSWTmckJ6sH3Gkw/+fyWZAgAAAAaksQnADSQZDJTYpNG5PsRAAAAgEaUWuITABhfMqkpuQlAo8rlupMhAAAAaEipJT7V+AQACU6mLt/HAAAAADQaiU8AqIFkYlOCk+nA9zgAAAAAjSS1xKcanwBMRcnEpgQn053vf5j68vktyRAAAAA0JIlPAKgimdiU4ITx+dkAAAAAoBGklvgEgCyR4ASA6nK57mQIAAAAGlJqiU81PgFoVMkkp0QnnD4/RwAAAABMNolPAKa0ZIJTcgYApr6P/XxzPH/Fsfjur/TF77/xUHIxAAAAU1RqiU81PgGYDJKcMHn8zMHUlM9vSYYa2scvnhW/8f9qjvaZEe0zI96zvD/+w7/Zn2wGAADAFCTxCUBmJZOcki4AwFVvao3hstfDwxH/brG7PgEAAKaD1BKfAFBrkpzQ+PxswtSzYMHiZKihtTRHNDWNvm5qimhx5QsAADAtpHb5p8YnAKcjmeSUTAGAydHa2pYMNbR/3TMUw2W3fA4PR/yob2Z5EwAAAKYoiU8AJl0ywSnJCdnmZxiYTL/++KF47H8di76jEX1DTfFft82K6/95SbIZAAAAU1BTV9f88vInNXPmmWfFwEB/MtyQcrnuyOe3JMMApEBCBKaHlSvPS4aAMlm6BmltbYuf/OTHyXBNrVrVk5nzAQAAwFi5XHds3LghGa671O74zFodGABqL3kXp6QnAGRPVga0AgAAQGp3fGZpxG6WRlsDNCpJTaa7etzhmKWfs3qcD8iyLF2DLFiwOF555eVkuKaydP0IAADAWI1yx2dqic/zzrsg9uzZmQw3pCz90QFgsmUp8QK11IiJvEb/eWzEcwaNIkvXIPW4eJX4BAAAyLZ6XDtORGqJz1zujGSoYWXpjw4A9dToSRWotawm6hr1ZzWr5xPqIUvXIPW4eJX4BAAAyLZ6XDtORGqJzzPPPCsztWCy9EcHgLQ0auIE0jBVE3KN9nM8Vc8z1EKWrkFaW9viJz/5cTJcUxKfAAAA2TblE59ZunDN0h8dAGql0RIkUGvTOenWKD/f0/k9gBPJ2jVIPv96MlRTWbp+BAAAYKxGSXzOSAYAmJo2b36lYoKpYOXK88adAKiNBQsWJ0MAAADQkFJLfGblMbcAU5VEJ1NJMqkpuXl8zg1QS62tbckQAAAANKTUEp979uxMhgBIkUQnU0EysSnBeeqcNwAAAACmm9RqfJ555lmZuesza/V1ACQ2yTIJufpphN8V3m+oLkvXIK2tbfGTn/w4Ga4pNT4BAACybcrX+FQHBqA2kndyNkIiAyYiedemuzcBsikrA1oBAAAgtcQnACcvmeCU5CQLkolNCc7G4X0AaiGzg1rPuzo++5Wn47v/bUO89FJh+m/ffizuue2yWJ5sCwAA0OhWXBaffWL9yPXNS0/cnmxRsOLq+Oxjz45eB/3NvXHrJYk2l6yNp17aEH/351ckFmRfaolPo4IBji+Z4JTkpNElE5sSnADTQ2trWzLU+C65Pb725TVx2YoDsf6+m+Pyi3rioitvjs+vj7jw2jvigT+5LtkDAACgca24Lu75yzvisrP6Y8M3vh+9yeUjlsWtn7s1Llv4w/jyh66Ii96/Nr4XPfH+29fFlWVtbr5xdSwf2BzfvOvJit5TQWqJzz17diZDANNWMsEpyUmjSiY1JTgByJ6euOOWK+Ls1m3x7CeuiY8/tCG2RkT8dEM8/IlrYt1zvbHw7dfFPZcn+wEAADSgS26JB/7qlrh4UW9suOe6+PDmI8kWZW6Mi1e2xtYXH4h7X9wW8crj8ZHvbI5Y+KZ4+7uKTS5fE1ee3xpbn7sv1v000X0KSC3xmclRwQA1kExwSnLSSJLJzOQEAEmZG9S64tK48KyI2LY5HnsuuTDi69/6YeyOhXHhu9z1CQAANLrr4gufvC4uaN8d3/uLG+PDD21LNqhqoG/D6IvtB6I3WqNtXhQGit6wOhb2fT+e/Oj6sh5TR2qJz8zWgQE4SZKcNJJkIjM5AcDJylwZk0uWxaKIiIEDUXapP+obu+JARHQuOiu5BAAAoME8HJ958PF47E9vjFsmmPSMiGht7xl9sXRudMZA9O+LiGs/EO88K+K1b90XXy7vMIWklvgEmKokOplsyWSmxCYAacrcoNZXD8aBiIjWuVF2qT/qXYtibkTEvGVxTXIZAABAg9n60Nr43NcmmvS8P763eSCWv+UDcfNblkWcd3Xc9faVEbt/GN/5xuq467090bl7fTz8qarDRKeE1BKfmRsVDFBFMskp0Um9JBOakpsATJbMlTH57+vjtd0RsWxlXHNJcmHElb/8plgYEdG7O6bmg50AAIDpa1us++i6eHr3m+KDf/lkvPSVNXFxbIiv3HlrfP38iPVfuCM+8h/XxteT3aaQ1BKfmasDA1Al0QlpSyY1JTcB4HQ9GWsf3hC9sSze8enH4rPX98TyiIgVPXHdpx+L65b3R29ERN+u2JrsCgAAkHU/fTw+fs074qKLeuKii3ri//x3N8e65yLi++vj6994Op59caJ3j2ZTU1fX/OFksBbOPPOszNz1mct1Rz6/JRkGUnAyycQ0kz8nsx9QC2l+P8PxTPbvO9/7UF2WrkFaW9viJz/5cTJcU6tW9dT8fKx872fik9evjpVLOwuBgd547e/vi8fmfTA+unphvPbUFfGeT03tC34AAGAKuvbe+O5tPdH54yfjoqvuTC4tsyx6fvmCWBi74/vf2hBn3XJvfPQ9PbG8PSKGeuO1p++LWz7xeM0GhOZy3bFx4+Q/Qje1xGcaF65pydIfHSCrTucP76fyR/PT2R6cjlP5foU0TfbvQz8TUF3WrkHy+deToZqq3/XjjfHA8zfFBW2b47GrrovP/TS5HAAAoMFNNPFZbLfrqZvjPf/z2vi7T/bEgW+sjY9/YkOcfdva+INrz45tj1wd77u7NgNCGyXxmdqjbgGi7NGxpyP5+NmJTJC25KNpPaIWgKlqwYLFyVBmrf7cFXFBe8TA95+V9AQAAKaw1XHXe3uic/f6ePhTG+KaSy+IhX2b49lPPBmbY1s8fffDsWl3a6x8y9XJjpmXWuIzK4+5BdIjAclUkUxuSnACMJ20trYlQ9l0yWfio29fFjGwOf7LH96fXAoAADBlLL/pg3HxsoHY/PTa+HpEtM6MiKEjcWCkxdOxqzci2oqlQaaQ1BKfe/bsTIaAaUTSkyyT5ASAKeaSNfHopy+L5c29seG+NbHO3Z4AAMCUdUWseff50bptfXy++BjbgaMR0Twr5o60uSwWdUZEf29Zv6khtRqfZ555Vmbu+sxafR1odJKeZInEJlPdZP9O9jMG1WXpGqS1tS1+8pMfJ8M1lWaNz+WXrom7PnZ1rOwciNeeWhPv+dT6ZJOTkst1j3xd2udqsaVLl0dTU1NERGzfvjWGh4cnHFuyZFnMmFEYp7xjx7Y4duzYScTOiBkzmoux1+PYsaFYvPiMaG4uxHbufD2GhoZi8eJcNDfPLMbyMTR0tGps0aJczJxZiO3alY+jR4/GokVLY+bMlmJsexw9Olg1tnDh0mhpKcR2794eg4ODsXDhkmhpaS3GdsTg4MCEYwsWLB65A3nPnp0xMNA/4dj8+YuirW1WRETs3bsr+vuPTDg2b97CmDVrdkRE7Nu3O44cOTxObEHMmtVejO2JI0f6qsa6uhbE7NmF2P79e+Lw4b7o6pofs2fPKcb2xuHDh6rG5s6dH+3thdiBA3ujr+9QzJ07L9rbO4qxfdHXd7BqrLNzXsyZU4j19u6LQ4cORmdnV8yZUxjl39u7Pw4d6p1wrKNjbnR0FP50dvDggTh48MCEY3PmdEZnZ1dERBw61Bu9vfvHiXVEZ+e8Yuxg9Pbui/b2jpg7txDr6zsYBw6MF5sTc+fOL8YOxYEDe6vGZs+eE11dhdjhw4di//69MXt2e3R1LSjG+mL//j1VY7Nmtce8eYXYkSN9sW/fnpg1a3bMm7ewGDsc+/btrhpra5sd8+cXYv39h2Pv3t3R1jYr5s9fVIwdib17d1WNtbbOigULCrGBgSOxZ8+uaG1tG3k0+cBAf+zZs3OcWGssWLCkItbS0hoLFxZig4MDsXv3jnFiLbFw4dJibDB2794eM2e2xKJFhdjRo4Oxa9d4sZmxaFGuGDsau3blo7l5ZixeXIgNDR2NnTvHizXH4sVnFGNDsXPn61VjM2Y0x5IlhdixY0OxY8frMWPGjFiyZFkxdix27NhWNdbUNCOWLi3EhoePxfbt26KpqSmWLl1ejA3H9u1bq8YimiKXK8QihiOf3xoxzmdD9djyiCh8DhT6Vv9sqB5bFk1Nhc+B7du3xfDweJ8N1WIT/byoFhv7eVEtNlmfIdU+ByYeWxStrSf+bKgeWxhtbYXPhr17d0d//3ifF9ViE/28qBab6OdFtdjYz4tqsWqfAxONVfscmGis+mfDRGO1/Qyp/nlRLVbbz4tqsWqfDRONVf9smFis+mfDRGON8xlSq8+L0djYz4aJxmLcz4axsQonqPG5/CMPx1PvPTte/tLV8YH7ivU7L1+nxufpmkp1YICJm+w/sMOJuJsTAE5OVga0jrUsLrvt3njgD6+OlW2743v33XjaSU8AAIC6++Rj8dJLG0an23qiMyLirCsq4t/9y+siVlwXd7xrZcSP/zbuLSU9IyKeujU+9dCmaH377fHoS0/GZ9+7LHZ9Y118pEZJz0aS2h2faY7YrbUsjbaGRibpSaOR2ITJ/93s5xCqy9I1yIIFi+OVV15OhmsqS9ePAAAAjDXl7/jM7qhgALIoeSenZAsA1EbpEXAAAADQ6FJLfO7ZszMZAqawyb6jiOlHkhMAAAAAgHKpJT6NCgagVpJJTolOmBiDUoBaMKgVAACArEgt8blgweJkCABOKJnglOQEgMmljAkAAABZkVriEwBOJJnglOQEgMZjUCsAAABZkVri06hgmD48SpETSSY3JTlhevBzDlODMiYAAABkRWqJT3VgAKanZHJT4gMmh0EpAAAAAEw3qSU+jQoGmPqSCU5JTgCYegxqBQAAICtSS3yqAwMwtSQTnJKcADA9KGMCAABAVqSW+AQg2yQ5AYAwqBUAAIAMSS3xaVQwTB+SYlODRCdMHY1Q39PvEZg6lDEBAAAgK1JLfKoDA9DYJDoBAAAAAJhKUkt8GhUM0FgkOgGAU2FQKwAAAFmRWuJTHRiAyZNMckp0AgCnShkTAAAAsiK1xCcwvUisTZ5kgtN7AdOb+p5ArRnUCgAAQFaklvg0Khig9pIJTskFACBtypgAAACQFaklPtWBgelHEq62kglO5xcAAAAAAMaXWuLTqGCYniTnTk0ywek8AgCNwqBWAAAAsiK1xKc6MDB9SdodXzLB6XwBU4nfaTD1KGMCAABAVqSW+ASmN3/4HiXJCdTL5s2vJEMAp82gVgAAALIitcSnUcHAdEzyJZOc0/EcAABTSz3KmAwPD0dTU1MyDAAAQAY0NTXF8PBwMjwpUkt8qgMDxDRIfkpyAgCcvv7+I9HS0poMAwAAkAEtLa3R338kGZ4UqSU+6zEqGMiGqZQUlOgEGJ/fizA11WNQ6549u2LWrPZkGAAAgAyYNas99uzZlQxPitQSn+rAAElZSxYmk5xZ2ndg+lHfE0hLPcqY7NiRjxkzZsScOZ3JRQAAADSwOXM6Y8aMGbFjRz65aFI0dXXNT+Whu6tW9UQ+vyUZbki5XHdm9hWmksn+I71EJjCVTPbv1PB7FU5Klq5BFixYHK+88nIyXHNtbW1x9tlvjGPHjsWRI30xODjQMDViAAAAGNXU1BQtLa0xa1Z7zJgxI1577V+jvz/9QbMTkVri87zzLqjLI5FqIUt/dICpKq0/2PsjPDBdpPV79GT4nQsTl6VrkFyuOzZu3JAMp2bJklwsWLAo2tpmRVNTU3IxAAAAk2x4eDj6+4/Enj27GuZOz5LUEp+53BnJUMPK0h8dAACqmezEp6QnnJwsXYPUO/EJAAAApyq1Gp+trW3JEAAAKZjspCcwtWXlST4AAACQWuJzwYLFyRAAAAAZMzDQGHVaAAAA4ERSS3wCAACQfQa1AgAAkBWpJT6NCgYAAMg+ZUwAAADIitQSn+rAAACkrxHqe65ceV4yBAAAAAB1l1ri06hgAACA7DOoFQAAgKxILfGpDgwAAED2KWMCAABAVqSW+AQAACD7DGoFAAAgK1JLfBoVDACQLvU9gXpQxgQAAICsSC3xqQ4MAAAAAAAAUC+pJT6NCgYAAMg+g1oBAADIitQSn+rAAAAAZJ8yJgAAAGRFaolPAACmNvU9YXowqBUAAICsSC3xaVQwAEB6Nm9+JRkCSIUyJgAAAGRFaolPdWAAAAAAAACAekkt8WlUMAAAQPYZ1AoAAEBWpJb4VAcGACAdjfCYW/U9YfpQxgQAAICsSC3xCQAAQPYZ1AoAAEBWpJb4NCoYAAAg+5QxAQAAICtSS3yqAwMAAAAAAADUS2qJT6OCAQBqT31PoN4MagUAACArUkt8qgMDAACQfcqYAAAAkBWpJT4BAADIPoNaAQAAyIqmrq75w8lgLZx33gWZeSRSLtcd+fyWZBgAoOF41C1MDVm6BsnlumPjxg3JcOoWL14aS5bkoqtrfsyaNTuampqSTQAAAKiT4eHhOHLkcOzfvzd27MjHzp3bk00aQmp3fGYl6QkAkBWSnsB00NnZFW9+8y/GBRdcFLnc8pg9u13SEwAAYJI1NTXF7NntkcstjwsuuCje/OZfjM7OrmSzSZda4rO1tS0ZAgAAIGPqOah18eKl0dPz1pg/f0FyEQAAAA1k/vwF0dPz1li8eGly0aRKLfGpDgwAAED2DQz0J0Op6OzsivPPf7O7OwEAADKiqakpzj//zQ1152dqiU8AAACyr16DWt/4xnMlPQEAADKmqakp3vjGc5PhSZNa4rNeo4IBAKYD9T2ByVKPMiaLFy/1eFsAAICMmj9/QcM88ja1xGc968AAAACQXUuW5JIhAAAAMqRRrutSS3zWY1QwAAAA6arHoNaurvnJEAAAABnSKNd1qSU+61UHBgAAgPTUo4zJrFmzkyEAAAAypFGu61JLfAIAUBvqewKTqR6DWpuampIhAAAAMqRRrutSS3zWY1QwAAAA6VLGBAAAgKxILfFZjzowAAAAAAAAAJFm4tOoYACA0+cxt8BkM6gVAACArEgt8VmPOjAAAACkSxkTAAAAsiK1xCcAAADZZ1ArAAAAWZFa4tOoYAAAgOxTxgQAAICsSC3xqQ4MAMDpUd8TAAAAACYutcSnUcEAAADZZ1ArAAAAWZFa4lMdGAAAgOxTxgQAAICsSC3xCQAAQPYZ1AoAAEBWpJb4NCoYAODUqe8JNAplTAAAAMiK1BKf6sAAAAAAANPB5Z/6YjzxxMPxxBMPxz2/k1wKANRLU1fX/OFksBbOPPOszNz1mct1Rz6/JRkGAJg07viEqS1L1yCtrW3xk5/8OBmuqXe+89eSIQCYVP/2Y38WN/zcvGQ4YWt869rb40vFxOcNP9ceERFbnr0ubvl8si0ATH3f/vY3k6G6S+2OT3VgAABOTSMkPQFKsjKgFQBqqWXWnGiZ1XKCqTVakx0BgEmVWuITAIDscrcnUGJQKwDT3eDubbHlJ9WmrbE92RgAmFSpJT6NCgYAOHnu9gQaTWtrWzIEANPK9k1r4pbfqzbdE08kGwMAkyq1xOeePTuTIQAAAACAaeas+Lcf/ljc88AD8cQTD49Oj/xZ/OG/f2ssSTaPiLN/7eb4ky9+saL9Vx95oGK672O/kuwGANNeaolPo4IBAACyz6BWADgN594Qf/LInfGbv/Kz0T23pXLZrMVx/r/7rVjz7ysfK7/kio/Fpz741jh7YXtERAweGYyIGFNjdM6sxPoAgPQSn+rAAACcnEZ5zK36nkA5ZUwA4DT84MF47tW+iKG+2PLPL8QTX7431v35g/G3/7w/iunMOPttN8TbRjpcEbde87MxJyJicFs8/2e/F++99gNx05+9EFsKHWLwf/19rPvze+PexzeM9AIAClJLfAIAAJB9BrUCMN11v6Ps8bQj09q4OdlwHE/917+KdR/77bjlk/fGo998IZ7/h7+PL33y8fj+vmKDecvjolzx6187L7pnFb48tPm7se57hScv7PjevfHtzX0REdFy5lmx4h9eiH/8Z09lAICk1BKfRgUDAABknzImAHCaNr0Qz/+o+PUbVsXbfv2GuPV3L4z5I0+qnRPzeopfNpdixzFrTsxLxgCAiDQTn+rAAABMnMfcAgBAY9r3v16I5/8hOW2IzcmG41ocb/v3vx/3PPBAPLH29+PWa38l3vb/7omz5yTbRcTf/D+xo/hI2zlL3hhvHlnwS3F+d6HmZ+zbEd8fiQMA5VJLfBoVDAAAkH0GtQIw3R3ccm+s+/Pk9Hh8O9mwqlVx85+tjVv/3arontsSMdQXO36wMZ7/5uPxj/lk24iIR+PR57cV6n8u6Yk1X14bf/jxj8U9X74h3jwvImIwtmz4Zjyf7AYARKSZ+FQHBgAAIPuUMQGAU7fkg++Jd55ZeKbt4NYXYt3v/nbcdPufxLovPxmHhpKtC/7pifXxvw8Vvm6ZtyzOf/PPRve8QtL0tWf+c3z2C43xtBgAaESpJT4BAJgYj7kFGplBrQBw6n7xzCXFr/rih39/bzxf9S7PcufFzR+9MlbOidj3T1+K3//j4h2mf/pHcdM1vx2//8UXYkeyCwAwIrXEp1HBAAAA2aeMCQCc2FM79o183TFn1cjXgyN3dbbH0nPfGksiInLnxfs+/mdxyfKRZmVWxc+cUbhDNAYH4tCLxZqiL7wi4QkAE5Ba4lMdGACA7HC3JwAAnIYdhwp1OSNi3i/8fjz0iV+JiIi//Z+vRfGptbHkF26O+x57IJ74/H+Mq968OFqqPup2Y2zZXfhq3i/cHPd99YH46iPl0xfjvrUfi5t/7axkRwAgzcSnUcEAACfWKI+5BRiPQa0AMAGPPxnPbS2lPiPmzP83hS/+5kvx/3th50hSNJpbIoYGY8c/fzPWPfIvI0nRUa/Euic2xI5SUrSlJVpmlU/tseQNPxvv/OB/jD96r8fRA0BSU1fX/OFksBZWreqJfH5LMtyQcrnuzOwrADC1NEri0x2fUF9ZuwbJ519Phmrqne/8tWQIADJocZz/1jfGvJaIwd3/Gv/4z2WDh96wKt7W3R4Rg7Fv84b4/ni1PnO/Fn/4x++L8+cOxpZ/eDSeO/TGWDGntLAl5q382Tg/1154+do346rff7SsMwBMrm9/+5vJUN1JfGbwjw4AwNQg6QnTV5auQRYsWByvvPJyMlxTEp8AUPC2j30+bn1LV8Shf4kHr//jeCrZIH4z7nnil6I7JD4BaDyNkPhM7VG3AwP9yRAAAAAZo4wJANTP/FkthS9mLYmfuTj5KNuz4qpP/Xwh6RmD8do//31iOQCQWuJTHRgAAAAAgIl76sXXCnU/mxfH237vz+KhL66Ne/5sbdzz55+Phx67M973c4XH3B76X38fj/6Vv78CQFJqiU+jggEAxucxt0BWGNQKAHX0N38cn/zyC7HlwGBERMxZuCy6z1wW3cu7Yk5zxODuH8c/Pn5v/P7HHo1/SvYFANT4jIzV1wEApgaJT5jesnYNks+/ngzVlBqfAFBF7rz4xZXzovDw277Y8g8b47VkGwBoIFO6xicAAADZt2BBsr4YAFAX+VfiH//hhXj+H16I5yU9AWBCUkt8Dgz0J0MAALjbE8gYZUwAAADIitQSn+rAAAAAAAAAAPWSWuLTqGAAAIDsM6gVAACArEgt8akODADAWB5zC2SNMiYAAABkRWqJTwAAALLPoFYAAACyIrXEp1HBAACV3O0JZJEyJgAAAGRFaolPdWAAAACYiOHh4WQIAACADGmU67rUEp9GBQMAAGRfPQa1HjlyOBkCAAAgQxrlui61xKc6MAAAozzmFsiqepQx2b9/bzIEAABAhjTKdV1qiU8AAACyrx6DWnfsyCdDAAAAZEijXNellvisx6hgAAAA0lWPMiY7d26PvXv3JMMAAABkwN69e2Lnzu3J8KRILfFZjzowAABMnMfcAo3sX//1BzE8PJwMAwAA0MCGh4fjX//1B8nwpEkt8VmPUcEAAFnQKPU9AU5FvQa19vbuj+9//58kPwEAADJieHg4vv/9f4re3v3JRZMmtcRnPerAAAAAkK56ljHZuXN7bNjwgsfeAgAANLi9e/fEhg0vNMwjbktSS3wCANA4POYWOFX1HtTa27s//umf/jFefvmlyOe3xuHDfe4CBQAAmGTDw8Nx+HBf5PNb4+WXX4p/+qd/bKg7PUuaurrmp3IFed55F9TtkUinK5frjnx+SzIMAHDaGuUxtxKf0FiydA2Sy3XHxo0bkmEAAABoOKnd8ZmVpCcAAAAAAACQfaklPltb25IhAAAmgbs9gdNhUCsAAABZkVris951YAAAGk2jPOYW4HQMDPQnQwAAANCQUkt8AgAAkH0GtQIAAJAVqSU+jQoGAJh8HnMLnC5lTAAAAMiK1BKf6sAAAAAAAAAA9ZJa4tOoYABgOlPfE5gqDGoFAAAgK1JLfKoDAwAwuTzmFqgFZUwAAADIitQSnwAAAGSfQa0AAABkRWqJT6OCAYDpymNugalEGRMAAACyIrXEpzowAACTx2NuAQAAAJhuUkt8GhUMAACQfQa1AgAAkBWpJT7VgQEAAMg+ZUwAAADIitQSnwAA05H6nsBUY1ArAAAAWZFa4tOoYACAyaG+J1BLypgAAACQFaklPtWBAQAAAAAAAOoltcSnUcEAwHTjMbfAVGRQKwAAAFmRWuJTHRgAgPrzmFug1pQxAQAAICtSS3wCAACQfQa1AgAAkBWpJT6NCgYAAMg+ZUwAAADIitQSn+rAAADTSSPU9/SYWwAAAACms9QSn0YFAwAAZJ9BrQAAAGRFaolPdWAAAACyTxkTAAAAsiK1xCcAwHTRCI+5BUiLQa0AAABkRWqJT6OCAQDqR31PIC3KmAAAAJAVqSU+1YEBAAAAAAAA6iW1xKdRwQAAANlnUCsAAABZkVriUx0YAGA6aIT6nh5zC6RJGRMAAACyIrXEJwAAANlnUCsAAABZkVri06hgAACA7FPGBAAAgKxILfGpDgwAMNU1wmNuAQAAAICC1BKfRgUDAKRPfU8gbQa1AgAAkBWpJT7VgQEAAMg+ZUwAAADIitQSnwAAAGSfQa0AAABkRWqJT6OCAYCpTH1PYLpQxgQAAICsSC3xqQ4MAEC61PcEAAAAgFGpJT6NCgYAAMg+g1oBAADIitQSn+rAAABTlcfcAtOJMiYAAABkRWqJTwAA0uMxt0C9GNQKAABAVqSW+DQqGAAAIPuUMQEAACArUkt8qgMDAAAAAAAA1EtqiU+jggGAqUh9T2C6MagVAACArEgt8akODABAOtT3BOpJGRMAAACyIrXEJwAAANlnUCsAAABZkVri06hgAGCq8ZhbYDpSxgQAAICsSC3xqQ4MAEDtecwtAAAAAFSXWuLTqGAAAIDsM6gVAACArEgt8akODAAAQPYpYwIAAEBWpJb4BACYStT3BKYrg1oBAADIitQSn0YFAwDUlvqewGRQxgQAAICsSC3xqQ4MADBVuNsTAAAAABpfaolPo4IBAACyz6BWAAAAsiK1xKc6MAAAteMxt8BkUcYEAACArEgt8QkAMBV4zC0w3RnUCgAAQFaklvg0KhgAACD7lDEBAAAgK1JLfKoDAwAAAAAAANRLaolPo4IBgKxrlMfcqu8JTCaDWgEAAMiK1BKf6sAAAABknzImAAAAZEVqiU8AgCxrlLs9ASabQa0AAABkRWqJT6OCAQBOn8fcApNNGRMAAACyIrXEpzowAAAAAAAAQL2klvg0KhgAyKpGecytuz2BRmBQKwAAAFmRWuJTHRgAAIDsU8YEAACArEgt8QkAkEWNcrcnQKMwqBUAAICsSC3xaVQwAMCp85hboFEoYwIAAEBWpJb4VAcGAAAAAAAAqJfUEp9GBQMAWdMoj7l1tyfQSAxqBQAAICtSS3yqAwMAAJB9ypgAAACQFaklPgEAsqRR7vYEaDQGtQIAAJAVqSU+jQoGADh5HnMLNBplTAAAAMiK1BKf6sAAAAAAAAAA9ZJa4tOoYAAgKzzmFmB8BrUCAACQFaklPtWBAQA4OR5zCzQiZUwAAADIitQSnwAAWeBuT4DjM6gVAACArEgt8WlUMADAxLnbE2hUypgAAACQFaklPtWBAQAAAAAAAOoltcSnUcEAQKPzmFuAEzOoFQAAgKxILfGpDgwAwMR4zC3QyJQxAQAAICtSS3wCADQyd3sCTIxBrQAAAGRFaolPo4IBAE7M3Z5Ao1PGBAAAgKxILfGpDgwAAAAAAABQL6klPo0KBgAalcfcAkycQa0AAABkRWqJT3VgAACOz2NugSxQxgQAAICsSC3xCQAAQPYZ1AoAAEBWpJb4NCoYAGhEjfKYW3d7AlmhjAkAAABZkVriUx0YAAAAAAAAoF5SS3waFQwAAJB9BrUCAACQFaklPtWBAQCozmNugSxRxgQAAICsSC3xCQDQaBqlvidAlhjUCgAAQFaklvg0KhgAYCx3ewJZo4wJAAAAWZFa4lMdGAAAAAAAAKBeUkt8GhUMADQSj7kFODUGtQIAAJAVqSU+1YEBAKjkMbdAFiljAgAAQFaklvgEAAAg+wxqBQAAICtSS3waFQwAAJB9ypgAAACQFaklPtWBAQAaRSPU9/SYWwAAAABIV2qJT6OCAQAAss+gVgAAALIitcSnOjAAAADZp4wJAAAAWZFa4hMAAIDsM6gVAACArEgt8WlUMADQCNT3BDg9ypgAAACQFaklPtWBAQAAAAAAAOoltcSnUcEAAADZZ1ArAAAAWZFa4lMdGAAAgOxTxgQAAICsSC3xCQAw2dT3BDh9BrUCAACQFaklPo0KBgAAyD5lTAAAAMiK1BKf6sAAAAAAAAAA9ZJa4tOoYAAAgOwzqBUAAICsSC3xqQ4MADCZ1PcEqA1lTAAAAMiK1BKfAAAAZJ9BrQAAAGRFaolPo4IBAACyTxkTAAAAsiK1xKc6MAAAAAAAAEC9pJb4NCoYAJgs6nsC1I5BrQAAAGRFaolPdWAAAACyTxkTAAAAsiK1xCcAAADZZ1ArAAAAWZFa4tOoYAAAgOxTxgQAAICsSC3xqQ4MADAZ1PcEAAAAgOkptcSnUcEAAADZZ1ArAAAAWZFa4lMdGAAAgOxTxgQAAICsSC3xCQAAQPYZ1AoAAEBWpJb4NCoYAKg39T0Bak8ZEwAAALIitcSnOjAAAAAAAABAvaSW+DQqGAAAIPsMagUAACArUkt8qgMDAACQfcqYAAAAkBWpJT4BAOpJfU+AdBjUCgAAQFaklvg0KhgAACD7lDEBAAAgK1JLfKoDAwAAAAAAANRLaolPo4IBgHpphMfcAkxVBrUCAACQFaklPtWBAQCmE/U9galKGRMAAACyIrXEJwAAANlnUCsAAABZkVri06hgAKAePOYWIF3KmAAAAJAVqSU+1YEBAKYLj7kFAAAAgMmXWuLTqGAAAIDsM6gVAACArEgt8akODACQNo+5BUifMiYAAABkRWqJTwAAALLPoFYAAACyIrXEp1HBAMB0oL4nMNUpYwIAAEBWpJb4VAcGAEiTx9wCAAAAAOVSS3waFQwAAJB9BrUCAACQFaklPtWBAQCmOo+5BaYDZUwAAADIitQSnwAAafGYW4D6MagVAACArEgt8WlUMAAAQPYpYwIAAEBWpJb4VAcGAJjKPOYWAAAAABpLaolPo4IBgDR4zC1AfRnUCgAAQFaklvhUBwYAACD7lDEBAAAgK1JLfAIATFUecwtMJwa1AgAAkBWpJT6NCgYAas1jbgHqTxkTAAAAsiK1xKc6MAAAAAAAAEC9pJb4NCoYAJiKPOYWmG4MagUAACArUkt8qgMDANSSx9wCTA5lTAAAAMiK1BKfAAAAZJ9BrQAAAGRFaolPo4IBgKnGY26B6UgZEwAAALIitcSnOjAAQK14zC0AAAAAcCKpJT6NCgYAAMg+g1oBAADIitQSn+rAAABTicfcAtOVMiYAAABkRWqJTwCAWvCYW4DJZVArAAAAWZFa4tOoYAAAgOxTxgQAAICsSC3xqQ4MADBVeMwtAAAAADS+1BKfRgUDAKfLY24BJp9BrQAAAGRFaolPdWAAAACyTxkTAAAAsiK1xCcAwFTgMbfAdGdQKwAAAFmRWuLTqGAA4HR4zC1AY1DGBAAAgKxILfGpDgwAAAAAAABQL6klPo0KBgCyzmNuAQxqBQAAIDtSS3yqAwMAnCqPuQVoHMqYAAAAkBWpJT4BAADIPoNaAQAAyIrUEp9GBQMAWeYxtwAFypgAAACQFaklPtWBAQBOhcfcAgAAAACnIrXEp1HBAAAA2WdQKwAAAFmRWuJTHRgAIKs85hZglDImAAAAZEVqiU8AgJPlMbcAjcegVgAAALIitcSnUcEAAADZp4wJAAAAWZFa4lMdGAAgizzmFgAAAACyKbXEp1HBAMDJ8JhbgMZkUCsAAABZkVriUx0YAACA7FPGBAAAgKxILfEJAJA1HnMLMJZBrQAAAGRFaolPo4IBgInymFuAxqWMCQAAAFmRWuJTHRgAAAAAAACgXlJLfBoVDABkicfcAlRnUCsAAABZkVriUx0YAGAiPOYWoLEpYwIAAEBWpJb4BAAAIPsMagUAACArUkt8GhUMAGSFx9wCjE8ZEwAAALIitcSnOjAAwIl4zC0AAAAAUCupJT7//+3dy41jSRZEwdKGQOovCwFqM4tBD3qI6ur80B/fIc2WoYJ7XNcKBgAA6FNqBQAAoGIWfNqBAQAKnLkF+DMzJgAAAFTMgk8AgD9x5hagQakVAACAilnwqRUMAADQZ8YEAACAilnwaQcGADg7Z24BAAAA4HXMgk+tYADgnzhzC9Ch1AoAAEDFLPi0AwMAANBnxgQAAICKWfAJAHBmztwCfI5SKwAAABWz4FMrGAD4HWduAVrMmAAAAFAxCz7twAAAAAAAAABHmQWfWsEAwFk5cwvweUqtAAAAVMyCTzswAMA9Z24BesyYAAAAUDELPgEAAOhTagUAAKBiFnxqBQMAZ+TMLcDXmDEBAACgYhZ82oEBAAAAAAAAjjILPrWCAYC/s+8J0KTUCgAAQMUs+LQDAwCcjTO3AF9nxgQAAICKWfAJAABAn1IrAAAAFbPgUysYAACgz4wJAAAAFbPg0w4MAHAmztwCAAAAwGubBZ9awQDAX2636/0TABFKrQAAAFTMgk87MAAAAH1mTAAAAKiYBZ8AAAD0KbUCAABQMQs+tYIBgLOw7wnwfWZMAAAAqJgFn3ZgAIBf9j0BAAAAgIPMgk+tYAAAgD6lVgAAACpmwacdGAAAgD4zJgAAAFTMgk8AgDOw7wnwM0qtAAAAVMyCT61gAMC+J0CfGRMAAAAqZsGnHRgAAAAAAADgKLPgUysYAACgT6kVAACAilnwaQcGAACgz4wJAAAAFbPgEwDg2S6Xj/snAL5IqRUAAICKWfCpFQwA7+12u94/ARBkxgQAAICKWfBpBwYAAAAAAAA4yiz41AoGAADoU2oFAACgYhZ82oEBAJ7JvifAY5gxAQAAoGIWfAIA78u+J8DrUGoFAACgYhZ8agUDAAD0mTEBAACgYhZ82oEBAAAAAAAAjjILPrWCAYBnse8J8DhKrQAAAFTMgk87MADwnux7ArwWMyYAAABUzIJPAAAA+pRaAQAAqJgFn1rBAAAAfWZMAAAAqJgFn3ZgAAAAAAAAgKPMgk+tYAB4P2fY97xcPu6fAPgBpVYAAAAqZsGnHRgAAIA+MyYAAABUzIJPAAAA+pRaAQAAqJgFn1rBAAAAfWZMAAAAqJgFn3ZgAOC92PcEAAAAAJ5pFnxqBQMAAPQptQIAAFAxCz7twAAAAPSZMQEAAKBiFnwCAO/jDGduAdhQagUAAKBiFnxqBQMAR7LvCbBhxgQAAICKWfBpBwYAAAAAAAA4yiz41AoGgPfgzC3Aa1NqBQAAoGIWfNqBAQAA6DNjAgAAQMUs+AQAXt9Zfnva9wTYUWoFAACgYhZ8agUDAAD0mTEBAACgYhZ82oEBAAAAAAAAjjILPrWCAeC1neXMLQBbSq0AAABUzIJPOzAAwBHsewJsmTEBAACgYhZ8AgAA0KfUCgAAQMUs+NQKBoDXdZYzt357AuyZMQEAAKBiFnzagQEAAAAAAACOMgs+tYIBAAD6lFoBAAComAWfdmAA4DU5cwvwXsyYAAAAUDELPgEAAOhTagUAAKBiFnxqBQMAAPSZMQEAAKBiFnzagQGA1+PMLQAAAABwVrPgUysYAACgT6kVAACAilnwaQcGAFjw2xPgWGZMAAAAqJgFnwDAaznLmVsAjqXUCgAAQMUs+NQKBgAA6DNjAgAAQMUs+LQDAwA8mjO3AAAAAMA/mQWfWsEAAAB9Sq0AAABUzIJPOzAA8DrsewK8LzMmAAAAVMyCTwCAR3LmFuA5lFoBAAComAWfWsEAAAB9ZkwAAAComAWfdmAA4DU4cwsAAAAAFMyCT61gAOBRnLkFeB6lVgAAACpmwacdGAAAgD4zJgAAAFTMgk8AAAD6lFoBAAComAWfWsEA0GffEwAzJgAAAFTMgk87MADAI9j3BAAAAAA+YxZ8agUDAAD0KbUCAABQMQs+7cAAQJsztwD8MmMCAABAyCz4BAD4KWduAZ5PqRUAAICKWfCpFQwAANBnxgQAAICKWfBpBwYAAAAAAAA4yiz41AoGgC77ngD8RakVAACAilnwaQcGAPgJ+54A52DGBAAAgIpZ8AkAAECfUisAAAAVs+BTKxgAmpy5BeDvzJgAAABQMQs+7cAAAN/lzC0AAAAA8FWz4FMrGAAAoE+pFQAAgIpZ8GkHBgAAoM+MCQAAABWz4BMA6LHvCcA9pVYAAAAqZsGnVjAA8B32PQHOxYwJAAAAFbPg0w4MAAAAAAAAcJRZ8KkVDAAtztwC8DtKrQAAAFTMgk87MADAVzlzC3A+ZkwAAAComAWfAAAA9Cm1AgAAUDELPrWCAQAA+syYAAAAUDELPu3AAEDHGfY9nbkFAAAAAH5iFnxqBQMAAPQptQIAAFAxCz7twAAAAPSZMQEAAKBiFnwCAA1nOHMLwHkptQIAAFAxCz61ggGAz7LvCXBeZkwAAAComAWfdmAAAAAAAACAo8yCT61gAACAPqVWAAAAKmbBpx0YADi/M+x7OnMLcG5mTAAAAKiYBZ8AAAD0KbUCAABQMQs+tYIBAAD6zJgAAABQMQs+7cAAwLmd4cwtAAAAAMCjzIJPrWAA4N/Y9wQ4P6VWAAAAKmbBpx0YAACAPjMmAAAAVMyCTwAAAPqUWgEAAKiYBZ9awQBwXmfY93TmFqDBjAkAAAAVs+DTDgwAAAAAAABwlFnwqRUMAADQp9QKAABAxSz4tAMDAOd0hjO3AHSYMQEAAKBiFnwCAPwT+54AHUqtAAAAVMyCT61gAACAPjMmAAAAVMyCTzswAAAAAAAAwFFmwadWMACcj31PAL5KqRUAAICKWfBpBwYA+B37ngAtZkwAAAComAWfAAAA9Cm1AgAAUDELPrWCAeBcnLkF4DvMmAAAAFAxCz7twAAA95y5BQAAAABWZsGnVjAAAECfUisAAAAVs+DTDgwAAECfGRMAAAAqZsEnAHAe9j0B+C6lVgAAACpmwadWMADwd/Y9AZrMmAAAAFAxCz7twAAAAAAAAABHmQWfWsEAcA7O3ALwE0qtAAAAVMyCTzswAMBfnLkF6DJjAgAAQMUs+AQAAKBPqRUAAICKWfCpFQwAz+fMLQA/ZcYEAACAilnwaQcGAAAAAAAAOMos+NQKBgB+2fcEyFNqBQAAoGIWfNqBAYDncuYWgEcwYwIAAEDFLPgEAACgT6kVAACAilnwqRUMADhzC9BnxgQAAICKWfBpBwYAnseZWwAAAADg3cyCT61gAACAPqVWAAAAKmbBpx0YAHhvztwCvAYzJgAAAFTMgk8AAAD6lFoBAAComAWfWsEA8Bz2PQF4JDMmAAAAVMyCTzswAPC+nLkFAAAAAI42Cz61ggEAAPqUWgEAAKiYBZ92YADgeM7cAvBoZkwAAAComAWfAMB7cuYW4LUotQIAAFAxCz61ggEAAPrMmAAAAFAxCz7twADAsZy5BQAAAADe2Sz41AoGAADoU2oFAACgYhZ82oEBgPdj3xPg9ZgxAQAAoGIWfAIAx3HmFoAVpVYAAAAqZsGnVjAAAECfGRMAAAAqZsGnHRgAeC/O3AIAAAAAzzQLPrWCAeAYztwCsKTUCgAAQMUs+LQDAwAA0GfGBAAAgIpZ8AkAvA9nbgFel1IrAAAAFbPgUysYAACgz4wJAAAAFbPg0w4MAOzZ9wQAAAAA+K9Z8KkVDADvwZlbgNem1AoAAEDFLPi0AwMAANBnxgQAAICKWfAJAABAn1IrAAAAFbPgUysYALbOsO/pzC3A6zNjAgAAQMUs+LQDAwAAAAAAABxlFnxqBQMAAPQptQIAAFAxCz7twAAAAPSZMQEAAKBiFnwCADv2PQE4ilIrAAAAFbPgUysYAACgz4wJAAAAFbPg0w4MAAAAAAAAcJRZ8KkVDAAbztwCcCSlVgAAACpmwacdGAAAgD4zJgAAAFTMgk8AAAD6lFoBAAComAWfWsEAAAB9ZkwAAAComAWfdmAA4PHsewIAAAAA/N4s+NQKBgAA6FNqBQAAoGIWfNqBAQAA6DNjAgAAQMUs+AQAAKBPqRUAAICKWfCpFQwAj2XfE4BnMGMCAABAxSz4tAMDAAAAAAAAHGUWfGoFAwAA9Cm1AgAAUDELPu3AAAAA9JkxAQAAoGIWfAIAj2PfE4BnUWoFAACgYhZ8agUDAAD0mTEBAACgYhZ82oEBAAAAAAAAjjILPrWCAQAA+pRaAQAAqJgFn3ZgAOB12PcEeF9mTAAAAKiYBZ8AwGPcbtf7JwA4jFIrAAAAFbPgUysYAACgz4wJAAAAFbPg0w4MALwGZ24BAAAAgIJZ8KkVDAAA0KfUCgAAQMUs+LQDAwAA0GfGBAAAgIpZ8AkAAECfUisAAAAVs+BTKxgAfu52u94/AcChzJgAAABQMQs+7cAAAAAAAAAAR5kFn1rBANB3uXzcPwHwZpRaAQAAqJgFn3ZgAAAA+syYAAAAUDELPgEAAOhTagUAAKBiFnxqBQPAz9xu1/snADicGRMAAAAqZsGnHRgAAAAAAADgKLPgUysYAACgT6kVAACAilnwaQcGANoul4/7JwDekBkTAAAAKmbBJwAAAH1KrQAAAFTMgk+tYAAAgD4zJgAAAFTMgk87MADwfbfb9f4JAAAAAIA/mAWfWsEAAAB9Sq0AAABUzIJPOzAAAAB9ZkwAAAComAWfAEDX5fJx/wTAm1JqBQAAoGIWfGoFAwAA9JkxAQAAoGIWfNqBAQAAAAAAAI4yCz61ggHge2636/0TADyNUisAAAAVs+DTDgwAAECfGRMAAAAqZsEnANB0uXzcPwHwxpRaAQAAqJgFn1rBAAAAfWZMAAAAqJgFn3ZgAAAAAAAAgKPMgk+tYAAAgD6lVgAAACpmwacdGAAAgD4zJgAAAFTMgk8A4Otut+v9EwA8lVIrAAAAFbPgUysYAACgz4wJAAAAFbPg0w4MAPRcLh/3TwAAAAAACbPgUysYAACgT6kVAACAilnwaQcGAACgz4wJAAAAFbPgEwAAgD6lVgAAACpmwadWMAAAQJ8ZEwAAACpmwacdGAD4mtvtev8EAAAAAMAnzYJPrWAAAIA+pVYAAAAqZsGnHRgAaLlcPu6fAMCMCQAAABmz4BMAAIA+pVYAAAAqZsGnVjAAAECfGRMAAAAqZsGnHRgAAAAAAADgKLPgUysYAD7vdrvePwHAKSi1AgAAUDELPu3AAAAA9JkxAQAAoGIWfAIAANCn1AoAAEDFLPjUCgaAjsvl4/4JAH79MmMCAABAyCz4tAMDAAAAAAAAHGUWfGoFA8Dn3G7X+ycAOA2lVgAAACpmwacdGAAAgD4zJgAAAFTMgk8AAAD6lFoBAAComAWfWsEA0HC5fNw/AcD/mDEBAACgYhZ82oEBAAAAAAAAjjILPrWCAeDf3W7X+ycAOBWlVgAAACpmwacdGAAAgD4zJgAAAFTMgk8AAAD6lFoBAAComAWfWsEAcH6Xy8f9EwD8HzMmAAAAVMyCTzswAAAAAAAAwFFmwadWMAD82e12vX8CgNNRagUAAKBiFnzagQEAAOgzYwIAAEDFfwDYDyV1XL0cWwAAAABJRU5ErkJggg==)"
      ],
      "metadata": {
        "id": "AfK9D0B62U4q"
      }
    }
  ]
}