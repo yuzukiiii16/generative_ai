{
  "nbformat": 4,
  "nbformat_minor": 0,
  "metadata": {
    "colab": {
      "provenance": [],
      "authorship_tag": "ABX9TyOeZPYX1FOEUPtVOlCSoSl+",
      "include_colab_link": true
    },
    "kernelspec": {
      "name": "python3",
      "display_name": "Python 3"
    },
    "language_info": {
      "name": "python"
    }
  },
  "cells": [
    {
      "cell_type": "markdown",
      "metadata": {
        "id": "view-in-github",
        "colab_type": "text"
      },
      "source": [
        "<a href=\"https://colab.research.google.com/github/yuzukiiii16/generative_ai/blob/main/%E5%9C%A8colab%E4%B8%8A%E4%BD%BF%E7%94%A8fooocus%E9%80%A3%E7%B5%90.ipynb\" target=\"_parent\"><img src=\"https://colab.research.google.com/assets/colab-badge.svg\" alt=\"Open In Colab\"/></a>"
      ]
    },
    {
      "cell_type": "markdown",
      "source": [
        "連結如下"
      ],
      "metadata": {
        "id": "hYlvkrBmWaPV"
      }
    },
    {
      "cell_type": "markdown",
      "source": [
        "https://colab.research.google.com/drive/17MuP4_XstBx5uTuO1fpIXyhkBkN9uQXd?usp=sharing"
      ],
      "metadata": {
        "id": "8Kvr3zBaWcvw"
      }
    }
  ]
}